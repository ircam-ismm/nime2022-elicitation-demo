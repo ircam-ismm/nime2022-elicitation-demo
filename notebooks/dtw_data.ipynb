{
 "cells": [
  {
   "cell_type": "markdown",
   "id": "6b7471ec-5c3f-4a44-8450-471ee7a6db56",
   "metadata": {},
   "source": [
    "# dtw data"
   ]
  },
  {
   "cell_type": "code",
   "execution_count": 13,
   "id": "6e2d84c6-7ee1-4808-a8d3-4788e85e6564",
   "metadata": {},
   "outputs": [],
   "source": [
    "from nbimports import *"
   ]
  },
  {
   "cell_type": "code",
   "execution_count": 14,
   "id": "be4e33c8-92f5-4e5d-b728-8328c8895f5c",
   "metadata": {},
   "outputs": [],
   "source": [
    "# filename = \"../data/user/data_06052022_152442.csv\"\n",
    "filename = \"../data/user/data_09052022_162702.csv\""
   ]
  },
  {
   "cell_type": "code",
   "execution_count": 15,
   "id": "3df4007c-7d55-416f-a9c4-7e10932a18d5",
   "metadata": {},
   "outputs": [],
   "source": [
    "data = pd.read_csv(filename, index_col=0)\n",
    "data.columns = ['source', 'data']"
   ]
  },
  {
   "cell_type": "code",
   "execution_count": 16,
   "id": "40092547-176a-4168-8f0f-df95c3447ffd",
   "metadata": {},
   "outputs": [],
   "source": [
    "rows = []\n",
    "\n",
    "for i, row in select(data, source='/dtw').iterrows():\n",
    "    row = eval(row['data'])\n",
    "    rows.append(row)"
   ]
  },
  {
   "cell_type": "code",
   "execution_count": 17,
   "id": "3d22d16b-c2b7-44d3-9795-c9ef055ff51f",
   "metadata": {},
   "outputs": [],
   "source": [
    "df = pd.DataFrame(rows)"
   ]
  },
  {
   "cell_type": "code",
   "execution_count": 18,
   "id": "7ea09a47-0d5e-46af-a36d-c70d8a7a3fdb",
   "metadata": {},
   "outputs": [
    {
     "data": {
      "text/html": [
       "<div>\n",
       "<style scoped>\n",
       "    .dataframe tbody tr th:only-of-type {\n",
       "        vertical-align: middle;\n",
       "    }\n",
       "\n",
       "    .dataframe tbody tr th {\n",
       "        vertical-align: top;\n",
       "    }\n",
       "\n",
       "    .dataframe thead th {\n",
       "        text-align: right;\n",
       "    }\n",
       "</style>\n",
       "<table border=\"1\" class=\"dataframe\">\n",
       "  <thead>\n",
       "    <tr style=\"text-align: right;\">\n",
       "      <th></th>\n",
       "      <th>then</th>\n",
       "      <th>segment_id</th>\n",
       "      <th>best_id</th>\n",
       "      <th>min_dtw</th>\n",
       "      <th>now</th>\n",
       "    </tr>\n",
       "  </thead>\n",
       "  <tbody>\n",
       "    <tr>\n",
       "      <th>0</th>\n",
       "      <td>29661.293551</td>\n",
       "      <td>0</td>\n",
       "      <td>0</td>\n",
       "      <td>10000.000000</td>\n",
       "      <td>29350.851712</td>\n",
       "    </tr>\n",
       "    <tr>\n",
       "      <th>1</th>\n",
       "      <td>29883.932778</td>\n",
       "      <td>1</td>\n",
       "      <td>0</td>\n",
       "      <td>15.799837</td>\n",
       "      <td>29573.648235</td>\n",
       "    </tr>\n",
       "  </tbody>\n",
       "</table>\n",
       "</div>"
      ],
      "text/plain": [
       "           then  segment_id best_id       min_dtw           now\n",
       "0  29661.293551           0       0  10000.000000  29350.851712\n",
       "1  29883.932778           1       0     15.799837  29573.648235"
      ]
     },
     "execution_count": 18,
     "metadata": {},
     "output_type": "execute_result"
    }
   ],
   "source": [
    "df.head(2)"
   ]
  },
  {
   "cell_type": "code",
   "execution_count": 19,
   "id": "14879091-d9fa-4918-a307-6f4aea71e32f",
   "metadata": {},
   "outputs": [],
   "source": [
    "x = np.linspace(0, 10, 100)\n",
    "y = [np.count_nonzero(df['min_dtw'] < xi) for xi in x]"
   ]
  },
  {
   "cell_type": "code",
   "execution_count": 20,
   "id": "c5efd926-9487-4d42-9c27-cf92b04ea187",
   "metadata": {},
   "outputs": [
    {
     "data": {
      "text/plain": [
       "[<matplotlib.lines.Line2D at 0x7fd60552a750>]"
      ]
     },
     "execution_count": 20,
     "metadata": {},
     "output_type": "execute_result"
    },
    {
     "data": {
      "image/png": "[encoded data removed]",
      "text/plain": [
       "<Figure size 432x288 with 1 Axes>"
      ]
     },
     "metadata": {
      "needs_background": "light"
     },
     "output_type": "display_data"
    }
   ],
   "source": [
    "plt.plot(x, y)"
   ]
  },
  {
   "cell_type": "code",
   "execution_count": 22,
   "id": "26adf089-acb2-41a9-977a-055fa187c263",
   "metadata": {},
   "outputs": [
    {
     "data": {
      "text/html": [
       "<div>\n",
       "<style scoped>\n",
       "    .dataframe tbody tr th:only-of-type {\n",
       "        vertical-align: middle;\n",
       "    }\n",
       "\n",
       "    .dataframe tbody tr th {\n",
       "        vertical-align: top;\n",
       "    }\n",
       "\n",
       "    .dataframe thead th {\n",
       "        text-align: right;\n",
       "    }\n",
       "</style>\n",
       "<table border=\"1\" class=\"dataframe\">\n",
       "  <thead>\n",
       "    <tr style=\"text-align: right;\">\n",
       "      <th></th>\n",
       "      <th>then</th>\n",
       "      <th>segment_id</th>\n",
       "      <th>best_id</th>\n",
       "      <th>min_dtw</th>\n",
       "      <th>now</th>\n",
       "    </tr>\n",
       "  </thead>\n",
       "  <tbody>\n",
       "    <tr>\n",
       "      <th>0</th>\n",
       "      <td>29661.293551</td>\n",
       "      <td>0</td>\n",
       "      <td>0</td>\n",
       "      <td>10000.000000</td>\n",
       "      <td>29350.851712</td>\n",
       "    </tr>\n",
       "    <tr>\n",
       "      <th>1</th>\n",
       "      <td>29883.932778</td>\n",
       "      <td>1</td>\n",
       "      <td>0</td>\n",
       "      <td>15.799837</td>\n",
       "      <td>29573.648235</td>\n",
       "    </tr>\n",
       "    <tr>\n",
       "      <th>2</th>\n",
       "      <td>30132.686706</td>\n",
       "      <td>2</td>\n",
       "      <td>1</td>\n",
       "      <td>5.605574</td>\n",
       "      <td>29823.300922</td>\n",
       "    </tr>\n",
       "    <tr>\n",
       "      <th>3</th>\n",
       "      <td>30395.407441</td>\n",
       "      <td>3</td>\n",
       "      <td>1</td>\n",
       "      <td>2.721854</td>\n",
       "      <td>30087.429911</td>\n",
       "    </tr>\n",
       "    <tr>\n",
       "      <th>4</th>\n",
       "      <td>30745.166887</td>\n",
       "      <td>4</td>\n",
       "      <td>2</td>\n",
       "      <td>0.952565</td>\n",
       "      <td>30438.067078</td>\n",
       "    </tr>\n",
       "  </tbody>\n",
       "</table>\n",
       "</div>"
      ],
      "text/plain": [
       "           then  segment_id best_id       min_dtw           now\n",
       "0  29661.293551           0       0  10000.000000  29350.851712\n",
       "1  29883.932778           1       0     15.799837  29573.648235\n",
       "2  30132.686706           2       1      5.605574  29823.300922\n",
       "3  30395.407441           3       1      2.721854  30087.429911\n",
       "4  30745.166887           4       2      0.952565  30438.067078"
      ]
     },
     "execution_count": 22,
     "metadata": {},
     "output_type": "execute_result"
    }
   ],
   "source": [
    "df.head()"
   ]
  },
  {
   "cell_type": "code",
   "execution_count": 26,
   "id": "c6c5e7a7-0dd4-412c-85db-532ba27b6469",
   "metadata": {},
   "outputs": [],
   "source": [
    "segment_graph = {}\n",
    "for i, row in df.iterrows():\n",
    "    si = int(row['segment_id'])\n",
    "    bi = int(row['best_id'])\n",
    "    md = row['min_dtw']\n",
    "\n",
    "    # print(si, bi, segment_graph)\n",
    "\n",
    "    if si == 0:\n",
    "        segment_graph[si] = []\n",
    "    if md < 2:\n",
    "        segment_graph[bi].append(si)\n",
    "    else:\n",
    "        segment_graph[si] = []"
   ]
  },
  {
   "cell_type": "code",
   "execution_count": 27,
   "id": "91c4f2ca-29dc-4b3e-9e88-c2866da7a0ab",
   "metadata": {},
   "outputs": [
    {
     "data": {
      "text/plain": [
       "{0: [],\n",
       " 1: [],\n",
       " 2: [4, 5],\n",
       " 3: [],\n",
       " 6: [8],\n",
       " 7: [],\n",
       " 9: [12],\n",
       " 10: [13, 16, 18],\n",
       " 11: [17, 63],\n",
       " 14: [],\n",
       " 15: [],\n",
       " 19: [],\n",
       " 20: [],\n",
       " 21: [27, 32],\n",
       " 22: [68],\n",
       " 23: [29, 50],\n",
       " 24: [],\n",
       " 25: [],\n",
       " 26: [31],\n",
       " 28: [],\n",
       " 30: [],\n",
       " 33: [],\n",
       " 34: [],\n",
       " 35: [],\n",
       " 36: [],\n",
       " 37: [],\n",
       " 38: [],\n",
       " 39: [],\n",
       " 40: [],\n",
       " 41: [],\n",
       " 42: [],\n",
       " 43: [],\n",
       " 44: [],\n",
       " 45: [],\n",
       " 46: [],\n",
       " 47: [],\n",
       " 48: [],\n",
       " 49: [],\n",
       " 51: [],\n",
       " 52: [],\n",
       " 53: [],\n",
       " 54: [],\n",
       " 55: [],\n",
       " 56: [],\n",
       " 57: [],\n",
       " 58: [],\n",
       " 59: [],\n",
       " 60: [],\n",
       " 61: [],\n",
       " 62: [],\n",
       " 64: [],\n",
       " 65: [],\n",
       " 66: [],\n",
       " 67: [],\n",
       " 69: [],\n",
       " 70: [],\n",
       " 71: [],\n",
       " 72: [],\n",
       " 73: [],\n",
       " 74: [],\n",
       " 75: [76],\n",
       " 76: [],\n",
       " 77: [],\n",
       " 78: [],\n",
       " 79: [],\n",
       " 80: [],\n",
       " 81: [],\n",
       " 82: [],\n",
       " 83: [],\n",
       " 84: [],\n",
       " 85: [],\n",
       " 86: [],\n",
       " 87: [],\n",
       " 88: [],\n",
       " 89: [],\n",
       " 90: [],\n",
       " 91: [],\n",
       " 92: [],\n",
       " 93: [],\n",
       " 94: [],\n",
       " 95: [],\n",
       " 96: [],\n",
       " 97: [],\n",
       " 98: [],\n",
       " 99: [],\n",
       " 100: [],\n",
       " 101: [],\n",
       " 102: [],\n",
       " 103: [],\n",
       " 104: [],\n",
       " 105: [],\n",
       " 106: [],\n",
       " 107: [],\n",
       " 108: [],\n",
       " 109: [],\n",
       " 110: [],\n",
       " 111: [],\n",
       " 112: [],\n",
       " 113: [],\n",
       " 114: [],\n",
       " 115: [],\n",
       " 116: [],\n",
       " 117: [],\n",
       " 118: [],\n",
       " 119: [],\n",
       " 120: [],\n",
       " 121: [],\n",
       " 122: [],\n",
       " 123: [],\n",
       " 124: [],\n",
       " 125: [],\n",
       " 126: [],\n",
       " 127: [],\n",
       " 128: [],\n",
       " 129: [],\n",
       " 130: [],\n",
       " 131: [],\n",
       " 132: [],\n",
       " 133: [],\n",
       " 134: [],\n",
       " 135: [],\n",
       " 136: [],\n",
       " 137: [],\n",
       " 138: [],\n",
       " 139: [],\n",
       " 140: [],\n",
       " 141: [],\n",
       " 142: [],\n",
       " 143: [],\n",
       " 144: [],\n",
       " 145: [],\n",
       " 146: [],\n",
       " 147: [],\n",
       " 148: [],\n",
       " 149: [],\n",
       " 150: [],\n",
       " 151: [],\n",
       " 152: [],\n",
       " 153: [],\n",
       " 154: [],\n",
       " 155: [],\n",
       " 156: [],\n",
       " 157: [],\n",
       " 158: [],\n",
       " 159: [],\n",
       " 160: [],\n",
       " 161: [],\n",
       " 162: [],\n",
       " 163: [],\n",
       " 164: [],\n",
       " 165: [],\n",
       " 166: [],\n",
       " 167: [],\n",
       " 168: [],\n",
       " 169: []}"
      ]
     },
     "execution_count": 27,
     "metadata": {},
     "output_type": "execute_result"
    }
   ],
   "source": [
    "segment_graph"
   ]
  },
  {
   "cell_type": "code",
   "execution_count": 45,
   "id": "d9b5e1b3-e33d-445f-b119-c260d3450469",
   "metadata": {},
   "outputs": [
    {
     "data": {
      "text/html": [
       "<div>\n",
       "<style scoped>\n",
       "    .dataframe tbody tr th:only-of-type {\n",
       "        vertical-align: middle;\n",
       "    }\n",
       "\n",
       "    .dataframe tbody tr th {\n",
       "        vertical-align: top;\n",
       "    }\n",
       "\n",
       "    .dataframe thead th {\n",
       "        text-align: right;\n",
       "    }\n",
       "</style>\n",
       "<table border=\"1\" class=\"dataframe\">\n",
       "  <thead>\n",
       "    <tr style=\"text-align: right;\">\n",
       "      <th></th>\n",
       "      <th>segment_id</th>\n",
       "      <th>best_id</th>\n",
       "      <th>min_dtw</th>\n",
       "      <th>ct</th>\n",
       "    </tr>\n",
       "  </thead>\n",
       "  <tbody>\n",
       "    <tr>\n",
       "      <th>20</th>\n",
       "      <td>18</td>\n",
       "      <td>6</td>\n",
       "      <td>7.511754</td>\n",
       "      <td>2.370102</td>\n",
       "    </tr>\n",
       "    <tr>\n",
       "      <th>21</th>\n",
       "      <td>19</td>\n",
       "      <td>7</td>\n",
       "      <td>1.274199</td>\n",
       "      <td>1.093439</td>\n",
       "    </tr>\n",
       "    <tr>\n",
       "      <th>22</th>\n",
       "      <td>20</td>\n",
       "      <td>9</td>\n",
       "      <td>0.894955</td>\n",
       "      <td>1.609786</td>\n",
       "    </tr>\n",
       "    <tr>\n",
       "      <th>23</th>\n",
       "      <td>21</td>\n",
       "      <td>10</td>\n",
       "      <td>10.934376</td>\n",
       "      <td>1.163047</td>\n",
       "    </tr>\n",
       "    <tr>\n",
       "      <th>24</th>\n",
       "      <td>22</td>\n",
       "      <td>8</td>\n",
       "      <td>0.223210</td>\n",
       "      <td>2.768278</td>\n",
       "    </tr>\n",
       "    <tr>\n",
       "      <th>25</th>\n",
       "      <td>23</td>\n",
       "      <td>8</td>\n",
       "      <td>0.179637</td>\n",
       "      <td>1.126778</td>\n",
       "    </tr>\n",
       "    <tr>\n",
       "      <th>26</th>\n",
       "      <td>24</td>\n",
       "      <td>8</td>\n",
       "      <td>0.258530</td>\n",
       "      <td>1.746942</td>\n",
       "    </tr>\n",
       "    <tr>\n",
       "      <th>27</th>\n",
       "      <td>25</td>\n",
       "      <td>8</td>\n",
       "      <td>0.630249</td>\n",
       "      <td>1.036349</td>\n",
       "    </tr>\n",
       "    <tr>\n",
       "      <th>28</th>\n",
       "      <td>26</td>\n",
       "      <td>8</td>\n",
       "      <td>3.098044</td>\n",
       "      <td>2.176244</td>\n",
       "    </tr>\n",
       "    <tr>\n",
       "      <th>29</th>\n",
       "      <td>27</td>\n",
       "      <td>7</td>\n",
       "      <td>6.092143</td>\n",
       "      <td>1.518056</td>\n",
       "    </tr>\n",
       "    <tr>\n",
       "      <th>30</th>\n",
       "      <td>28</td>\n",
       "      <td>8</td>\n",
       "      <td>0.055451</td>\n",
       "      <td>4.109091</td>\n",
       "    </tr>\n",
       "    <tr>\n",
       "      <th>31</th>\n",
       "      <td>29</td>\n",
       "      <td>9</td>\n",
       "      <td>8.141190</td>\n",
       "      <td>2.651191</td>\n",
       "    </tr>\n",
       "    <tr>\n",
       "      <th>32</th>\n",
       "      <td>30</td>\n",
       "      <td>6</td>\n",
       "      <td>6.866612</td>\n",
       "      <td>3.046703</td>\n",
       "    </tr>\n",
       "    <tr>\n",
       "      <th>33</th>\n",
       "      <td>31</td>\n",
       "      <td>19</td>\n",
       "      <td>5.071305</td>\n",
       "      <td>1.723490</td>\n",
       "    </tr>\n",
       "    <tr>\n",
       "      <th>34</th>\n",
       "      <td>32</td>\n",
       "      <td>6</td>\n",
       "      <td>3.531323</td>\n",
       "      <td>1.163719</td>\n",
       "    </tr>\n",
       "    <tr>\n",
       "      <th>35</th>\n",
       "      <td>32</td>\n",
       "      <td>9</td>\n",
       "      <td>5.573948</td>\n",
       "      <td>2.652511</td>\n",
       "    </tr>\n",
       "    <tr>\n",
       "      <th>36</th>\n",
       "      <td>33</td>\n",
       "      <td>21</td>\n",
       "      <td>2.750588</td>\n",
       "      <td>1.678509</td>\n",
       "    </tr>\n",
       "    <tr>\n",
       "      <th>37</th>\n",
       "      <td>34</td>\n",
       "      <td>19</td>\n",
       "      <td>4.739566</td>\n",
       "      <td>4.478823</td>\n",
       "    </tr>\n",
       "    <tr>\n",
       "      <th>38</th>\n",
       "      <td>35</td>\n",
       "      <td>23</td>\n",
       "      <td>4.243265</td>\n",
       "      <td>1.695254</td>\n",
       "    </tr>\n",
       "    <tr>\n",
       "      <th>39</th>\n",
       "      <td>36</td>\n",
       "      <td>23</td>\n",
       "      <td>1.496133</td>\n",
       "      <td>2.008748</td>\n",
       "    </tr>\n",
       "  </tbody>\n",
       "</table>\n",
       "</div>"
      ],
      "text/plain": [
       "    segment_id best_id    min_dtw        ct\n",
       "20          18       6   7.511754  2.370102\n",
       "21          19       7   1.274199  1.093439\n",
       "22          20       9   0.894955  1.609786\n",
       "23          21      10  10.934376  1.163047\n",
       "24          22       8   0.223210  2.768278\n",
       "25          23       8   0.179637  1.126778\n",
       "26          24       8   0.258530  1.746942\n",
       "27          25       8   0.630249  1.036349\n",
       "28          26       8   3.098044  2.176244\n",
       "29          27       7   6.092143  1.518056\n",
       "30          28       8   0.055451  4.109091\n",
       "31          29       9   8.141190  2.651191\n",
       "32          30       6   6.866612  3.046703\n",
       "33          31      19   5.071305  1.723490\n",
       "34          32       6   3.531323  1.163719\n",
       "35          32       9   5.573948  2.652511\n",
       "36          33      21   2.750588  1.678509\n",
       "37          34      19   4.739566  4.478823\n",
       "38          35      23   4.243265  1.695254\n",
       "39          36      23   1.496133  2.008748"
      ]
     },
     "execution_count": 45,
     "metadata": {},
     "output_type": "execute_result"
    }
   ],
   "source": [
    "df.iloc[20:40]"
   ]
  },
  {
   "cell_type": "code",
   "execution_count": 41,
   "id": "2476ae59-fc38-4204-8578-dc2f8085c44a",
   "metadata": {},
   "outputs": [
    {
     "data": {
      "text/plain": [
       "segment_id      int64\n",
       "best_id        object\n",
       "min_dtw       float64\n",
       "ct            float64\n",
       "dtype: object"
      ]
     },
     "execution_count": 41,
     "metadata": {},
     "output_type": "execute_result"
    }
   ],
   "source": [
    "df.dtypes"
   ]
  },
  {
   "cell_type": "code",
   "execution_count": 40,
   "id": "40af7a5e-a9b6-4a5f-89a0-657370303b7d",
   "metadata": {},
   "outputs": [
    {
     "data": {
      "text/plain": [
       "4"
      ]
     },
     "execution_count": 40,
     "metadata": {},
     "output_type": "execute_result"
    }
   ],
   "source": [
    "si"
   ]
  },
  {
   "cell_type": "code",
   "execution_count": 39,
   "id": "38bff71c-4b7b-4b50-a809-ad454dd55624",
   "metadata": {},
   "outputs": [
    {
     "data": {
      "text/plain": [
       "'3'"
      ]
     },
     "execution_count": 39,
     "metadata": {},
     "output_type": "execute_result"
    }
   ],
   "source": [
    "bi"
   ]
  },
  {
   "cell_type": "code",
   "execution_count": 38,
   "id": "2e781715-9488-4dbd-a140-1088d073ea90",
   "metadata": {},
   "outputs": [
    {
     "data": {
      "text/plain": [
       "{0: [], 1: [], 2: [], 3: []}"
      ]
     },
     "execution_count": 38,
     "metadata": {},
     "output_type": "execute_result"
    }
   ],
   "source": [
    "segment_graph"
   ]
  },
  {
   "cell_type": "code",
   "execution_count": null,
   "id": "89f50ba8-0b05-49b6-8978-af1a2fa1c169",
   "metadata": {},
   "outputs": [],
   "source": []
  }
 ],
 "metadata": {
  "kernelspec": {
   "display_name": "Python 3 (ipykernel)",
   "language": "python",
   "name": "python3"
  },
  "language_info": {
   "codemirror_mode": {
    "name": "ipython",
    "version": 3
   },
   "file_extension": ".py",
   "mimetype": "text/x-python",
   "name": "python",
   "nbconvert_exporter": "python",
   "pygments_lexer": "ipython3",
   "version": "3.7.13"
  }
 },
 "nbformat": 4,
 "nbformat_minor": 5
}
