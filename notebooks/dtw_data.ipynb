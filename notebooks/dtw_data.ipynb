{
 "cells": [
  {
   "cell_type": "markdown",
   "id": "6b7471ec-5c3f-4a44-8450-471ee7a6db56",
   "metadata": {},
   "source": [
    "# dtw data"
   ]
  },
  {
   "cell_type": "code",
   "execution_count": 1,
   "id": "6e2d84c6-7ee1-4808-a8d3-4788e85e6564",
   "metadata": {},
   "outputs": [],
   "source": [
    "from nbimports import *"
   ]
  },
  {
   "cell_type": "code",
   "execution_count": 2,
   "id": "be4e33c8-92f5-4e5d-b728-8328c8895f5c",
   "metadata": {},
   "outputs": [],
   "source": [
    "# filename = \"../data/user/data_06052022_152442.csv\"\n",
    "filename = \"../data/user/data_11052022_170918.csv\""
   ]
  },
  {
   "cell_type": "code",
   "execution_count": 3,
   "id": "3df4007c-7d55-416f-a9c4-7e10932a18d5",
   "metadata": {},
   "outputs": [],
   "source": [
    "data = pd.read_csv(filename, index_col=0)\n",
    "data.columns = ['source', 'data']"
   ]
  },
  {
   "cell_type": "code",
   "execution_count": 4,
   "id": "40092547-176a-4168-8f0f-df95c3447ffd",
   "metadata": {},
   "outputs": [],
   "source": [
    "rows = []\n",
    "\n",
    "for i, row in select(data, source='/dtw').iterrows():\n",
    "    row = eval(row['data'])\n",
    "    rows.append(row)"
   ]
  },
  {
   "cell_type": "code",
   "execution_count": 5,
   "id": "3d22d16b-c2b7-44d3-9795-c9ef055ff51f",
   "metadata": {},
   "outputs": [],
   "source": [
    "df = pd.DataFrame(rows)"
   ]
  },
  {
   "cell_type": "code",
   "execution_count": 6,
   "id": "7ea09a47-0d5e-46af-a36d-c70d8a7a3fdb",
   "metadata": {},
   "outputs": [
    {
     "data": {
      "text/html": [
       "<div>\n",
       "<style scoped>\n",
       "    .dataframe tbody tr th:only-of-type {\n",
       "        vertical-align: middle;\n",
       "    }\n",
       "\n",
       "    .dataframe tbody tr th {\n",
       "        vertical-align: top;\n",
       "    }\n",
       "\n",
       "    .dataframe thead th {\n",
       "        text-align: right;\n",
       "    }\n",
       "</style>\n",
       "<table border=\"1\" class=\"dataframe\">\n",
       "  <thead>\n",
       "    <tr style=\"text-align: right;\">\n",
       "      <th></th>\n",
       "      <th>then</th>\n",
       "      <th>fl</th>\n",
       "      <th>segment_id</th>\n",
       "      <th>worker_0</th>\n",
       "      <th>best_id</th>\n",
       "      <th>min_dtw</th>\n",
       "      <th>min_dtw_pond</th>\n",
       "      <th>worker_1</th>\n",
       "    </tr>\n",
       "  </thead>\n",
       "  <tbody>\n",
       "    <tr>\n",
       "      <th>0</th>\n",
       "      <td>21994.077320</td>\n",
       "      <td>56</td>\n",
       "      <td>0</td>\n",
       "      <td>21678.651521</td>\n",
       "      <td>0</td>\n",
       "      <td>10000.000000</td>\n",
       "      <td>10000.000000</td>\n",
       "      <td>21678.750302</td>\n",
       "    </tr>\n",
       "    <tr>\n",
       "      <th>1</th>\n",
       "      <td>22251.203052</td>\n",
       "      <td>26</td>\n",
       "      <td>1</td>\n",
       "      <td>21934.523762</td>\n",
       "      <td>1</td>\n",
       "      <td>10.540045</td>\n",
       "      <td>0.257074</td>\n",
       "      <td>21936.338850</td>\n",
       "    </tr>\n",
       "  </tbody>\n",
       "</table>\n",
       "</div>"
      ],
      "text/plain": [
       "           then  fl  segment_id      worker_0  best_id       min_dtw  \\\n",
       "0  21994.077320  56           0  21678.651521        0  10000.000000   \n",
       "1  22251.203052  26           1  21934.523762        1     10.540045   \n",
       "\n",
       "   min_dtw_pond      worker_1  \n",
       "0  10000.000000  21678.750302  \n",
       "1      0.257074  21936.338850  "
      ]
     },
     "execution_count": 6,
     "metadata": {},
     "output_type": "execute_result"
    }
   ],
   "source": [
    "df.head(2)"
   ]
  },
  {
   "cell_type": "code",
   "execution_count": 7,
   "id": "b17aea3a-5be4-4327-b510-5b3ff539c423",
   "metadata": {},
   "outputs": [],
   "source": [
    "df['min_dtw_pond'] = df['min_dtw']/df['fl']"
   ]
  },
  {
   "cell_type": "code",
   "execution_count": 8,
   "id": "096c336e-ce75-4081-9fea-fc0798d2c913",
   "metadata": {},
   "outputs": [
    {
     "data": {
      "text/plain": [
       "<AxesSubplot:xlabel='fl', ylabel='min_dtw'>"
      ]
     },
     "execution_count": 8,
     "metadata": {},
     "output_type": "execute_result"
    },
    {
     "data": {
      "image/png": "[encoded data removed]",
      "text/plain": [
       "<Figure size 432x288 with 1 Axes>"
      ]
     },
     "metadata": {
      "needs_background": "light"
     },
     "output_type": "display_data"
    }
   ],
   "source": [
    "sns.scatterplot(data=df.iloc[1:], x='fl', y='min_dtw')"
   ]
  },
  {
   "cell_type": "code",
   "execution_count": 9,
   "id": "112f6bc5-9fbf-42e9-8cfd-177f50c7e4e9",
   "metadata": {},
   "outputs": [
    {
     "data": {
      "text/plain": [
       "<AxesSubplot:xlabel='fl', ylabel='min_dtw_pond'>"
      ]
     },
     "execution_count": 9,
     "metadata": {},
     "output_type": "execute_result"
    },
    {
     "data": {
      "image/png": "[encoded data removed]",
      "text/plain": [
       "<Figure size 432x288 with 1 Axes>"
      ]
     },
     "metadata": {
      "needs_background": "light"
     },
     "output_type": "display_data"
    }
   ],
   "source": [
    "sns.scatterplot(data=df.iloc[1:], x='fl', y='min_dtw_pond')"
   ]
  },
  {
   "cell_type": "code",
   "execution_count": 15,
   "id": "24078f4e-766a-46ef-a565-387548c34be9",
   "metadata": {},
   "outputs": [
    {
     "data": {
      "text/plain": [
       "<AxesSubplot:>"
      ]
     },
     "execution_count": 15,
     "metadata": {},
     "output_type": "execute_result"
    },
    {
     "data": {
      "image/png": "[encoded data removed]",
      "text/plain": [
       "<Figure size 432x288 with 1 Axes>"
      ]
     },
     "metadata": {
      "needs_background": "light"
     },
     "output_type": "display_data"
    }
   ],
   "source": [
    "df['then'].diff().hist(range=(0, 2000))"
   ]
  },
  {
   "cell_type": "code",
   "execution_count": 24,
   "id": "96df8bfd-016d-4685-8125-8a3d46c94f8f",
   "metadata": {},
   "outputs": [
    {
     "data": {
      "text/plain": [
       "<AxesSubplot:xlabel='min_dtw_pond', ylabel='Count'>"
      ]
     },
     "execution_count": 24,
     "metadata": {},
     "output_type": "execute_result"
    },
    {
     "data": {
      "image/png": "[encoded data removed]",
      "text/plain": [
       "<Figure size 432x288 with 1 Axes>"
      ]
     },
     "metadata": {
      "needs_background": "light"
     },
     "output_type": "display_data"
    }
   ],
   "source": [
    "sns.histplot(data=df.iloc[1:], x='min_dtw_pond')"
   ]
  },
  {
   "cell_type": "code",
   "execution_count": 23,
   "id": "0f7c4671-7e11-49a2-8e50-985b860f05b2",
   "metadata": {},
   "outputs": [
    {
     "data": {
      "text/plain": [
       "<AxesSubplot:xlabel='min_dtw', ylabel='Count'>"
      ]
     },
     "execution_count": 23,
     "metadata": {},
     "output_type": "execute_result"
    },
    {
     "data": {
      "image/png": "[encoded data removed]",
      "text/plain": [
       "<Figure size 432x288 with 1 Axes>"
      ]
     },
     "metadata": {
      "needs_background": "light"
     },
     "output_type": "display_data"
    }
   ],
   "source": [
    "sns.histplot(data=df.iloc[1:], x='min_dtw')"
   ]
  },
  {
   "cell_type": "code",
   "execution_count": null,
   "id": "fe0435e1-6a71-40de-9077-a91392213327",
   "metadata": {},
   "outputs": [],
   "source": []
  },
  {
   "cell_type": "code",
   "execution_count": 13,
   "id": "1fba195f-5aee-49a5-b8b2-37cdc43ec7a5",
   "metadata": {},
   "outputs": [
    {
     "data": {
      "text/html": [
       "<div>\n",
       "<style scoped>\n",
       "    .dataframe tbody tr th:only-of-type {\n",
       "        vertical-align: middle;\n",
       "    }\n",
       "\n",
       "    .dataframe tbody tr th {\n",
       "        vertical-align: top;\n",
       "    }\n",
       "\n",
       "    .dataframe thead th {\n",
       "        text-align: right;\n",
       "    }\n",
       "</style>\n",
       "<table border=\"1\" class=\"dataframe\">\n",
       "  <thead>\n",
       "    <tr style=\"text-align: right;\">\n",
       "      <th></th>\n",
       "      <th>then</th>\n",
       "      <th>fl</th>\n",
       "      <th>segment_id</th>\n",
       "      <th>worker_0</th>\n",
       "      <th>best_id</th>\n",
       "      <th>min_dtw</th>\n",
       "      <th>min_dtw_pond</th>\n",
       "      <th>worker_1</th>\n",
       "    </tr>\n",
       "  </thead>\n",
       "  <tbody>\n",
       "  </tbody>\n",
       "</table>\n",
       "</div>"
      ],
      "text/plain": [
       "Empty DataFrame\n",
       "Columns: [then, fl, segment_id, worker_0, best_id, min_dtw, min_dtw_pond, worker_1]\n",
       "Index: []"
      ]
     },
     "execution_count": 13,
     "metadata": {},
     "output_type": "execute_result"
    }
   ],
   "source": [
    "df[df.duplicated(subset=['segment_id'])]"
   ]
  },
  {
   "cell_type": "code",
   "execution_count": 8,
   "id": "14879091-d9fa-4918-a307-6f4aea71e32f",
   "metadata": {},
   "outputs": [],
   "source": [
    "x = np.linspace(0, 10, 100)\n",
    "y = [np.count_nonzero(df['min_dtw'] < xi) for xi in x]"
   ]
  },
  {
   "cell_type": "code",
   "execution_count": 9,
   "id": "c5efd926-9487-4d42-9c27-cf92b04ea187",
   "metadata": {},
   "outputs": [
    {
     "data": {
      "text/plain": [
       "[<matplotlib.lines.Line2D at 0x7fe9064a3190>]"
      ]
     },
     "execution_count": 9,
     "metadata": {},
     "output_type": "execute_result"
    },
    {
     "data": {
      "image/png": "[encoded data removed]",
      "text/plain": [
       "<Figure size 432x288 with 1 Axes>"
      ]
     },
     "metadata": {
      "needs_background": "light"
     },
     "output_type": "display_data"
    }
   ],
   "source": [
    "plt.plot(x, y)"
   ]
  },
  {
   "cell_type": "code",
   "execution_count": 9,
   "id": "2a98a191-0f84-4fdf-85e0-501f1accd90d",
   "metadata": {},
   "outputs": [
    {
     "data": {
      "text/plain": [
       "<AxesSubplot:>"
      ]
     },
     "execution_count": 9,
     "metadata": {},
     "output_type": "execute_result"
    },
    {
     "data": {
      "image/png": "[encoded data removed]",
      "text/plain": [
       "<Figure size 432x288 with 1 Axes>"
      ]
     },
     "metadata": {
      "needs_background": "light"
     },
     "output_type": "display_data"
    }
   ],
   "source": [
    "df['min_dtw'].hist(range=[0, 20])"
   ]
  },
  {
   "cell_type": "code",
   "execution_count": 10,
   "id": "26adf089-acb2-41a9-977a-055fa187c263",
   "metadata": {},
   "outputs": [
    {
     "data": {
      "text/html": [
       "<div>\n",
       "<style scoped>\n",
       "    .dataframe tbody tr th:only-of-type {\n",
       "        vertical-align: middle;\n",
       "    }\n",
       "\n",
       "    .dataframe tbody tr th {\n",
       "        vertical-align: top;\n",
       "    }\n",
       "\n",
       "    .dataframe thead th {\n",
       "        text-align: right;\n",
       "    }\n",
       "</style>\n",
       "<table border=\"1\" class=\"dataframe\">\n",
       "  <thead>\n",
       "    <tr style=\"text-align: right;\">\n",
       "      <th></th>\n",
       "      <th>then</th>\n",
       "      <th>fl</th>\n",
       "      <th>segment_id</th>\n",
       "      <th>worker_0</th>\n",
       "      <th>best_id</th>\n",
       "      <th>min_dtw</th>\n",
       "      <th>min_dtw_pond</th>\n",
       "      <th>worker_1</th>\n",
       "    </tr>\n",
       "  </thead>\n",
       "  <tbody>\n",
       "    <tr>\n",
       "      <th>0</th>\n",
       "      <td>2377.758190</td>\n",
       "      <td>48</td>\n",
       "      <td>0</td>\n",
       "      <td>1928.112314</td>\n",
       "      <td>0</td>\n",
       "      <td>10000.000000</td>\n",
       "      <td>10000.000000</td>\n",
       "      <td>1928.186541</td>\n",
       "    </tr>\n",
       "    <tr>\n",
       "      <th>1</th>\n",
       "      <td>2817.418411</td>\n",
       "      <td>43</td>\n",
       "      <td>1</td>\n",
       "      <td>2366.346820</td>\n",
       "      <td>1</td>\n",
       "      <td>18.155112</td>\n",
       "      <td>0.399013</td>\n",
       "      <td>2367.970387</td>\n",
       "    </tr>\n",
       "    <tr>\n",
       "      <th>2</th>\n",
       "      <td>3577.613964</td>\n",
       "      <td>76</td>\n",
       "      <td>2</td>\n",
       "      <td>3126.571531</td>\n",
       "      <td>1</td>\n",
       "      <td>2.745259</td>\n",
       "      <td>0.046139</td>\n",
       "      <td>3139.652775</td>\n",
       "    </tr>\n",
       "    <tr>\n",
       "      <th>3</th>\n",
       "      <td>3939.165794</td>\n",
       "      <td>37</td>\n",
       "      <td>3</td>\n",
       "      <td>3488.080969</td>\n",
       "      <td>1</td>\n",
       "      <td>2.147943</td>\n",
       "      <td>0.053699</td>\n",
       "      <td>3488.430225</td>\n",
       "    </tr>\n",
       "    <tr>\n",
       "      <th>4</th>\n",
       "      <td>4418.363191</td>\n",
       "      <td>48</td>\n",
       "      <td>4</td>\n",
       "      <td>3967.355103</td>\n",
       "      <td>1</td>\n",
       "      <td>2.155334</td>\n",
       "      <td>0.047370</td>\n",
       "      <td>3968.029177</td>\n",
       "    </tr>\n",
       "  </tbody>\n",
       "</table>\n",
       "</div>"
      ],
      "text/plain": [
       "          then  fl  segment_id     worker_0  best_id       min_dtw  \\\n",
       "0  2377.758190  48           0  1928.112314        0  10000.000000   \n",
       "1  2817.418411  43           1  2366.346820        1     18.155112   \n",
       "2  3577.613964  76           2  3126.571531        1      2.745259   \n",
       "3  3939.165794  37           3  3488.080969        1      2.147943   \n",
       "4  4418.363191  48           4  3967.355103        1      2.155334   \n",
       "\n",
       "   min_dtw_pond     worker_1  \n",
       "0  10000.000000  1928.186541  \n",
       "1      0.399013  2367.970387  \n",
       "2      0.046139  3139.652775  \n",
       "3      0.053699  3488.430225  \n",
       "4      0.047370  3968.029177  "
      ]
     },
     "execution_count": 10,
     "metadata": {},
     "output_type": "execute_result"
    }
   ],
   "source": [
    "df.head()"
   ]
  },
  {
   "cell_type": "code",
   "execution_count": 26,
   "id": "c6c5e7a7-0dd4-412c-85db-532ba27b6469",
   "metadata": {},
   "outputs": [],
   "source": [
    "segment_graph = {}\n",
    "for i, row in df.iterrows():\n",
    "    si = int(row['segment_id'])\n",
    "    bi = int(row['best_id'])\n",
    "    md = row['min_dtw']\n",
    "\n",
    "    # print(si, bi, segment_graph)\n",
    "\n",
    "    if si == 0:\n",
    "        segment_graph[si] = []\n",
    "    if md < 2:\n",
    "        segment_graph[bi].append(si)\n",
    "    else:\n",
    "        segment_graph[si] = []"
   ]
  },
  {
   "cell_type": "code",
   "execution_count": null,
   "id": "03a7bae4-7d08-44d7-8528-3b8c66ab0197",
   "metadata": {},
   "outputs": [],
   "source": []
  },
  {
   "cell_type": "code",
   "execution_count": null,
   "id": "fe6d7915-cecb-4854-9947-be4fd351b4e0",
   "metadata": {},
   "outputs": [],
   "source": []
  },
  {
   "cell_type": "markdown",
   "id": "3660d568-bd16-4e49-993d-cefc8f1119c1",
   "metadata": {},
   "source": [
    "## JS DTW"
   ]
  },
  {
   "cell_type": "code",
   "execution_count": null,
   "id": "2856a596-37d7-440b-afd7-6a862f3c2934",
   "metadata": {},
   "outputs": [],
   "source": []
  }
 ],
 "metadata": {
  "kernelspec": {
   "display_name": "Python 3 (ipykernel)",
   "language": "python",
   "name": "python3"
  },
  "language_info": {
   "codemirror_mode": {
    "name": "ipython",
    "version": 3
   },
   "file_extension": ".py",
   "mimetype": "text/x-python",
   "name": "python",
   "nbconvert_exporter": "python",
   "pygments_lexer": "ipython3",
   "version": "3.7.13"
  }
 },
 "nbformat": 4,
 "nbformat_minor": 5
}
