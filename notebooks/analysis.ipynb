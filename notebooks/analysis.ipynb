{
 "cells": [
  {
   "cell_type": "code",
   "execution_count": 1,
   "id": "2cde70a8-ac81-49de-b638-6c59a7d54fea",
   "metadata": {},
   "outputs": [],
   "source": [
    "from nbimports import *"
   ]
  },
  {
   "cell_type": "code",
   "execution_count": 2,
   "id": "1dda4426-9a9f-498c-aab9-49e32dc91e94",
   "metadata": {},
   "outputs": [],
   "source": [
    "filename = \"../data/user/data_26042022_182920.csv\""
   ]
  },
  {
   "cell_type": "code",
   "execution_count": 3,
   "id": "d143c415-4662-4713-8e0e-0c24e93e0897",
   "metadata": {},
   "outputs": [],
   "source": [
    "data = pd.read_csv(filename, index_col=0)\n",
    "data.columns = ['source', 'data']"
   ]
  },
  {
   "cell_type": "code",
   "execution_count": 4,
   "id": "cafe29c4-861d-4f5b-9bf1-5da6eac06683",
   "metadata": {},
   "outputs": [
    {
     "data": {
      "text/html": [
       "<div>\n",
       "<style scoped>\n",
       "    .dataframe tbody tr th:only-of-type {\n",
       "        vertical-align: middle;\n",
       "    }\n",
       "\n",
       "    .dataframe tbody tr th {\n",
       "        vertical-align: top;\n",
       "    }\n",
       "\n",
       "    .dataframe thead th {\n",
       "        text-align: right;\n",
       "    }\n",
       "</style>\n",
       "<table border=\"1\" class=\"dataframe\">\n",
       "  <thead>\n",
       "    <tr style=\"text-align: right;\">\n",
       "      <th></th>\n",
       "      <th>source</th>\n",
       "      <th>data</th>\n",
       "    </tr>\n",
       "  </thead>\n",
       "  <tbody>\n",
       "    <tr>\n",
       "      <th>0</th>\n",
       "      <td>/data</td>\n",
       "      <td>{\"sample_key\":\"223155_50\",\"timestamp0\":223155,...</td>\n",
       "    </tr>\n",
       "    <tr>\n",
       "      <th>1</th>\n",
       "      <td>/data</td>\n",
       "      <td>{\"sample_key\":\"223168_60\",\"timestamp0\":223168,...</td>\n",
       "    </tr>\n",
       "    <tr>\n",
       "      <th>2</th>\n",
       "      <td>/data</td>\n",
       "      <td>{\"sample_key\":\"223181_70\",\"timestamp0\":223181,...</td>\n",
       "    </tr>\n",
       "    <tr>\n",
       "      <th>3</th>\n",
       "      <td>/data</td>\n",
       "      <td>{\"sample_key\":\"223181_80\",\"timestamp0\":223181,...</td>\n",
       "    </tr>\n",
       "    <tr>\n",
       "      <th>4</th>\n",
       "      <td>/data</td>\n",
       "      <td>{\"sample_key\":\"223194_90\",\"timestamp0\":223194,...</td>\n",
       "    </tr>\n",
       "  </tbody>\n",
       "</table>\n",
       "</div>"
      ],
      "text/plain": [
       "  source                                               data\n",
       "0  /data  {\"sample_key\":\"223155_50\",\"timestamp0\":223155,...\n",
       "1  /data  {\"sample_key\":\"223168_60\",\"timestamp0\":223168,...\n",
       "2  /data  {\"sample_key\":\"223181_70\",\"timestamp0\":223181,...\n",
       "3  /data  {\"sample_key\":\"223181_80\",\"timestamp0\":223181,...\n",
       "4  /data  {\"sample_key\":\"223194_90\",\"timestamp0\":223194,..."
      ]
     },
     "execution_count": 4,
     "metadata": {},
     "output_type": "execute_result"
    }
   ],
   "source": [
    "data.head()"
   ]
  },
  {
   "cell_type": "markdown",
   "id": "70586e13-6410-47ea-acf3-d01147d70c2a",
   "metadata": {},
   "source": [
    "## get all individual segments"
   ]
  },
  {
   "cell_type": "code",
   "execution_count": 6,
   "id": "5f161a81-fe0a-4c62-b7d9-66d8d5e5230d",
   "metadata": {},
   "outputs": [],
   "source": [
    "import processing"
   ]
  },
  {
   "cell_type": "code",
   "execution_count": 9,
   "id": "140d21c9-0919-480c-8ff7-e8e91cb4a495",
   "metadata": {},
   "outputs": [],
   "source": [
    "data_df = processing.format_data(select(data, source='/data'))"
   ]
  },
  {
   "cell_type": "code",
   "execution_count": 10,
   "id": "53f3cd2e-d22f-4c7c-9aa3-711057b9c58c",
   "metadata": {},
   "outputs": [],
   "source": [
    "feat_df = processing.format_feat(select(data, source='/feat'))"
   ]
  },
  {
   "cell_type": "code",
   "execution_count": 13,
   "id": "6e21d6f7-60ae-44ff-8cab-387bf0f2fcc0",
   "metadata": {},
   "outputs": [
    {
     "data": {
      "text/html": [
       "<div>\n",
       "<style scoped>\n",
       "    .dataframe tbody tr th:only-of-type {\n",
       "        vertical-align: middle;\n",
       "    }\n",
       "\n",
       "    .dataframe tbody tr th {\n",
       "        vertical-align: top;\n",
       "    }\n",
       "\n",
       "    .dataframe thead th {\n",
       "        text-align: right;\n",
       "    }\n",
       "</style>\n",
       "<table border=\"1\" class=\"dataframe\">\n",
       "  <thead>\n",
       "    <tr style=\"text-align: right;\">\n",
       "      <th></th>\n",
       "      <th>key</th>\n",
       "      <th>t0</th>\n",
       "      <th>ts</th>\n",
       "      <th>stroke_id</th>\n",
       "      <th>x</th>\n",
       "      <th>y</th>\n",
       "      <th>p</th>\n",
       "      <th>x_</th>\n",
       "      <th>y_</th>\n",
       "      <th>p_</th>\n",
       "      <th>x0</th>\n",
       "      <th>y0</th>\n",
       "      <th>p0</th>\n",
       "      <th>x1</th>\n",
       "      <th>y1</th>\n",
       "      <th>p1</th>\n",
       "    </tr>\n",
       "  </thead>\n",
       "  <tbody>\n",
       "    <tr>\n",
       "      <th>0</th>\n",
       "      <td>223155_50</td>\n",
       "      <td>223155</td>\n",
       "      <td>50</td>\n",
       "      <td>7</td>\n",
       "      <td>0.108465</td>\n",
       "      <td>0.922634</td>\n",
       "      <td>0.016437</td>\n",
       "      <td>-0.000808</td>\n",
       "      <td>0.000759</td>\n",
       "      <td>0.012175</td>\n",
       "      <td>-0.000011</td>\n",
       "      <td>0.000010</td>\n",
       "      <td>0.000634</td>\n",
       "      <td>-0.000005</td>\n",
       "      <td>0.000004</td>\n",
       "      <td>0.000210</td>\n",
       "    </tr>\n",
       "    <tr>\n",
       "      <th>1</th>\n",
       "      <td>223168_60</td>\n",
       "      <td>223168</td>\n",
       "      <td>60</td>\n",
       "      <td>7</td>\n",
       "      <td>0.107795</td>\n",
       "      <td>0.923251</td>\n",
       "      <td>0.019668</td>\n",
       "      <td>-0.001477</td>\n",
       "      <td>0.001376</td>\n",
       "      <td>0.015406</td>\n",
       "      <td>-0.000035</td>\n",
       "      <td>0.000032</td>\n",
       "      <td>0.001471</td>\n",
       "      <td>-0.000012</td>\n",
       "      <td>0.000011</td>\n",
       "      <td>0.000431</td>\n",
       "    </tr>\n",
       "    <tr>\n",
       "      <th>2</th>\n",
       "      <td>223181_70</td>\n",
       "      <td>223181</td>\n",
       "      <td>70</td>\n",
       "      <td>7</td>\n",
       "      <td>0.107020</td>\n",
       "      <td>0.923929</td>\n",
       "      <td>0.022609</td>\n",
       "      <td>-0.002252</td>\n",
       "      <td>0.002054</td>\n",
       "      <td>0.018348</td>\n",
       "      <td>-0.000086</td>\n",
       "      <td>0.000079</td>\n",
       "      <td>0.002857</td>\n",
       "      <td>-0.000027</td>\n",
       "      <td>0.000025</td>\n",
       "      <td>0.000760</td>\n",
       "    </tr>\n",
       "    <tr>\n",
       "      <th>3</th>\n",
       "      <td>223181_80</td>\n",
       "      <td>223181</td>\n",
       "      <td>80</td>\n",
       "      <td>7</td>\n",
       "      <td>0.106651</td>\n",
       "      <td>0.924164</td>\n",
       "      <td>0.022216</td>\n",
       "      <td>-0.002621</td>\n",
       "      <td>0.002289</td>\n",
       "      <td>0.017955</td>\n",
       "      <td>-0.000183</td>\n",
       "      <td>0.000169</td>\n",
       "      <td>0.004819</td>\n",
       "      <td>-0.000053</td>\n",
       "      <td>0.000049</td>\n",
       "      <td>0.001180</td>\n",
       "    </tr>\n",
       "    <tr>\n",
       "      <th>4</th>\n",
       "      <td>223194_90</td>\n",
       "      <td>223194</td>\n",
       "      <td>90</td>\n",
       "      <td>7</td>\n",
       "      <td>0.105952</td>\n",
       "      <td>0.924211</td>\n",
       "      <td>0.021473</td>\n",
       "      <td>-0.003320</td>\n",
       "      <td>0.002336</td>\n",
       "      <td>0.017212</td>\n",
       "      <td>-0.000349</td>\n",
       "      <td>0.000322</td>\n",
       "      <td>0.007260</td>\n",
       "      <td>-0.000094</td>\n",
       "      <td>0.000086</td>\n",
       "      <td>0.001638</td>\n",
       "    </tr>\n",
       "  </tbody>\n",
       "</table>\n",
       "</div>"
      ],
      "text/plain": [
       "         key      t0  ts  stroke_id         x         y         p        x_  \\\n",
       "0  223155_50  223155  50          7  0.108465  0.922634  0.016437 -0.000808   \n",
       "1  223168_60  223168  60          7  0.107795  0.923251  0.019668 -0.001477   \n",
       "2  223181_70  223181  70          7  0.107020  0.923929  0.022609 -0.002252   \n",
       "3  223181_80  223181  80          7  0.106651  0.924164  0.022216 -0.002621   \n",
       "4  223194_90  223194  90          7  0.105952  0.924211  0.021473 -0.003320   \n",
       "\n",
       "         y_        p_        x0        y0        p0        x1        y1  \\\n",
       "0  0.000759  0.012175 -0.000011  0.000010  0.000634 -0.000005  0.000004   \n",
       "1  0.001376  0.015406 -0.000035  0.000032  0.001471 -0.000012  0.000011   \n",
       "2  0.002054  0.018348 -0.000086  0.000079  0.002857 -0.000027  0.000025   \n",
       "3  0.002289  0.017955 -0.000183  0.000169  0.004819 -0.000053  0.000049   \n",
       "4  0.002336  0.017212 -0.000349  0.000322  0.007260 -0.000094  0.000086   \n",
       "\n",
       "         p1  \n",
       "0  0.000210  \n",
       "1  0.000431  \n",
       "2  0.000760  \n",
       "3  0.001180  \n",
       "4  0.001638  "
      ]
     },
     "execution_count": 13,
     "metadata": {},
     "output_type": "execute_result"
    }
   ],
   "source": [
    "data_df.head()"
   ]
  },
  {
   "cell_type": "code",
   "execution_count": 12,
   "id": "dcd6a2a3-4acd-4f2b-98da-0e5c23a471f3",
   "metadata": {},
   "outputs": [
    {
     "data": {
      "text/html": [
       "<div>\n",
       "<style scoped>\n",
       "    .dataframe tbody tr th:only-of-type {\n",
       "        vertical-align: middle;\n",
       "    }\n",
       "\n",
       "    .dataframe tbody tr th {\n",
       "        vertical-align: top;\n",
       "    }\n",
       "\n",
       "    .dataframe thead th {\n",
       "        text-align: right;\n",
       "    }\n",
       "</style>\n",
       "<table border=\"1\" class=\"dataframe\">\n",
       "  <thead>\n",
       "    <tr style=\"text-align: right;\">\n",
       "      <th></th>\n",
       "      <th>key</th>\n",
       "      <th>segment_id</th>\n",
       "      <th>s</th>\n",
       "      <th>da</th>\n",
       "      <th>min_dtw</th>\n",
       "      <th>min_dtw_id</th>\n",
       "    </tr>\n",
       "  </thead>\n",
       "  <tbody>\n",
       "    <tr>\n",
       "      <th>0</th>\n",
       "      <td>223155_50</td>\n",
       "      <td>1</td>\n",
       "      <td>0.000063</td>\n",
       "      <td>-0.001177</td>\n",
       "      <td>10000.0</td>\n",
       "      <td>0</td>\n",
       "    </tr>\n",
       "    <tr>\n",
       "      <th>1</th>\n",
       "      <td>223168_60</td>\n",
       "      <td>1</td>\n",
       "      <td>0.000164</td>\n",
       "      <td>-0.001177</td>\n",
       "      <td>10000.0</td>\n",
       "      <td>0</td>\n",
       "    </tr>\n",
       "    <tr>\n",
       "      <th>2</th>\n",
       "      <td>223181_70</td>\n",
       "      <td>1</td>\n",
       "      <td>0.000366</td>\n",
       "      <td>-0.001177</td>\n",
       "      <td>10000.0</td>\n",
       "      <td>0</td>\n",
       "    </tr>\n",
       "    <tr>\n",
       "      <th>3</th>\n",
       "      <td>223181_80</td>\n",
       "      <td>1</td>\n",
       "      <td>0.000719</td>\n",
       "      <td>0.001078</td>\n",
       "      <td>10000.0</td>\n",
       "      <td>0</td>\n",
       "    </tr>\n",
       "    <tr>\n",
       "      <th>4</th>\n",
       "      <td>223194_90</td>\n",
       "      <td>1</td>\n",
       "      <td>0.001273</td>\n",
       "      <td>0.005042</td>\n",
       "      <td>10000.0</td>\n",
       "      <td>0</td>\n",
       "    </tr>\n",
       "  </tbody>\n",
       "</table>\n",
       "</div>"
      ],
      "text/plain": [
       "         key  segment_id         s        da  min_dtw min_dtw_id\n",
       "0  223155_50           1  0.000063 -0.001177  10000.0          0\n",
       "1  223168_60           1  0.000164 -0.001177  10000.0          0\n",
       "2  223181_70           1  0.000366 -0.001177  10000.0          0\n",
       "3  223181_80           1  0.000719  0.001078  10000.0          0\n",
       "4  223194_90           1  0.001273  0.005042  10000.0          0"
      ]
     },
     "execution_count": 12,
     "metadata": {},
     "output_type": "execute_result"
    }
   ],
   "source": [
    "feat_df.head()"
   ]
  },
  {
   "cell_type": "code",
   "execution_count": 58,
   "id": "3f8155bd-e7d1-46ad-a17c-72e36a0fa066",
   "metadata": {},
   "outputs": [
    {
     "name": "stderr",
     "output_type": "stream",
     "text": [
      "/Users/aloriette/opt/anaconda3/envs/rto_nime22/lib/python3.7/site-packages/tslearn/bases/bases.py:15: UserWarning: h5py not installed, hdf5 features will not be supported.\n",
      "Install h5py to use hdf5 features: http://docs.h5py.org/\n",
      "  warn(h5py_msg)\n",
      "/Users/aloriette/opt/anaconda3/envs/rto_nime22/lib/python3.7/site-packages/tslearn/bases/bases.py:15: UserWarning: h5py not installed, hdf5 features will not be supported.\n",
      "Install h5py to use hdf5 features: http://docs.h5py.org/\n",
      "  warn(h5py_msg)\n"
     ]
    }
   ],
   "source": [
    "segment_ids = list(set(feat_df['segment_id']))"
   ]
  },
  {
   "cell_type": "code",
   "execution_count": 38,
   "id": "00bd22e3-c217-4b10-b7c8-b042670efe39",
   "metadata": {},
   "outputs": [],
   "source": [
    "segments = []\n",
    "for i, grp in feat_df.groupby('segment_id'):\n",
    "    gi = grp.join(data_df.set_index('key'), on='key').copy()\n",
    "    segments.append(gi)"
   ]
  },
  {
   "cell_type": "code",
   "execution_count": 54,
   "id": "77955ca1-eb5f-44e4-b6ed-57ac6b875ad0",
   "metadata": {},
   "outputs": [],
   "source": [
    "from ipywidgets import interact, interactive, fixed, interact_manual\n",
    "import ipywidgets as widgets"
   ]
  },
  {
   "cell_type": "code",
   "execution_count": 55,
   "id": "0f6449a2-22b5-4da2-9739-b22980a67c44",
   "metadata": {},
   "outputs": [],
   "source": [
    "def plot_one_segment(i):\n",
    "    fig, ax = plt.subplots()\n",
    "    segments[i].plot(x='ts', y='s', ax=ax)\n",
    "    segments[i].plot(x='ts', y='da', ax=ax)"
   ]
  },
  {
   "cell_type": "code",
   "execution_count": 61,
   "id": "d28a8434-ef7e-46c9-aead-9b867893146b",
   "metadata": {},
   "outputs": [
    {
     "data": {
      "application/vnd.jupyter.widget-view+json": {
       "model_id": "a8b7b338ee2848f09701330224a1bb1a",
       "version_major": 2,
       "version_minor": 0
      },
      "text/plain": [
       "interactive(children=(IntSlider(value=1, description='i', max=354, min=1), Output()), _dom_classes=('widget-in…"
      ]
     },
     "metadata": {},
     "output_type": "display_data"
    }
   ],
   "source": [
    "interact(plot_one_segment, i=widgets.IntSlider(min=segment_ids[0], max=segment_ids[-1], step=1, value=segment_ids[0]));"
   ]
  },
  {
   "cell_type": "code",
   "execution_count": 36,
   "id": "fc780c9a-7671-49ea-a0aa-9743ce3efabf",
   "metadata": {},
   "outputs": [],
   "source": [
    "da = np.unwrap(segments[1]['da'].values, period=1.1)"
   ]
  },
  {
   "cell_type": "code",
   "execution_count": 37,
   "id": "ea8e5c3e-234e-4eb6-a142-0ddfdfaba081",
   "metadata": {},
   "outputs": [
    {
     "data": {
      "text/plain": [
       "[<matplotlib.lines.Line2D at 0x7f92a80f2f90>]"
      ]
     },
     "execution_count": 37,
     "metadata": {},
     "output_type": "execute_result"
    },
    {
     "data": {
      "image/png": "[encoded data removed]",
      "text/plain": [
       "<Figure size 432x288 with 1 Axes>"
      ]
     },
     "metadata": {
      "needs_background": "light"
     },
     "output_type": "display_data"
    }
   ],
   "source": [
    "plt.plot(da)\n",
    "plt.plot(da, '.')"
   ]
  },
  {
   "cell_type": "code",
   "execution_count": 42,
   "id": "7fb1215a-ef52-43c2-a5fc-5953bee90fb7",
   "metadata": {},
   "outputs": [],
   "source": [
    "import clusterisation"
   ]
  },
  {
   "cell_type": "code",
   "execution_count": 43,
   "id": "8db14221-95a0-4f5b-968f-2b8fcc0aabf4",
   "metadata": {},
   "outputs": [
    {
     "name": "stderr",
     "output_type": "stream",
     "text": [
      "[Parallel(n_jobs=8)]: Using backend LokyBackend with 8 concurrent workers.\n",
      "[Parallel(n_jobs=8)]: Done  34 tasks      | elapsed:    4.8s\n",
      "[Parallel(n_jobs=8)]: Done 4128 tasks      | elapsed:    7.1s\n",
      "[Parallel(n_jobs=8)]: Done 20128 tasks      | elapsed:   15.9s\n",
      "[Parallel(n_jobs=8)]: Done 42528 tasks      | elapsed:   27.7s\n",
      "[Parallel(n_jobs=8)]: Done 61410 out of 61425 | elapsed:   38.0s remaining:    0.0s\n",
      "[Parallel(n_jobs=8)]: Done 61425 out of 61425 | elapsed:   38.0s finished\n"
     ]
    }
   ],
   "source": [
    "sm_seg = clusterisation.compute_similarity_matrix(segments)"
   ]
  },
  {
   "cell_type": "code",
   "execution_count": 52,
   "id": "ce1fa6c4-d14c-403f-a7e5-9990b2ac544d",
   "metadata": {},
   "outputs": [
    {
     "name": "stderr",
     "output_type": "stream",
     "text": [
      "/Users/aloriette/Documents/research/rto_max/max_implementation/new/notebooks/tsne_helper.py:69: RuntimeWarning: invalid value encountered in true_divide\n",
      "  return a/b\n"
     ]
    }
   ],
   "source": [
    "emb_seg = clusterisation.tsne_embed(sm_seg, perplexity=10) "
   ]
  },
  {
   "cell_type": "code",
   "execution_count": 53,
   "id": "8ba81589-7a38-422b-b6a2-643524c761b5",
   "metadata": {},
   "outputs": [
    {
     "data": {
      "text/plain": [
       "<matplotlib.collections.PathCollection at 0x7f92abfd2210>"
      ]
     },
     "execution_count": 53,
     "metadata": {},
     "output_type": "execute_result"
    },
    {
     "data": {
      "image/png": "[encoded data removed]",
      "text/plain": [
       "<Figure size 432x288 with 1 Axes>"
      ]
     },
     "metadata": {
      "needs_background": "light"
     },
     "output_type": "display_data"
    }
   ],
   "source": [
    "plt.scatter(emb_seg[:, 0], emb_seg[:, 1])"
   ]
  },
  {
   "cell_type": "code",
   "execution_count": null,
   "id": "328fcb02-d4f5-4f48-9fa9-89c93176673f",
   "metadata": {},
   "outputs": [],
   "source": []
  },
  {
   "cell_type": "code",
   "execution_count": null,
   "id": "204ff39c-2bbd-4c6e-99d3-4beb62433935",
   "metadata": {},
   "outputs": [],
   "source": []
  },
  {
   "cell_type": "code",
   "execution_count": null,
   "id": "62d1aded-b708-40f9-831d-3411f9916979",
   "metadata": {},
   "outputs": [],
   "source": []
  }
 ],
 "metadata": {
  "kernelspec": {
   "display_name": "Python 3 (ipykernel)",
   "language": "python",
   "name": "python3"
  },
  "language_info": {
   "codemirror_mode": {
    "name": "ipython",
    "version": 3
   },
   "file_extension": ".py",
   "mimetype": "text/x-python",
   "name": "python",
   "nbconvert_exporter": "python",
   "pygments_lexer": "ipython3",
   "version": "3.7.13"
  }
 },
 "nbformat": 4,
 "nbformat_minor": 5
}
