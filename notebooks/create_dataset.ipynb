{
 "cells": [
  {
   "cell_type": "markdown",
   "id": "03811245-5c48-41c9-944d-fc133c1929c1",
   "metadata": {},
   "source": [
    "# Create a Dataset from the Pilot data\n",
    "\n",
    "This notebook gathers all the data generated during the pilot and consolidates it into a single dataframe that can be used to generate the figure for the scientific report."
   ]
  },
  {
   "cell_type": "code",
   "execution_count": 1,
   "id": "8d409aac-826a-4200-9360-675b6081556d",
   "metadata": {},
   "outputs": [],
   "source": [
    "from utils import *"
   ]
  },
  {
   "cell_type": "code",
   "execution_count": 2,
   "id": "2582e44e-a6c1-4489-ae88-30606c160339",
   "metadata": {},
   "outputs": [],
   "source": [
    "datadir = '../user_data/'\n",
    "users = ['Q'+str(i) for i in range(3)]"
   ]
  },
  {
   "cell_type": "code",
   "execution_count": 3,
   "id": "f15e642f-09b7-41d4-bfe7-dc0cfe070089",
   "metadata": {},
   "outputs": [],
   "source": [
    "def format_and_concat(dfs, data, user):\n",
    "    df = pd.DataFrame(data)\n",
    "    df['user'] = user\n",
    "    dfs = pd.concat([dfs, df])\n",
    "    return dfs"
   ]
  },
  {
   "cell_type": "code",
   "execution_count": 5,
   "id": "1da73cd0-e4ea-4efa-8763-46d509604e92",
   "metadata": {},
   "outputs": [
    {
     "name": "stderr",
     "output_type": "stream",
     "text": [
      "100%|█████████████████████████████████████████████████████████████████████████████████████████████████████████████████████████████████████████████████| 3/3 [00:09<00:00,  3.05s/it]\n"
     ]
    }
   ],
   "source": [
    "df0 = pd.DataFrame()\n",
    "df1 = pd.DataFrame()\n",
    "\n",
    "for user in tqdm(users):\n",
    "    for condition in ['c0', 'c1']:\n",
    "        res, seg = read_log(os.path.join(datadir, user, condition+'.txt'))    \n",
    "        \n",
    "        df0 = format_and_concat(df0, res, user)\n",
    "        df1 = format_and_concat(df1, seg, user)"
   ]
  },
  {
   "cell_type": "code",
   "execution_count": 6,
   "id": "4217fd4f-7283-478d-9d6c-d5d0f2a09ee2",
   "metadata": {},
   "outputs": [],
   "source": [
    "df0.to_csv('pilot_0.csv')\n",
    "df1.to_csv('pilot_1.csv')"
   ]
  },
  {
   "cell_type": "code",
   "execution_count": null,
   "id": "990e31c4-4227-4569-83da-f0e7f96320a7",
   "metadata": {},
   "outputs": [],
   "source": []
  }
 ],
 "metadata": {
  "kernelspec": {
   "display_name": "Python 3 (ipykernel)",
   "language": "python",
   "name": "python3"
  },
  "language_info": {
   "codemirror_mode": {
    "name": "ipython",
    "version": 3
   },
   "file_extension": ".py",
   "mimetype": "text/x-python",
   "name": "python",
   "nbconvert_exporter": "python",
   "pygments_lexer": "ipython3",
   "version": "3.7.13"
  }
 },
 "nbformat": 4,
 "nbformat_minor": 5
}
