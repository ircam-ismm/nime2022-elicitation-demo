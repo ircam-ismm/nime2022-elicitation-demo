{
 "cells": [
  {
   "cell_type": "markdown",
   "id": "c5cd1f8b-0f20-4d64-8d4a-b6b713ac7b1c",
   "metadata": {},
   "source": [
    "# TAB: data"
   ]
  },
  {
   "cell_type": "code",
   "execution_count": 1,
   "id": "3bed7856-9e98-49ab-a4c9-e114b98af5d3",
   "metadata": {},
   "outputs": [],
   "source": [
    "from nbimports import *"
   ]
  },
  {
   "cell_type": "code",
   "execution_count": 2,
   "id": "1dda4426-9a9f-498c-aab9-49e32dc91e94",
   "metadata": {},
   "outputs": [],
   "source": [
    "filename = \"../data/user/data_17052022_145151.csv\""
   ]
  },
  {
   "cell_type": "code",
   "execution_count": 3,
   "id": "73496edb-9991-4f8c-932f-4ddd27c015b3",
   "metadata": {},
   "outputs": [],
   "source": [
    "data = pd.read_csv(filename, index_col=0)\n",
    "data.columns = ['source', 'data']"
   ]
  },
  {
   "cell_type": "code",
   "execution_count": 4,
   "id": "c9709fea-7ce2-48ce-b8ea-43e574875697",
   "metadata": {},
   "outputs": [
    {
     "data": {
      "text/html": [
       "<div>\n",
       "<style scoped>\n",
       "    .dataframe tbody tr th:only-of-type {\n",
       "        vertical-align: middle;\n",
       "    }\n",
       "\n",
       "    .dataframe tbody tr th {\n",
       "        vertical-align: top;\n",
       "    }\n",
       "\n",
       "    .dataframe thead th {\n",
       "        text-align: right;\n",
       "    }\n",
       "</style>\n",
       "<table border=\"1\" class=\"dataframe\">\n",
       "  <thead>\n",
       "    <tr style=\"text-align: right;\">\n",
       "      <th></th>\n",
       "      <th>source</th>\n",
       "      <th>data</th>\n",
       "    </tr>\n",
       "  </thead>\n",
       "  <tbody>\n",
       "    <tr>\n",
       "      <th>0</th>\n",
       "      <td>/data</td>\n",
       "      <td>{\"sample_key\":\"2153726_0\",\"timestamp0\":2153726...</td>\n",
       "    </tr>\n",
       "    <tr>\n",
       "      <th>1</th>\n",
       "      <td>/data</td>\n",
       "      <td>{\"sample_key\":\"2153739_10\",\"timestamp0\":215373...</td>\n",
       "    </tr>\n",
       "    <tr>\n",
       "      <th>2</th>\n",
       "      <td>/data</td>\n",
       "      <td>{\"sample_key\":\"2153798_20\",\"timestamp0\":215379...</td>\n",
       "    </tr>\n",
       "    <tr>\n",
       "      <th>3</th>\n",
       "      <td>/data</td>\n",
       "      <td>{\"sample_key\":\"2153798_30\",\"timestamp0\":215379...</td>\n",
       "    </tr>\n",
       "    <tr>\n",
       "      <th>4</th>\n",
       "      <td>/data</td>\n",
       "      <td>{\"sample_key\":\"2153798_40\",\"timestamp0\":215379...</td>\n",
       "    </tr>\n",
       "  </tbody>\n",
       "</table>\n",
       "</div>"
      ],
      "text/plain": [
       "  source                                               data\n",
       "0  /data  {\"sample_key\":\"2153726_0\",\"timestamp0\":2153726...\n",
       "1  /data  {\"sample_key\":\"2153739_10\",\"timestamp0\":215373...\n",
       "2  /data  {\"sample_key\":\"2153798_20\",\"timestamp0\":215379...\n",
       "3  /data  {\"sample_key\":\"2153798_30\",\"timestamp0\":215379...\n",
       "4  /data  {\"sample_key\":\"2153798_40\",\"timestamp0\":215379..."
      ]
     },
     "execution_count": 4,
     "metadata": {},
     "output_type": "execute_result"
    }
   ],
   "source": [
    "data.head()"
   ]
  },
  {
   "cell_type": "code",
   "execution_count": 5,
   "id": "469caaa2-ad2c-4ee1-8bf4-94ad9f5570ed",
   "metadata": {},
   "outputs": [],
   "source": [
    "df = utils.format_from_df(data)"
   ]
  },
  {
   "cell_type": "code",
   "execution_count": 6,
   "id": "ec943898-3118-4358-839c-89d05ba6d702",
   "metadata": {},
   "outputs": [
    {
     "data": {
      "text/html": [
       "<div>\n",
       "<style scoped>\n",
       "    .dataframe tbody tr th:only-of-type {\n",
       "        vertical-align: middle;\n",
       "    }\n",
       "\n",
       "    .dataframe tbody tr th {\n",
       "        vertical-align: top;\n",
       "    }\n",
       "\n",
       "    .dataframe thead th {\n",
       "        text-align: right;\n",
       "    }\n",
       "</style>\n",
       "<table border=\"1\" class=\"dataframe\">\n",
       "  <thead>\n",
       "    <tr style=\"text-align: right;\">\n",
       "      <th></th>\n",
       "      <th>key</th>\n",
       "      <th>t0</th>\n",
       "      <th>t0_norm</th>\n",
       "      <th>ts</th>\n",
       "      <th>stroke_id</th>\n",
       "      <th>segment_id</th>\n",
       "      <th>x</th>\n",
       "      <th>y</th>\n",
       "      <th>p</th>\n",
       "      <th>x_</th>\n",
       "      <th>y_</th>\n",
       "      <th>p_</th>\n",
       "      <th>x0</th>\n",
       "      <th>y0</th>\n",
       "      <th>p0</th>\n",
       "      <th>x1</th>\n",
       "      <th>y1</th>\n",
       "      <th>s</th>\n",
       "      <th>angle</th>\n",
       "    </tr>\n",
       "  </thead>\n",
       "  <tbody>\n",
       "    <tr>\n",
       "      <th>0</th>\n",
       "      <td>2153726_0</td>\n",
       "      <td>2153726</td>\n",
       "      <td>0.000000</td>\n",
       "      <td>0</td>\n",
       "      <td>189</td>\n",
       "      <td>0</td>\n",
       "      <td>0.556178</td>\n",
       "      <td>0.504913</td>\n",
       "      <td>0.008636</td>\n",
       "      <td>0.0</td>\n",
       "      <td>0.0</td>\n",
       "      <td>0.000000</td>\n",
       "      <td>0.0</td>\n",
       "      <td>0.0</td>\n",
       "      <td>0.000000e+00</td>\n",
       "      <td>0.0</td>\n",
       "      <td>0.0</td>\n",
       "      <td>0.0</td>\n",
       "      <td>0.737123</td>\n",
       "    </tr>\n",
       "    <tr>\n",
       "      <th>1</th>\n",
       "      <td>2153739_10</td>\n",
       "      <td>2153739</td>\n",
       "      <td>0.000083</td>\n",
       "      <td>10</td>\n",
       "      <td>189</td>\n",
       "      <td>0</td>\n",
       "      <td>0.556178</td>\n",
       "      <td>0.504913</td>\n",
       "      <td>0.010428</td>\n",
       "      <td>0.0</td>\n",
       "      <td>0.0</td>\n",
       "      <td>0.001792</td>\n",
       "      <td>0.0</td>\n",
       "      <td>0.0</td>\n",
       "      <td>6.102292e-07</td>\n",
       "      <td>0.0</td>\n",
       "      <td>0.0</td>\n",
       "      <td>0.0</td>\n",
       "      <td>0.737123</td>\n",
       "    </tr>\n",
       "    <tr>\n",
       "      <th>2</th>\n",
       "      <td>2153798_20</td>\n",
       "      <td>2153798</td>\n",
       "      <td>0.000459</td>\n",
       "      <td>20</td>\n",
       "      <td>189</td>\n",
       "      <td>0</td>\n",
       "      <td>0.556178</td>\n",
       "      <td>0.504913</td>\n",
       "      <td>0.011161</td>\n",
       "      <td>0.0</td>\n",
       "      <td>0.0</td>\n",
       "      <td>0.002525</td>\n",
       "      <td>0.0</td>\n",
       "      <td>0.0</td>\n",
       "      <td>6.705521e-06</td>\n",
       "      <td>0.0</td>\n",
       "      <td>0.0</td>\n",
       "      <td>0.0</td>\n",
       "      <td>0.737123</td>\n",
       "    </tr>\n",
       "    <tr>\n",
       "      <th>3</th>\n",
       "      <td>2153798_30</td>\n",
       "      <td>2153798</td>\n",
       "      <td>0.000459</td>\n",
       "      <td>30</td>\n",
       "      <td>189</td>\n",
       "      <td>0</td>\n",
       "      <td>0.556178</td>\n",
       "      <td>0.504913</td>\n",
       "      <td>0.011441</td>\n",
       "      <td>0.0</td>\n",
       "      <td>0.0</td>\n",
       "      <td>0.002804</td>\n",
       "      <td>0.0</td>\n",
       "      <td>0.0</td>\n",
       "      <td>3.581653e-05</td>\n",
       "      <td>0.0</td>\n",
       "      <td>0.0</td>\n",
       "      <td>0.0</td>\n",
       "      <td>0.737123</td>\n",
       "    </tr>\n",
       "    <tr>\n",
       "      <th>4</th>\n",
       "      <td>2153798_40</td>\n",
       "      <td>2153798</td>\n",
       "      <td>0.000459</td>\n",
       "      <td>40</td>\n",
       "      <td>189</td>\n",
       "      <td>0</td>\n",
       "      <td>0.556178</td>\n",
       "      <td>0.504913</td>\n",
       "      <td>0.011720</td>\n",
       "      <td>0.0</td>\n",
       "      <td>0.0</td>\n",
       "      <td>0.003084</td>\n",
       "      <td>0.0</td>\n",
       "      <td>0.0</td>\n",
       "      <td>1.251712e-04</td>\n",
       "      <td>0.0</td>\n",
       "      <td>0.0</td>\n",
       "      <td>0.0</td>\n",
       "      <td>0.737123</td>\n",
       "    </tr>\n",
       "  </tbody>\n",
       "</table>\n",
       "</div>"
      ],
      "text/plain": [
       "          key       t0   t0_norm  ts  stroke_id  segment_id         x  \\\n",
       "0   2153726_0  2153726  0.000000   0        189           0  0.556178   \n",
       "1  2153739_10  2153739  0.000083  10        189           0  0.556178   \n",
       "2  2153798_20  2153798  0.000459  20        189           0  0.556178   \n",
       "3  2153798_30  2153798  0.000459  30        189           0  0.556178   \n",
       "4  2153798_40  2153798  0.000459  40        189           0  0.556178   \n",
       "\n",
       "          y         p   x_   y_        p_   x0   y0            p0   x1   y1  \\\n",
       "0  0.504913  0.008636  0.0  0.0  0.000000  0.0  0.0  0.000000e+00  0.0  0.0   \n",
       "1  0.504913  0.010428  0.0  0.0  0.001792  0.0  0.0  6.102292e-07  0.0  0.0   \n",
       "2  0.504913  0.011161  0.0  0.0  0.002525  0.0  0.0  6.705521e-06  0.0  0.0   \n",
       "3  0.504913  0.011441  0.0  0.0  0.002804  0.0  0.0  3.581653e-05  0.0  0.0   \n",
       "4  0.504913  0.011720  0.0  0.0  0.003084  0.0  0.0  1.251712e-04  0.0  0.0   \n",
       "\n",
       "     s     angle  \n",
       "0  0.0  0.737123  \n",
       "1  0.0  0.737123  \n",
       "2  0.0  0.737123  \n",
       "3  0.0  0.737123  \n",
       "4  0.0  0.737123  "
      ]
     },
     "execution_count": 6,
     "metadata": {},
     "output_type": "execute_result"
    }
   ],
   "source": [
    "df.head()"
   ]
  },
  {
   "cell_type": "code",
   "execution_count": 7,
   "id": "f95e62a2-e61e-4450-8551-8e56d38d6dc2",
   "metadata": {},
   "outputs": [
    {
     "data": {
      "text/plain": [
       "<AxesSubplot:>"
      ]
     },
     "execution_count": 7,
     "metadata": {},
     "output_type": "execute_result"
    },
    {
     "data": {
      "image/png": "[encoded data removed]",
      "text/plain": [
       "<Figure size 1296x432 with 3 Axes>"
      ]
     },
     "metadata": {
      "needs_background": "light"
     },
     "output_type": "display_data"
    }
   ],
   "source": [
    "fig, ax = plt.subplots(1, 3, figsize=(18,6))\n",
    "df['angle'].hist(ax=ax[0])\n",
    "df['p'].hist(ax=ax[1])\n",
    "df['s'].hist(ax=ax[2])"
   ]
  },
  {
   "cell_type": "code",
   "execution_count": null,
   "id": "f8c5bde0-e02a-4c14-b7bd-146fa43bb194",
   "metadata": {},
   "outputs": [],
   "source": []
  },
  {
   "cell_type": "code",
   "execution_count": null,
   "id": "7b19f6da-b9fe-414d-a72d-e9241cf18cef",
   "metadata": {},
   "outputs": [],
   "source": []
  },
  {
   "cell_type": "code",
   "execution_count": null,
   "id": "9fbd364f-b4f6-48e0-8cd6-11ccb85ecb2d",
   "metadata": {},
   "outputs": [],
   "source": []
  },
  {
   "cell_type": "code",
   "execution_count": null,
   "id": "9c789837-08c3-4431-b98c-705766f56590",
   "metadata": {},
   "outputs": [],
   "source": []
  },
  {
   "cell_type": "code",
   "execution_count": null,
   "id": "1acfe688-0aff-4290-b284-d2be1badfe30",
   "metadata": {},
   "outputs": [],
   "source": []
  },
  {
   "cell_type": "markdown",
   "id": "a0dcf608-55c2-4956-85ae-cea84802fb7e",
   "metadata": {},
   "source": [
    "# test code for embed"
   ]
  },
  {
   "cell_type": "code",
   "execution_count": 22,
   "id": "eaf79e01-fb18-4741-a1d1-d14f400e124a",
   "metadata": {},
   "outputs": [],
   "source": [
    "data_df = pd.DataFrame()\n",
    "for active in [0]:\n",
    "    # df = dfs[active]\n",
    "    df['card_id'] = str(active)\n",
    "    data_df = pd.concat([data_df, df])"
   ]
  },
  {
   "cell_type": "code",
   "execution_count": 23,
   "id": "618c9af6-bc1d-4e27-be2e-ee23824db217",
   "metadata": {},
   "outputs": [
    {
     "data": {
      "text/html": [
       "<div>\n",
       "<style scoped>\n",
       "    .dataframe tbody tr th:only-of-type {\n",
       "        vertical-align: middle;\n",
       "    }\n",
       "\n",
       "    .dataframe tbody tr th {\n",
       "        vertical-align: top;\n",
       "    }\n",
       "\n",
       "    .dataframe thead th {\n",
       "        text-align: right;\n",
       "    }\n",
       "</style>\n",
       "<table border=\"1\" class=\"dataframe\">\n",
       "  <thead>\n",
       "    <tr style=\"text-align: right;\">\n",
       "      <th></th>\n",
       "      <th>key</th>\n",
       "      <th>t0</th>\n",
       "      <th>t0_norm</th>\n",
       "      <th>ts</th>\n",
       "      <th>stroke_id</th>\n",
       "      <th>segment_id</th>\n",
       "      <th>x</th>\n",
       "      <th>y</th>\n",
       "      <th>p</th>\n",
       "      <th>x_</th>\n",
       "      <th>...</th>\n",
       "      <th>x0</th>\n",
       "      <th>y0</th>\n",
       "      <th>p0</th>\n",
       "      <th>x1</th>\n",
       "      <th>y1</th>\n",
       "      <th>p1</th>\n",
       "      <th>s</th>\n",
       "      <th>angle</th>\n",
       "      <th>da</th>\n",
       "      <th>card_id</th>\n",
       "    </tr>\n",
       "  </thead>\n",
       "  <tbody>\n",
       "    <tr>\n",
       "      <th>0</th>\n",
       "      <td>3789922_50</td>\n",
       "      <td>3789922</td>\n",
       "      <td>0.000000</td>\n",
       "      <td>50</td>\n",
       "      <td>59</td>\n",
       "      <td>0</td>\n",
       "      <td>0.641310</td>\n",
       "      <td>0.533630</td>\n",
       "      <td>0.010099</td>\n",
       "      <td>0.000000</td>\n",
       "      <td>...</td>\n",
       "      <td>0.000000e+00</td>\n",
       "      <td>0.000000e+00</td>\n",
       "      <td>0.000180</td>\n",
       "      <td>0.000000e+00</td>\n",
       "      <td>0.000000e+00</td>\n",
       "      <td>0.000061</td>\n",
       "      <td>0.000000e+00</td>\n",
       "      <td>0.000000</td>\n",
       "      <td>0.000000</td>\n",
       "      <td>0</td>\n",
       "    </tr>\n",
       "    <tr>\n",
       "      <th>1</th>\n",
       "      <td>3789922_60</td>\n",
       "      <td>3789922</td>\n",
       "      <td>0.000000</td>\n",
       "      <td>60</td>\n",
       "      <td>59</td>\n",
       "      <td>0</td>\n",
       "      <td>0.641310</td>\n",
       "      <td>0.533630</td>\n",
       "      <td>0.010496</td>\n",
       "      <td>0.000000</td>\n",
       "      <td>...</td>\n",
       "      <td>0.000000e+00</td>\n",
       "      <td>0.000000e+00</td>\n",
       "      <td>0.000428</td>\n",
       "      <td>-2.892860e-10</td>\n",
       "      <td>3.857143e-09</td>\n",
       "      <td>0.000127</td>\n",
       "      <td>3.867976e-07</td>\n",
       "      <td>1.645656</td>\n",
       "      <td>0.000000</td>\n",
       "      <td>0</td>\n",
       "    </tr>\n",
       "    <tr>\n",
       "      <th>2</th>\n",
       "      <td>3789935_70</td>\n",
       "      <td>3789935</td>\n",
       "      <td>0.000074</td>\n",
       "      <td>70</td>\n",
       "      <td>59</td>\n",
       "      <td>0</td>\n",
       "      <td>0.641302</td>\n",
       "      <td>0.533736</td>\n",
       "      <td>0.011080</td>\n",
       "      <td>-0.000008</td>\n",
       "      <td>...</td>\n",
       "      <td>-2.692764e-09</td>\n",
       "      <td>3.597364e-08</td>\n",
       "      <td>0.000845</td>\n",
       "      <td>-6.128571e-09</td>\n",
       "      <td>8.188928e-08</td>\n",
       "      <td>0.000226</td>\n",
       "      <td>8.211829e-06</td>\n",
       "      <td>1.645497</td>\n",
       "      <td>0.000000</td>\n",
       "      <td>0</td>\n",
       "    </tr>\n",
       "    <tr>\n",
       "      <th>3</th>\n",
       "      <td>3789935_80</td>\n",
       "      <td>3789935</td>\n",
       "      <td>0.000074</td>\n",
       "      <td>80</td>\n",
       "      <td>59</td>\n",
       "      <td>0</td>\n",
       "      <td>0.641223</td>\n",
       "      <td>0.534792</td>\n",
       "      <td>0.013352</td>\n",
       "      <td>-0.000087</td>\n",
       "      <td>...</td>\n",
       "      <td>-5.541555e-08</td>\n",
       "      <td>7.403171e-07</td>\n",
       "      <td>0.001436</td>\n",
       "      <td>-5.194643e-08</td>\n",
       "      <td>6.874857e-07</td>\n",
       "      <td>0.000352</td>\n",
       "      <td>6.894454e-05</td>\n",
       "      <td>1.646213</td>\n",
       "      <td>0.000000</td>\n",
       "      <td>0</td>\n",
       "    </tr>\n",
       "    <tr>\n",
       "      <th>4</th>\n",
       "      <td>3789948_90</td>\n",
       "      <td>3789948</td>\n",
       "      <td>0.000148</td>\n",
       "      <td>90</td>\n",
       "      <td>59</td>\n",
       "      <td>0</td>\n",
       "      <td>0.641176</td>\n",
       "      <td>0.535248</td>\n",
       "      <td>0.014471</td>\n",
       "      <td>-0.000134</td>\n",
       "      <td>...</td>\n",
       "      <td>-4.470097e-07</td>\n",
       "      <td>5.911015e-06</td>\n",
       "      <td>0.002164</td>\n",
       "      <td>-2.635250e-07</td>\n",
       "      <td>3.427450e-06</td>\n",
       "      <td>0.000490</td>\n",
       "      <td>3.437566e-04</td>\n",
       "      <td>1.647532</td>\n",
       "      <td>0.000000</td>\n",
       "      <td>0</td>\n",
       "    </tr>\n",
       "    <tr>\n",
       "      <th>...</th>\n",
       "      <td>...</td>\n",
       "      <td>...</td>\n",
       "      <td>...</td>\n",
       "      <td>...</td>\n",
       "      <td>...</td>\n",
       "      <td>...</td>\n",
       "      <td>...</td>\n",
       "      <td>...</td>\n",
       "      <td>...</td>\n",
       "      <td>...</td>\n",
       "      <td>...</td>\n",
       "      <td>...</td>\n",
       "      <td>...</td>\n",
       "      <td>...</td>\n",
       "      <td>...</td>\n",
       "      <td>...</td>\n",
       "      <td>...</td>\n",
       "      <td>...</td>\n",
       "      <td>...</td>\n",
       "      <td>...</td>\n",
       "      <td>...</td>\n",
       "    </tr>\n",
       "    <tr>\n",
       "      <th>13333</th>\n",
       "      <td>3965768_6990</td>\n",
       "      <td>3965768</td>\n",
       "      <td>0.999744</td>\n",
       "      <td>6990</td>\n",
       "      <td>98</td>\n",
       "      <td>211</td>\n",
       "      <td>0.681841</td>\n",
       "      <td>0.491535</td>\n",
       "      <td>0.022277</td>\n",
       "      <td>0.391271</td>\n",
       "      <td>...</td>\n",
       "      <td>3.756167e-01</td>\n",
       "      <td>8.953800e-03</td>\n",
       "      <td>0.001862</td>\n",
       "      <td>3.396952e-03</td>\n",
       "      <td>-3.542430e-04</td>\n",
       "      <td>0.000580</td>\n",
       "      <td>3.415373e-01</td>\n",
       "      <td>-6.387092</td>\n",
       "      <td>0.286425</td>\n",
       "      <td>0</td>\n",
       "    </tr>\n",
       "    <tr>\n",
       "      <th>13334</th>\n",
       "      <td>3965781_7000</td>\n",
       "      <td>3965781</td>\n",
       "      <td>0.999818</td>\n",
       "      <td>7000</td>\n",
       "      <td>98</td>\n",
       "      <td>211</td>\n",
       "      <td>0.682837</td>\n",
       "      <td>0.506352</td>\n",
       "      <td>0.022146</td>\n",
       "      <td>0.392267</td>\n",
       "      <td>...</td>\n",
       "      <td>3.789340e-01</td>\n",
       "      <td>1.712625e-02</td>\n",
       "      <td>0.002691</td>\n",
       "      <td>3.351431e-03</td>\n",
       "      <td>3.052728e-03</td>\n",
       "      <td>0.000755</td>\n",
       "      <td>4.533347e-01</td>\n",
       "      <td>-5.544395</td>\n",
       "      <td>0.501364</td>\n",
       "      <td>0</td>\n",
       "    </tr>\n",
       "    <tr>\n",
       "      <th>13335</th>\n",
       "      <td>3965797_7010</td>\n",
       "      <td>3965797</td>\n",
       "      <td>0.999909</td>\n",
       "      <td>7010</td>\n",
       "      <td>98</td>\n",
       "      <td>211</td>\n",
       "      <td>0.683357</td>\n",
       "      <td>0.519482</td>\n",
       "      <td>0.020668</td>\n",
       "      <td>0.392787</td>\n",
       "      <td>...</td>\n",
       "      <td>3.821502e-01</td>\n",
       "      <td>2.850353e-02</td>\n",
       "      <td>0.003480</td>\n",
       "      <td>3.287383e-03</td>\n",
       "      <td>6.348422e-03</td>\n",
       "      <td>0.000820</td>\n",
       "      <td>7.149080e-01</td>\n",
       "      <td>-5.190196</td>\n",
       "      <td>0.601745</td>\n",
       "      <td>0</td>\n",
       "    </tr>\n",
       "    <tr>\n",
       "      <th>13336</th>\n",
       "      <td>3965797_7020</td>\n",
       "      <td>3965797</td>\n",
       "      <td>0.999909</td>\n",
       "      <td>7020</td>\n",
       "      <td>98</td>\n",
       "      <td>211</td>\n",
       "      <td>0.683218</td>\n",
       "      <td>0.528446</td>\n",
       "      <td>0.017685</td>\n",
       "      <td>0.392648</td>\n",
       "      <td>...</td>\n",
       "      <td>3.851467e-01</td>\n",
       "      <td>4.260437e-02</td>\n",
       "      <td>0.004276</td>\n",
       "      <td>3.175609e-03</td>\n",
       "      <td>9.425811e-03</td>\n",
       "      <td>0.000826</td>\n",
       "      <td>9.946376e-01</td>\n",
       "      <td>-5.037351</td>\n",
       "      <td>0.536521</td>\n",
       "      <td>0</td>\n",
       "    </tr>\n",
       "    <tr>\n",
       "      <th>13337</th>\n",
       "      <td>3965813_7030</td>\n",
       "      <td>3965813</td>\n",
       "      <td>1.000000</td>\n",
       "      <td>7030</td>\n",
       "      <td>98</td>\n",
       "      <td>211</td>\n",
       "      <td>0.683047</td>\n",
       "      <td>0.534435</td>\n",
       "      <td>0.015572</td>\n",
       "      <td>0.392476</td>\n",
       "      <td>...</td>\n",
       "      <td>3.877857e-01</td>\n",
       "      <td>5.863452e-02</td>\n",
       "      <td>0.005090</td>\n",
       "      <td>2.984826e-03</td>\n",
       "      <td>1.210698e-02</td>\n",
       "      <td>0.000808</td>\n",
       "      <td>1.246949e+00</td>\n",
       "      <td>-4.954106</td>\n",
       "      <td>0.337302</td>\n",
       "      <td>0</td>\n",
       "    </tr>\n",
       "  </tbody>\n",
       "</table>\n",
       "<p>13338 rows × 22 columns</p>\n",
       "</div>"
      ],
      "text/plain": [
       "                key       t0   t0_norm    ts  stroke_id  segment_id         x  \\\n",
       "0        3789922_50  3789922  0.000000    50         59           0  0.641310   \n",
       "1        3789922_60  3789922  0.000000    60         59           0  0.641310   \n",
       "2        3789935_70  3789935  0.000074    70         59           0  0.641302   \n",
       "3        3789935_80  3789935  0.000074    80         59           0  0.641223   \n",
       "4        3789948_90  3789948  0.000148    90         59           0  0.641176   \n",
       "...             ...      ...       ...   ...        ...         ...       ...   \n",
       "13333  3965768_6990  3965768  0.999744  6990         98         211  0.681841   \n",
       "13334  3965781_7000  3965781  0.999818  7000         98         211  0.682837   \n",
       "13335  3965797_7010  3965797  0.999909  7010         98         211  0.683357   \n",
       "13336  3965797_7020  3965797  0.999909  7020         98         211  0.683218   \n",
       "13337  3965813_7030  3965813  1.000000  7030         98         211  0.683047   \n",
       "\n",
       "              y         p        x_  ...            x0            y0  \\\n",
       "0      0.533630  0.010099  0.000000  ...  0.000000e+00  0.000000e+00   \n",
       "1      0.533630  0.010496  0.000000  ...  0.000000e+00  0.000000e+00   \n",
       "2      0.533736  0.011080 -0.000008  ... -2.692764e-09  3.597364e-08   \n",
       "3      0.534792  0.013352 -0.000087  ... -5.541555e-08  7.403171e-07   \n",
       "4      0.535248  0.014471 -0.000134  ... -4.470097e-07  5.911015e-06   \n",
       "...         ...       ...       ...  ...           ...           ...   \n",
       "13333  0.491535  0.022277  0.391271  ...  3.756167e-01  8.953800e-03   \n",
       "13334  0.506352  0.022146  0.392267  ...  3.789340e-01  1.712625e-02   \n",
       "13335  0.519482  0.020668  0.392787  ...  3.821502e-01  2.850353e-02   \n",
       "13336  0.528446  0.017685  0.392648  ...  3.851467e-01  4.260437e-02   \n",
       "13337  0.534435  0.015572  0.392476  ...  3.877857e-01  5.863452e-02   \n",
       "\n",
       "             p0            x1            y1        p1             s     angle  \\\n",
       "0      0.000180  0.000000e+00  0.000000e+00  0.000061  0.000000e+00  0.000000   \n",
       "1      0.000428 -2.892860e-10  3.857143e-09  0.000127  3.867976e-07  1.645656   \n",
       "2      0.000845 -6.128571e-09  8.188928e-08  0.000226  8.211829e-06  1.645497   \n",
       "3      0.001436 -5.194643e-08  6.874857e-07  0.000352  6.894454e-05  1.646213   \n",
       "4      0.002164 -2.635250e-07  3.427450e-06  0.000490  3.437566e-04  1.647532   \n",
       "...         ...           ...           ...       ...           ...       ...   \n",
       "13333  0.001862  3.396952e-03 -3.542430e-04  0.000580  3.415373e-01 -6.387092   \n",
       "13334  0.002691  3.351431e-03  3.052728e-03  0.000755  4.533347e-01 -5.544395   \n",
       "13335  0.003480  3.287383e-03  6.348422e-03  0.000820  7.149080e-01 -5.190196   \n",
       "13336  0.004276  3.175609e-03  9.425811e-03  0.000826  9.946376e-01 -5.037351   \n",
       "13337  0.005090  2.984826e-03  1.210698e-02  0.000808  1.246949e+00 -4.954106   \n",
       "\n",
       "             da  card_id  \n",
       "0      0.000000        0  \n",
       "1      0.000000        0  \n",
       "2      0.000000        0  \n",
       "3      0.000000        0  \n",
       "4      0.000000        0  \n",
       "...         ...      ...  \n",
       "13333  0.286425        0  \n",
       "13334  0.501364        0  \n",
       "13335  0.601745        0  \n",
       "13336  0.536521        0  \n",
       "13337  0.337302        0  \n",
       "\n",
       "[13338 rows x 22 columns]"
      ]
     },
     "execution_count": 23,
     "metadata": {},
     "output_type": "execute_result"
    }
   ],
   "source": [
    "data_df"
   ]
  },
  {
   "cell_type": "code",
   "execution_count": 25,
   "id": "97cf86b6-87ec-4ef8-8222-abb4b90d3418",
   "metadata": {},
   "outputs": [],
   "source": [
    "segments = [grp[['s', 'da']].values for i, grp in data_df.groupby(['card_id', 'segment_id'])]"
   ]
  },
  {
   "cell_type": "code",
   "execution_count": 28,
   "id": "9dd297ad-e6b8-4daf-83eb-2d22b6d37581",
   "metadata": {},
   "outputs": [],
   "source": [
    "for i, grp in data_df.groupby(['card_id', 'segment_id']):\n",
    "    pass"
   ]
  },
  {
   "cell_type": "code",
   "execution_count": 56,
   "id": "4e5c54e9-2516-414f-b0b7-9d9d51e429d1",
   "metadata": {},
   "outputs": [],
   "source": [
    "df = pd.DataFrame(data=np.random.random((212, 2)), columns=['x', 'y'])"
   ]
  },
  {
   "cell_type": "code",
   "execution_count": 57,
   "id": "b377b41e-07f4-47ac-8a91-7d39a258d10d",
   "metadata": {},
   "outputs": [],
   "source": [
    "df1 = pd.DataFrame(list(data_df.groupby(['card_id', 'segment_id']).groups.keys()), columns=['a', 'b'])"
   ]
  },
  {
   "cell_type": "code",
   "execution_count": 58,
   "id": "b669d17b-bd79-465c-bf86-7e4e10bf69e3",
   "metadata": {},
   "outputs": [
    {
     "data": {
      "text/html": [
       "<div>\n",
       "<style scoped>\n",
       "    .dataframe tbody tr th:only-of-type {\n",
       "        vertical-align: middle;\n",
       "    }\n",
       "\n",
       "    .dataframe tbody tr th {\n",
       "        vertical-align: top;\n",
       "    }\n",
       "\n",
       "    .dataframe thead th {\n",
       "        text-align: right;\n",
       "    }\n",
       "</style>\n",
       "<table border=\"1\" class=\"dataframe\">\n",
       "  <thead>\n",
       "    <tr style=\"text-align: right;\">\n",
       "      <th></th>\n",
       "      <th>a</th>\n",
       "      <th>b</th>\n",
       "    </tr>\n",
       "  </thead>\n",
       "  <tbody>\n",
       "    <tr>\n",
       "      <th>0</th>\n",
       "      <td>0</td>\n",
       "      <td>0</td>\n",
       "    </tr>\n",
       "    <tr>\n",
       "      <th>1</th>\n",
       "      <td>0</td>\n",
       "      <td>1</td>\n",
       "    </tr>\n",
       "    <tr>\n",
       "      <th>2</th>\n",
       "      <td>0</td>\n",
       "      <td>2</td>\n",
       "    </tr>\n",
       "    <tr>\n",
       "      <th>3</th>\n",
       "      <td>0</td>\n",
       "      <td>3</td>\n",
       "    </tr>\n",
       "    <tr>\n",
       "      <th>4</th>\n",
       "      <td>0</td>\n",
       "      <td>4</td>\n",
       "    </tr>\n",
       "  </tbody>\n",
       "</table>\n",
       "</div>"
      ],
      "text/plain": [
       "   a  b\n",
       "0  0  0\n",
       "1  0  1\n",
       "2  0  2\n",
       "3  0  3\n",
       "4  0  4"
      ]
     },
     "execution_count": 58,
     "metadata": {},
     "output_type": "execute_result"
    }
   ],
   "source": [
    "df1.head()"
   ]
  },
  {
   "cell_type": "code",
   "execution_count": 59,
   "id": "b0d3e7de-2d57-44d8-b23c-1ca103d5d515",
   "metadata": {},
   "outputs": [
    {
     "data": {
      "text/html": [
       "<div>\n",
       "<style scoped>\n",
       "    .dataframe tbody tr th:only-of-type {\n",
       "        vertical-align: middle;\n",
       "    }\n",
       "\n",
       "    .dataframe tbody tr th {\n",
       "        vertical-align: top;\n",
       "    }\n",
       "\n",
       "    .dataframe thead th {\n",
       "        text-align: right;\n",
       "    }\n",
       "</style>\n",
       "<table border=\"1\" class=\"dataframe\">\n",
       "  <thead>\n",
       "    <tr style=\"text-align: right;\">\n",
       "      <th></th>\n",
       "      <th>x</th>\n",
       "      <th>y</th>\n",
       "      <th>a</th>\n",
       "      <th>b</th>\n",
       "    </tr>\n",
       "  </thead>\n",
       "  <tbody>\n",
       "    <tr>\n",
       "      <th>0</th>\n",
       "      <td>0.708302</td>\n",
       "      <td>0.069734</td>\n",
       "      <td>0</td>\n",
       "      <td>0</td>\n",
       "    </tr>\n",
       "    <tr>\n",
       "      <th>1</th>\n",
       "      <td>0.441643</td>\n",
       "      <td>0.317725</td>\n",
       "      <td>0</td>\n",
       "      <td>1</td>\n",
       "    </tr>\n",
       "    <tr>\n",
       "      <th>2</th>\n",
       "      <td>0.817544</td>\n",
       "      <td>0.956611</td>\n",
       "      <td>0</td>\n",
       "      <td>2</td>\n",
       "    </tr>\n",
       "    <tr>\n",
       "      <th>3</th>\n",
       "      <td>0.670186</td>\n",
       "      <td>0.379199</td>\n",
       "      <td>0</td>\n",
       "      <td>3</td>\n",
       "    </tr>\n",
       "    <tr>\n",
       "      <th>4</th>\n",
       "      <td>0.244633</td>\n",
       "      <td>0.729505</td>\n",
       "      <td>0</td>\n",
       "      <td>4</td>\n",
       "    </tr>\n",
       "    <tr>\n",
       "      <th>...</th>\n",
       "      <td>...</td>\n",
       "      <td>...</td>\n",
       "      <td>...</td>\n",
       "      <td>...</td>\n",
       "    </tr>\n",
       "    <tr>\n",
       "      <th>207</th>\n",
       "      <td>0.774592</td>\n",
       "      <td>0.687435</td>\n",
       "      <td>0</td>\n",
       "      <td>207</td>\n",
       "    </tr>\n",
       "    <tr>\n",
       "      <th>208</th>\n",
       "      <td>0.588168</td>\n",
       "      <td>0.127309</td>\n",
       "      <td>0</td>\n",
       "      <td>208</td>\n",
       "    </tr>\n",
       "    <tr>\n",
       "      <th>209</th>\n",
       "      <td>0.239683</td>\n",
       "      <td>0.217877</td>\n",
       "      <td>0</td>\n",
       "      <td>209</td>\n",
       "    </tr>\n",
       "    <tr>\n",
       "      <th>210</th>\n",
       "      <td>0.518629</td>\n",
       "      <td>0.379433</td>\n",
       "      <td>0</td>\n",
       "      <td>210</td>\n",
       "    </tr>\n",
       "    <tr>\n",
       "      <th>211</th>\n",
       "      <td>0.188898</td>\n",
       "      <td>0.985249</td>\n",
       "      <td>0</td>\n",
       "      <td>211</td>\n",
       "    </tr>\n",
       "  </tbody>\n",
       "</table>\n",
       "<p>212 rows × 4 columns</p>\n",
       "</div>"
      ],
      "text/plain": [
       "            x         y  a    b\n",
       "0    0.708302  0.069734  0    0\n",
       "1    0.441643  0.317725  0    1\n",
       "2    0.817544  0.956611  0    2\n",
       "3    0.670186  0.379199  0    3\n",
       "4    0.244633  0.729505  0    4\n",
       "..        ...       ... ..  ...\n",
       "207  0.774592  0.687435  0  207\n",
       "208  0.588168  0.127309  0  208\n",
       "209  0.239683  0.217877  0  209\n",
       "210  0.518629  0.379433  0  210\n",
       "211  0.188898  0.985249  0  211\n",
       "\n",
       "[212 rows x 4 columns]"
      ]
     },
     "execution_count": 59,
     "metadata": {},
     "output_type": "execute_result"
    }
   ],
   "source": [
    "pd.concat([df, df1], axis=1)"
   ]
  },
  {
   "cell_type": "code",
   "execution_count": 47,
   "id": "8031e2d1-e0ad-4fd4-addb-cc197b63ba05",
   "metadata": {},
   "outputs": [
    {
     "data": {
      "text/html": [
       "<div>\n",
       "<style scoped>\n",
       "    .dataframe tbody tr th:only-of-type {\n",
       "        vertical-align: middle;\n",
       "    }\n",
       "\n",
       "    .dataframe tbody tr th {\n",
       "        vertical-align: top;\n",
       "    }\n",
       "\n",
       "    .dataframe thead th {\n",
       "        text-align: right;\n",
       "    }\n",
       "</style>\n",
       "<table border=\"1\" class=\"dataframe\">\n",
       "  <thead>\n",
       "    <tr style=\"text-align: right;\">\n",
       "      <th></th>\n",
       "      <th>x</th>\n",
       "      <th>y</th>\n",
       "      <th>card_id</th>\n",
       "      <th>segment_id</th>\n",
       "    </tr>\n",
       "  </thead>\n",
       "  <tbody>\n",
       "    <tr>\n",
       "      <th>0</th>\n",
       "      <td>0.764947</td>\n",
       "      <td>0.815231</td>\n",
       "      <td>0</td>\n",
       "      <td>0</td>\n",
       "    </tr>\n",
       "    <tr>\n",
       "      <th>1</th>\n",
       "      <td>0.401646</td>\n",
       "      <td>0.257491</td>\n",
       "      <td>0</td>\n",
       "      <td>1</td>\n",
       "    </tr>\n",
       "    <tr>\n",
       "      <th>2</th>\n",
       "      <td>0.244273</td>\n",
       "      <td>0.634911</td>\n",
       "      <td>0</td>\n",
       "      <td>2</td>\n",
       "    </tr>\n",
       "    <tr>\n",
       "      <th>3</th>\n",
       "      <td>0.798396</td>\n",
       "      <td>0.730208</td>\n",
       "      <td>0</td>\n",
       "      <td>3</td>\n",
       "    </tr>\n",
       "    <tr>\n",
       "      <th>4</th>\n",
       "      <td>0.803451</td>\n",
       "      <td>0.538866</td>\n",
       "      <td>0</td>\n",
       "      <td>4</td>\n",
       "    </tr>\n",
       "    <tr>\n",
       "      <th>...</th>\n",
       "      <td>...</td>\n",
       "      <td>...</td>\n",
       "      <td>...</td>\n",
       "      <td>...</td>\n",
       "    </tr>\n",
       "    <tr>\n",
       "      <th>95</th>\n",
       "      <td>0.170524</td>\n",
       "      <td>0.204053</td>\n",
       "      <td>0</td>\n",
       "      <td>95</td>\n",
       "    </tr>\n",
       "    <tr>\n",
       "      <th>96</th>\n",
       "      <td>0.385884</td>\n",
       "      <td>0.646108</td>\n",
       "      <td>0</td>\n",
       "      <td>96</td>\n",
       "    </tr>\n",
       "    <tr>\n",
       "      <th>97</th>\n",
       "      <td>0.922790</td>\n",
       "      <td>0.553277</td>\n",
       "      <td>0</td>\n",
       "      <td>97</td>\n",
       "    </tr>\n",
       "    <tr>\n",
       "      <th>98</th>\n",
       "      <td>0.138827</td>\n",
       "      <td>0.979906</td>\n",
       "      <td>0</td>\n",
       "      <td>98</td>\n",
       "    </tr>\n",
       "    <tr>\n",
       "      <th>99</th>\n",
       "      <td>0.692699</td>\n",
       "      <td>0.046608</td>\n",
       "      <td>0</td>\n",
       "      <td>99</td>\n",
       "    </tr>\n",
       "  </tbody>\n",
       "</table>\n",
       "<p>100 rows × 4 columns</p>\n",
       "</div>"
      ],
      "text/plain": [
       "           x         y card_id  segment_id\n",
       "0   0.764947  0.815231       0           0\n",
       "1   0.401646  0.257491       0           1\n",
       "2   0.244273  0.634911       0           2\n",
       "3   0.798396  0.730208       0           3\n",
       "4   0.803451  0.538866       0           4\n",
       "..       ...       ...     ...         ...\n",
       "95  0.170524  0.204053       0          95\n",
       "96  0.385884  0.646108       0          96\n",
       "97  0.922790  0.553277       0          97\n",
       "98  0.138827  0.979906       0          98\n",
       "99  0.692699  0.046608       0          99\n",
       "\n",
       "[100 rows x 4 columns]"
      ]
     },
     "execution_count": 47,
     "metadata": {},
     "output_type": "execute_result"
    }
   ],
   "source": [
    "df"
   ]
  },
  {
   "cell_type": "code",
   "execution_count": 29,
   "id": "4ab35569-688e-4938-8f08-90a922c18bfd",
   "metadata": {},
   "outputs": [
    {
     "data": {
      "text/plain": [
       "('0', 211)"
      ]
     },
     "execution_count": 29,
     "metadata": {},
     "output_type": "execute_result"
    }
   ],
   "source": [
    "i"
   ]
  },
  {
   "cell_type": "code",
   "execution_count": null,
   "id": "8e7a2958-a989-4fa9-b7e6-3b8251d593f2",
   "metadata": {},
   "outputs": [],
   "source": [
    "data_df"
   ]
  },
  {
   "cell_type": "code",
   "execution_count": null,
   "id": "323c242d-482c-4e00-b7b4-f44792509f3c",
   "metadata": {},
   "outputs": [],
   "source": []
  },
  {
   "cell_type": "code",
   "execution_count": null,
   "id": "6579abc4-f581-4d83-b59c-dd78db09e9eb",
   "metadata": {},
   "outputs": [],
   "source": []
  },
  {
   "cell_type": "code",
   "execution_count": null,
   "id": "42523251-638c-4325-bb5a-657abf73ccc8",
   "metadata": {},
   "outputs": [],
   "source": []
  },
  {
   "cell_type": "code",
   "execution_count": null,
   "id": "c74cba45-a74c-4247-ac1e-640016f46674",
   "metadata": {},
   "outputs": [],
   "source": []
  },
  {
   "cell_type": "code",
   "execution_count": null,
   "id": "b96ea7f5-5eb2-4790-8c0b-ce0b7dcfc691",
   "metadata": {},
   "outputs": [],
   "source": []
  },
  {
   "cell_type": "code",
   "execution_count": null,
   "id": "e4452f9a-d150-423e-80fb-7fcc17a7d3dc",
   "metadata": {},
   "outputs": [],
   "source": []
  },
  {
   "cell_type": "code",
   "execution_count": 10,
   "id": "eecbb18d-57d1-4999-b4c7-1486f83a8cc1",
   "metadata": {},
   "outputs": [],
   "source": [
    "import warnings"
   ]
  },
  {
   "cell_type": "code",
   "execution_count": 11,
   "id": "e07fe0d0-e53a-4246-b9c4-b1d367ec9d8b",
   "metadata": {},
   "outputs": [],
   "source": [
    "def suppress_warning(f, *args):\n",
    "    with warnings.catch_warnings():\n",
    "        warnings.simplefilter(\"ignore\")\n",
    "        res = f(args)\n",
    "    return res"
   ]
  },
  {
   "cell_type": "code",
   "execution_count": 14,
   "id": "d143c415-4662-4713-8e0e-0c24e93e0897",
   "metadata": {},
   "outputs": [],
   "source": [
    "data = pd.read_csv(filename, index_col=0)\n",
    "data.columns = ['source', 'data']"
   ]
  },
  {
   "cell_type": "code",
   "execution_count": 15,
   "id": "cafe29c4-861d-4f5b-9bf1-5da6eac06683",
   "metadata": {},
   "outputs": [
    {
     "data": {
      "text/html": [
       "<div>\n",
       "<style scoped>\n",
       "    .dataframe tbody tr th:only-of-type {\n",
       "        vertical-align: middle;\n",
       "    }\n",
       "\n",
       "    .dataframe tbody tr th {\n",
       "        vertical-align: top;\n",
       "    }\n",
       "\n",
       "    .dataframe thead th {\n",
       "        text-align: right;\n",
       "    }\n",
       "</style>\n",
       "<table border=\"1\" class=\"dataframe\">\n",
       "  <thead>\n",
       "    <tr style=\"text-align: right;\">\n",
       "      <th></th>\n",
       "      <th>source</th>\n",
       "      <th>data</th>\n",
       "    </tr>\n",
       "  </thead>\n",
       "  <tbody>\n",
       "    <tr>\n",
       "      <th>0</th>\n",
       "      <td>/data</td>\n",
       "      <td>{\"sample_key\":\"3789922_50\",\"timestamp0\":378992...</td>\n",
       "    </tr>\n",
       "    <tr>\n",
       "      <th>1</th>\n",
       "      <td>/data</td>\n",
       "      <td>{\"sample_key\":\"3789922_60\",\"timestamp0\":378992...</td>\n",
       "    </tr>\n",
       "    <tr>\n",
       "      <th>2</th>\n",
       "      <td>/data</td>\n",
       "      <td>{\"sample_key\":\"3789935_70\",\"timestamp0\":378993...</td>\n",
       "    </tr>\n",
       "    <tr>\n",
       "      <th>3</th>\n",
       "      <td>/data</td>\n",
       "      <td>{\"sample_key\":\"3789935_80\",\"timestamp0\":378993...</td>\n",
       "    </tr>\n",
       "    <tr>\n",
       "      <th>4</th>\n",
       "      <td>/data</td>\n",
       "      <td>{\"sample_key\":\"3789948_90\",\"timestamp0\":378994...</td>\n",
       "    </tr>\n",
       "  </tbody>\n",
       "</table>\n",
       "</div>"
      ],
      "text/plain": [
       "  source                                               data\n",
       "0  /data  {\"sample_key\":\"3789922_50\",\"timestamp0\":378992...\n",
       "1  /data  {\"sample_key\":\"3789922_60\",\"timestamp0\":378992...\n",
       "2  /data  {\"sample_key\":\"3789935_70\",\"timestamp0\":378993...\n",
       "3  /data  {\"sample_key\":\"3789935_80\",\"timestamp0\":378993...\n",
       "4  /data  {\"sample_key\":\"3789948_90\",\"timestamp0\":378994..."
      ]
     },
     "execution_count": 15,
     "metadata": {},
     "output_type": "execute_result"
    }
   ],
   "source": [
    "data.head()"
   ]
  },
  {
   "cell_type": "code",
   "execution_count": null,
   "id": "8e53f9b8-8cb0-423c-9aed-21e96eb012f7",
   "metadata": {},
   "outputs": [],
   "source": []
  },
  {
   "cell_type": "code",
   "execution_count": null,
   "id": "51367f97-21c1-479d-9452-55cbcd0612eb",
   "metadata": {},
   "outputs": [],
   "source": []
  },
  {
   "cell_type": "code",
   "execution_count": null,
   "id": "da860b55-8f7a-4ef6-a5bd-8cd8450df1f6",
   "metadata": {},
   "outputs": [],
   "source": []
  },
  {
   "cell_type": "code",
   "execution_count": null,
   "id": "a2cca3f1-5332-4ed9-975b-cdeb766c2092",
   "metadata": {},
   "outputs": [],
   "source": []
  },
  {
   "cell_type": "code",
   "execution_count": null,
   "id": "6e0774fa-1e42-4bda-8dcb-65a9ca78b45a",
   "metadata": {},
   "outputs": [],
   "source": []
  },
  {
   "cell_type": "code",
   "execution_count": null,
   "id": "9e8c2caf-fc31-4e3d-8ab5-f4c685b02222",
   "metadata": {},
   "outputs": [],
   "source": []
  },
  {
   "cell_type": "markdown",
   "id": "a0746f81-8a24-41fd-be1b-ca85144c0dd8",
   "metadata": {
    "tags": []
   },
   "source": [
    "## JS"
   ]
  },
  {
   "cell_type": "markdown",
   "id": "70586e13-6410-47ea-acf3-d01147d70c2a",
   "metadata": {
    "tags": []
   },
   "source": [
    "### fetch"
   ]
  },
  {
   "cell_type": "code",
   "execution_count": 7,
   "id": "5f161a81-fe0a-4c62-b7d9-66d8d5e5230d",
   "metadata": {},
   "outputs": [],
   "source": [
    "import processing"
   ]
  },
  {
   "cell_type": "code",
   "execution_count": 8,
   "id": "140d21c9-0919-480c-8ff7-e8e91cb4a495",
   "metadata": {},
   "outputs": [
    {
     "ename": "AttributeError",
     "evalue": "module 'processing' has no attribute 'format_data'",
     "output_type": "error",
     "traceback": [
      "\u001b[0;31m---------------------------------------------------------------------------\u001b[0m",
      "\u001b[0;31mAttributeError\u001b[0m                            Traceback (most recent call last)",
      "\u001b[0;32m/var/folders/nt/9xf5wks911n7s2gkd4jmkfh40000gq/T/ipykernel_5881/3194446724.py\u001b[0m in \u001b[0;36m<module>\u001b[0;34m\u001b[0m\n\u001b[0;32m----> 1\u001b[0;31m \u001b[0mdata_df\u001b[0m \u001b[0;34m=\u001b[0m \u001b[0mprocessing\u001b[0m\u001b[0;34m.\u001b[0m\u001b[0mformat_data\u001b[0m\u001b[0;34m(\u001b[0m\u001b[0mselect\u001b[0m\u001b[0;34m(\u001b[0m\u001b[0mdata\u001b[0m\u001b[0;34m,\u001b[0m \u001b[0msource\u001b[0m\u001b[0;34m=\u001b[0m\u001b[0;34m'/data'\u001b[0m\u001b[0;34m)\u001b[0m\u001b[0;34m)\u001b[0m\u001b[0;34m\u001b[0m\u001b[0;34m\u001b[0m\u001b[0m\n\u001b[0m",
      "\u001b[0;31mAttributeError\u001b[0m: module 'processing' has no attribute 'format_data'"
     ]
    }
   ],
   "source": [
    "data_df = processing.format_data(select(data, source='/data'))"
   ]
  },
  {
   "cell_type": "code",
   "execution_count": null,
   "id": "53f3cd2e-d22f-4c7c-9aa3-711057b9c58c",
   "metadata": {},
   "outputs": [],
   "source": [
    "feat_df = processing.format_feat(select(data, source='/feat'))"
   ]
  },
  {
   "cell_type": "code",
   "execution_count": 9,
   "id": "6e21d6f7-60ae-44ff-8cab-387bf0f2fcc0",
   "metadata": {},
   "outputs": [
    {
     "data": {
      "text/html": [
       "<div>\n",
       "<style scoped>\n",
       "    .dataframe tbody tr th:only-of-type {\n",
       "        vertical-align: middle;\n",
       "    }\n",
       "\n",
       "    .dataframe tbody tr th {\n",
       "        vertical-align: top;\n",
       "    }\n",
       "\n",
       "    .dataframe thead th {\n",
       "        text-align: right;\n",
       "    }\n",
       "</style>\n",
       "<table border=\"1\" class=\"dataframe\">\n",
       "  <thead>\n",
       "    <tr style=\"text-align: right;\">\n",
       "      <th></th>\n",
       "      <th>key</th>\n",
       "      <th>t0</th>\n",
       "      <th>ts</th>\n",
       "      <th>stroke_id</th>\n",
       "      <th>x</th>\n",
       "      <th>y</th>\n",
       "      <th>p</th>\n",
       "      <th>x_</th>\n",
       "      <th>y_</th>\n",
       "      <th>p_</th>\n",
       "      <th>x0</th>\n",
       "      <th>y0</th>\n",
       "      <th>p0</th>\n",
       "      <th>x1</th>\n",
       "      <th>y1</th>\n",
       "      <th>p1</th>\n",
       "    </tr>\n",
       "  </thead>\n",
       "  <tbody>\n",
       "    <tr>\n",
       "      <th>0</th>\n",
       "      <td>223155_50</td>\n",
       "      <td>223155</td>\n",
       "      <td>50</td>\n",
       "      <td>7</td>\n",
       "      <td>0.108465</td>\n",
       "      <td>0.922634</td>\n",
       "      <td>0.016437</td>\n",
       "      <td>-0.000808</td>\n",
       "      <td>0.000759</td>\n",
       "      <td>0.012175</td>\n",
       "      <td>-0.000011</td>\n",
       "      <td>0.000010</td>\n",
       "      <td>0.000634</td>\n",
       "      <td>-0.000005</td>\n",
       "      <td>0.000004</td>\n",
       "      <td>0.000210</td>\n",
       "    </tr>\n",
       "    <tr>\n",
       "      <th>1</th>\n",
       "      <td>223168_60</td>\n",
       "      <td>223168</td>\n",
       "      <td>60</td>\n",
       "      <td>7</td>\n",
       "      <td>0.107795</td>\n",
       "      <td>0.923251</td>\n",
       "      <td>0.019668</td>\n",
       "      <td>-0.001477</td>\n",
       "      <td>0.001376</td>\n",
       "      <td>0.015406</td>\n",
       "      <td>-0.000035</td>\n",
       "      <td>0.000032</td>\n",
       "      <td>0.001471</td>\n",
       "      <td>-0.000012</td>\n",
       "      <td>0.000011</td>\n",
       "      <td>0.000431</td>\n",
       "    </tr>\n",
       "    <tr>\n",
       "      <th>2</th>\n",
       "      <td>223181_70</td>\n",
       "      <td>223181</td>\n",
       "      <td>70</td>\n",
       "      <td>7</td>\n",
       "      <td>0.107020</td>\n",
       "      <td>0.923929</td>\n",
       "      <td>0.022609</td>\n",
       "      <td>-0.002252</td>\n",
       "      <td>0.002054</td>\n",
       "      <td>0.018348</td>\n",
       "      <td>-0.000086</td>\n",
       "      <td>0.000079</td>\n",
       "      <td>0.002857</td>\n",
       "      <td>-0.000027</td>\n",
       "      <td>0.000025</td>\n",
       "      <td>0.000760</td>\n",
       "    </tr>\n",
       "    <tr>\n",
       "      <th>3</th>\n",
       "      <td>223181_80</td>\n",
       "      <td>223181</td>\n",
       "      <td>80</td>\n",
       "      <td>7</td>\n",
       "      <td>0.106651</td>\n",
       "      <td>0.924164</td>\n",
       "      <td>0.022216</td>\n",
       "      <td>-0.002621</td>\n",
       "      <td>0.002289</td>\n",
       "      <td>0.017955</td>\n",
       "      <td>-0.000183</td>\n",
       "      <td>0.000169</td>\n",
       "      <td>0.004819</td>\n",
       "      <td>-0.000053</td>\n",
       "      <td>0.000049</td>\n",
       "      <td>0.001180</td>\n",
       "    </tr>\n",
       "    <tr>\n",
       "      <th>4</th>\n",
       "      <td>223194_90</td>\n",
       "      <td>223194</td>\n",
       "      <td>90</td>\n",
       "      <td>7</td>\n",
       "      <td>0.105952</td>\n",
       "      <td>0.924211</td>\n",
       "      <td>0.021473</td>\n",
       "      <td>-0.003320</td>\n",
       "      <td>0.002336</td>\n",
       "      <td>0.017212</td>\n",
       "      <td>-0.000349</td>\n",
       "      <td>0.000322</td>\n",
       "      <td>0.007260</td>\n",
       "      <td>-0.000094</td>\n",
       "      <td>0.000086</td>\n",
       "      <td>0.001638</td>\n",
       "    </tr>\n",
       "  </tbody>\n",
       "</table>\n",
       "</div>"
      ],
      "text/plain": [
       "         key      t0  ts  stroke_id         x         y         p        x_  \\\n",
       "0  223155_50  223155  50          7  0.108465  0.922634  0.016437 -0.000808   \n",
       "1  223168_60  223168  60          7  0.107795  0.923251  0.019668 -0.001477   \n",
       "2  223181_70  223181  70          7  0.107020  0.923929  0.022609 -0.002252   \n",
       "3  223181_80  223181  80          7  0.106651  0.924164  0.022216 -0.002621   \n",
       "4  223194_90  223194  90          7  0.105952  0.924211  0.021473 -0.003320   \n",
       "\n",
       "         y_        p_        x0        y0        p0        x1        y1  \\\n",
       "0  0.000759  0.012175 -0.000011  0.000010  0.000634 -0.000005  0.000004   \n",
       "1  0.001376  0.015406 -0.000035  0.000032  0.001471 -0.000012  0.000011   \n",
       "2  0.002054  0.018348 -0.000086  0.000079  0.002857 -0.000027  0.000025   \n",
       "3  0.002289  0.017955 -0.000183  0.000169  0.004819 -0.000053  0.000049   \n",
       "4  0.002336  0.017212 -0.000349  0.000322  0.007260 -0.000094  0.000086   \n",
       "\n",
       "         p1  \n",
       "0  0.000210  \n",
       "1  0.000431  \n",
       "2  0.000760  \n",
       "3  0.001180  \n",
       "4  0.001638  "
      ]
     },
     "execution_count": 9,
     "metadata": {},
     "output_type": "execute_result"
    }
   ],
   "source": [
    "data_df.head()"
   ]
  },
  {
   "cell_type": "code",
   "execution_count": 10,
   "id": "dcd6a2a3-4acd-4f2b-98da-0e5c23a471f3",
   "metadata": {},
   "outputs": [
    {
     "data": {
      "text/html": [
       "<div>\n",
       "<style scoped>\n",
       "    .dataframe tbody tr th:only-of-type {\n",
       "        vertical-align: middle;\n",
       "    }\n",
       "\n",
       "    .dataframe tbody tr th {\n",
       "        vertical-align: top;\n",
       "    }\n",
       "\n",
       "    .dataframe thead th {\n",
       "        text-align: right;\n",
       "    }\n",
       "</style>\n",
       "<table border=\"1\" class=\"dataframe\">\n",
       "  <thead>\n",
       "    <tr style=\"text-align: right;\">\n",
       "      <th></th>\n",
       "      <th>key</th>\n",
       "      <th>segment_id</th>\n",
       "      <th>s</th>\n",
       "      <th>da</th>\n",
       "      <th>min_dtw</th>\n",
       "      <th>min_dtw_id</th>\n",
       "    </tr>\n",
       "  </thead>\n",
       "  <tbody>\n",
       "    <tr>\n",
       "      <th>0</th>\n",
       "      <td>223155_50</td>\n",
       "      <td>1</td>\n",
       "      <td>0.000063</td>\n",
       "      <td>-0.001177</td>\n",
       "      <td>10000.0</td>\n",
       "      <td>0</td>\n",
       "    </tr>\n",
       "    <tr>\n",
       "      <th>1</th>\n",
       "      <td>223168_60</td>\n",
       "      <td>1</td>\n",
       "      <td>0.000164</td>\n",
       "      <td>-0.001177</td>\n",
       "      <td>10000.0</td>\n",
       "      <td>0</td>\n",
       "    </tr>\n",
       "    <tr>\n",
       "      <th>2</th>\n",
       "      <td>223181_70</td>\n",
       "      <td>1</td>\n",
       "      <td>0.000366</td>\n",
       "      <td>-0.001177</td>\n",
       "      <td>10000.0</td>\n",
       "      <td>0</td>\n",
       "    </tr>\n",
       "    <tr>\n",
       "      <th>3</th>\n",
       "      <td>223181_80</td>\n",
       "      <td>1</td>\n",
       "      <td>0.000719</td>\n",
       "      <td>0.001078</td>\n",
       "      <td>10000.0</td>\n",
       "      <td>0</td>\n",
       "    </tr>\n",
       "    <tr>\n",
       "      <th>4</th>\n",
       "      <td>223194_90</td>\n",
       "      <td>1</td>\n",
       "      <td>0.001273</td>\n",
       "      <td>0.005042</td>\n",
       "      <td>10000.0</td>\n",
       "      <td>0</td>\n",
       "    </tr>\n",
       "  </tbody>\n",
       "</table>\n",
       "</div>"
      ],
      "text/plain": [
       "         key  segment_id         s        da  min_dtw min_dtw_id\n",
       "0  223155_50           1  0.000063 -0.001177  10000.0          0\n",
       "1  223168_60           1  0.000164 -0.001177  10000.0          0\n",
       "2  223181_70           1  0.000366 -0.001177  10000.0          0\n",
       "3  223181_80           1  0.000719  0.001078  10000.0          0\n",
       "4  223194_90           1  0.001273  0.005042  10000.0          0"
      ]
     },
     "execution_count": 10,
     "metadata": {},
     "output_type": "execute_result"
    }
   ],
   "source": [
    "feat_df.head()"
   ]
  },
  {
   "cell_type": "code",
   "execution_count": 30,
   "id": "3f8155bd-e7d1-46ad-a17c-72e36a0fa066",
   "metadata": {},
   "outputs": [],
   "source": [
    "segment_ids = list(set(feat_df['segment_id']))"
   ]
  },
  {
   "cell_type": "code",
   "execution_count": 31,
   "id": "00bd22e3-c217-4b10-b7c8-b042670efe39",
   "metadata": {},
   "outputs": [],
   "source": [
    "segments = []\n",
    "for i, grp in feat_df.groupby('segment_id'):\n",
    "    gi = grp.join(data_df.set_index('key'), on='key').copy()\n",
    "    segments.append(gi)"
   ]
  },
  {
   "cell_type": "code",
   "execution_count": 32,
   "id": "77955ca1-eb5f-44e4-b6ed-57ac6b875ad0",
   "metadata": {},
   "outputs": [],
   "source": [
    "from ipywidgets import interact, interactive, fixed, interact_manual\n",
    "import ipywidgets as widgets"
   ]
  },
  {
   "cell_type": "code",
   "execution_count": 33,
   "id": "0f6449a2-22b5-4da2-9739-b22980a67c44",
   "metadata": {},
   "outputs": [],
   "source": [
    "def plot_one_segment(i):\n",
    "    fig, ax = plt.subplots()\n",
    "    segments[i].plot(x='ts', y='s', ax=ax)\n",
    "    segments[i].plot(x='ts', y='da', ax=ax)"
   ]
  },
  {
   "cell_type": "code",
   "execution_count": 34,
   "id": "d28a8434-ef7e-46c9-aead-9b867893146b",
   "metadata": {},
   "outputs": [
    {
     "data": {
      "application/vnd.jupyter.widget-view+json": {
       "model_id": "c257668c66714c27bdf3bf32870ae49d",
       "version_major": 2,
       "version_minor": 0
      },
      "text/plain": [
       "interactive(children=(IntSlider(value=1, description='i', max=354, min=1), Output()), _dom_classes=('widget-in…"
      ]
     },
     "metadata": {},
     "output_type": "display_data"
    }
   ],
   "source": [
    "interact(plot_one_segment, i=widgets.IntSlider(min=segment_ids[0], max=segment_ids[-1], step=1, value=segment_ids[0]));"
   ]
  },
  {
   "cell_type": "code",
   "execution_count": 16,
   "id": "fc780c9a-7671-49ea-a0aa-9743ce3efabf",
   "metadata": {},
   "outputs": [],
   "source": [
    "da = np.unwrap(segments[1]['da'].values, period=1.1)"
   ]
  },
  {
   "cell_type": "code",
   "execution_count": 17,
   "id": "ea8e5c3e-234e-4eb6-a142-0ddfdfaba081",
   "metadata": {},
   "outputs": [
    {
     "data": {
      "text/plain": [
       "[<matplotlib.lines.Line2D at 0x7f91c1eae110>]"
      ]
     },
     "execution_count": 17,
     "metadata": {},
     "output_type": "execute_result"
    },
    {
     "data": {
      "image/png": "[encoded data removed]",
      "text/plain": [
       "<Figure size 432x288 with 1 Axes>"
      ]
     },
     "metadata": {
      "needs_background": "light"
     },
     "output_type": "display_data"
    }
   ],
   "source": [
    "plt.plot(da)\n",
    "plt.plot(da, '.')"
   ]
  },
  {
   "cell_type": "markdown",
   "id": "2f5390a1-7507-49d8-bc86-2a7fe672e4ce",
   "metadata": {
    "tags": []
   },
   "source": [
    "### embed"
   ]
  },
  {
   "cell_type": "code",
   "execution_count": 49,
   "id": "7fb1215a-ef52-43c2-a5fc-5953bee90fb7",
   "metadata": {},
   "outputs": [],
   "source": [
    "import clusterisation"
   ]
  },
  {
   "cell_type": "code",
   "execution_count": 21,
   "id": "8db14221-95a0-4f5b-968f-2b8fcc0aabf4",
   "metadata": {},
   "outputs": [
    {
     "name": "stderr",
     "output_type": "stream",
     "text": [
      "[Parallel(n_jobs=8)]: Using backend LokyBackend with 8 concurrent workers.\n",
      "[Parallel(n_jobs=8)]: Done  34 tasks      | elapsed:    3.4s\n",
      "[Parallel(n_jobs=8)]: Done 4128 tasks      | elapsed:    5.7s\n",
      "[Parallel(n_jobs=8)]: Done 20128 tasks      | elapsed:   13.9s\n",
      "[Parallel(n_jobs=8)]: Done 42528 tasks      | elapsed:   25.5s\n",
      "[Parallel(n_jobs=8)]: Done 61410 out of 61425 | elapsed:   35.0s remaining:    0.0s\n",
      "[Parallel(n_jobs=8)]: Done 61425 out of 61425 | elapsed:   35.0s finished\n"
     ]
    }
   ],
   "source": [
    "sm_seg = clusterisation.compute_similarity_matrix(segments)"
   ]
  },
  {
   "cell_type": "code",
   "execution_count": 55,
   "id": "ce1fa6c4-d14c-403f-a7e5-9990b2ac544d",
   "metadata": {},
   "outputs": [],
   "source": [
    "with warnings.catch_warnings():\n",
    "    warnings.simplefilter('ignore')\n",
    "    emb_seg = clusterisation.tsne_embed(sm_seg, perplexity=10) "
   ]
  },
  {
   "cell_type": "code",
   "execution_count": 56,
   "id": "8ba81589-7a38-422b-b6a2-643524c761b5",
   "metadata": {},
   "outputs": [
    {
     "data": {
      "text/plain": [
       "<matplotlib.collections.PathCollection at 0x7f91a94e6390>"
      ]
     },
     "execution_count": 56,
     "metadata": {},
     "output_type": "execute_result"
    },
    {
     "data": {
      "image/png": "[encoded data removed]",
      "text/plain": [
       "<Figure size 432x288 with 1 Axes>"
      ]
     },
     "metadata": {
      "needs_background": "light"
     },
     "output_type": "display_data"
    }
   ],
   "source": [
    "plt.scatter(emb_seg[:, 0], emb_seg[:, 1])"
   ]
  },
  {
   "cell_type": "markdown",
   "id": "3c76d176-cbbc-4425-918e-4be7be9e986a",
   "metadata": {},
   "source": [
    "## PYTHON"
   ]
  },
  {
   "cell_type": "markdown",
   "id": "06a97318-05bf-44e9-94f6-3eb7f2a25a65",
   "metadata": {
    "tags": []
   },
   "source": [
    "### compute"
   ]
  },
  {
   "cell_type": "code",
   "execution_count": 104,
   "id": "1526487b-df6b-489b-aa51-2bfcc3ed6cc5",
   "metadata": {},
   "outputs": [],
   "source": [
    "processing = reload(processing)"
   ]
  },
  {
   "cell_type": "code",
   "execution_count": 239,
   "id": "18de1eda-e6e7-4736-8f60-80dd8a518827",
   "metadata": {},
   "outputs": [],
   "source": [
    "fe = processing.FeatureExtractor(dims=['da', 's'])"
   ]
  },
  {
   "cell_type": "code",
   "execution_count": 240,
   "id": "656d7806-f8a6-429c-857a-912f90cc7335",
   "metadata": {},
   "outputs": [
    {
     "data": {
      "text/html": [
       "<div>\n",
       "<style scoped>\n",
       "    .dataframe tbody tr th:only-of-type {\n",
       "        vertical-align: middle;\n",
       "    }\n",
       "\n",
       "    .dataframe tbody tr th {\n",
       "        vertical-align: top;\n",
       "    }\n",
       "\n",
       "    .dataframe thead th {\n",
       "        text-align: right;\n",
       "    }\n",
       "</style>\n",
       "<table border=\"1\" class=\"dataframe\">\n",
       "  <thead>\n",
       "    <tr style=\"text-align: right;\">\n",
       "      <th></th>\n",
       "      <th>key</th>\n",
       "      <th>t0</th>\n",
       "      <th>ts</th>\n",
       "      <th>stroke_id</th>\n",
       "      <th>x</th>\n",
       "      <th>y</th>\n",
       "      <th>p</th>\n",
       "      <th>x_</th>\n",
       "      <th>y_</th>\n",
       "      <th>p_</th>\n",
       "      <th>x0</th>\n",
       "      <th>y0</th>\n",
       "      <th>p0</th>\n",
       "      <th>x1</th>\n",
       "      <th>y1</th>\n",
       "      <th>p1</th>\n",
       "    </tr>\n",
       "  </thead>\n",
       "  <tbody>\n",
       "    <tr>\n",
       "      <th>0</th>\n",
       "      <td>223155_50</td>\n",
       "      <td>223155</td>\n",
       "      <td>50</td>\n",
       "      <td>7</td>\n",
       "      <td>0.108465</td>\n",
       "      <td>0.922634</td>\n",
       "      <td>0.016437</td>\n",
       "      <td>-0.000808</td>\n",
       "      <td>0.000759</td>\n",
       "      <td>0.012175</td>\n",
       "      <td>-0.000011</td>\n",
       "      <td>0.000010</td>\n",
       "      <td>0.000634</td>\n",
       "      <td>-0.000005</td>\n",
       "      <td>0.000004</td>\n",
       "      <td>0.000210</td>\n",
       "    </tr>\n",
       "    <tr>\n",
       "      <th>1</th>\n",
       "      <td>223168_60</td>\n",
       "      <td>223168</td>\n",
       "      <td>60</td>\n",
       "      <td>7</td>\n",
       "      <td>0.107795</td>\n",
       "      <td>0.923251</td>\n",
       "      <td>0.019668</td>\n",
       "      <td>-0.001477</td>\n",
       "      <td>0.001376</td>\n",
       "      <td>0.015406</td>\n",
       "      <td>-0.000035</td>\n",
       "      <td>0.000032</td>\n",
       "      <td>0.001471</td>\n",
       "      <td>-0.000012</td>\n",
       "      <td>0.000011</td>\n",
       "      <td>0.000431</td>\n",
       "    </tr>\n",
       "    <tr>\n",
       "      <th>2</th>\n",
       "      <td>223181_70</td>\n",
       "      <td>223181</td>\n",
       "      <td>70</td>\n",
       "      <td>7</td>\n",
       "      <td>0.107020</td>\n",
       "      <td>0.923929</td>\n",
       "      <td>0.022609</td>\n",
       "      <td>-0.002252</td>\n",
       "      <td>0.002054</td>\n",
       "      <td>0.018348</td>\n",
       "      <td>-0.000086</td>\n",
       "      <td>0.000079</td>\n",
       "      <td>0.002857</td>\n",
       "      <td>-0.000027</td>\n",
       "      <td>0.000025</td>\n",
       "      <td>0.000760</td>\n",
       "    </tr>\n",
       "    <tr>\n",
       "      <th>3</th>\n",
       "      <td>223181_80</td>\n",
       "      <td>223181</td>\n",
       "      <td>80</td>\n",
       "      <td>7</td>\n",
       "      <td>0.106651</td>\n",
       "      <td>0.924164</td>\n",
       "      <td>0.022216</td>\n",
       "      <td>-0.002621</td>\n",
       "      <td>0.002289</td>\n",
       "      <td>0.017955</td>\n",
       "      <td>-0.000183</td>\n",
       "      <td>0.000169</td>\n",
       "      <td>0.004819</td>\n",
       "      <td>-0.000053</td>\n",
       "      <td>0.000049</td>\n",
       "      <td>0.001180</td>\n",
       "    </tr>\n",
       "    <tr>\n",
       "      <th>4</th>\n",
       "      <td>223194_90</td>\n",
       "      <td>223194</td>\n",
       "      <td>90</td>\n",
       "      <td>7</td>\n",
       "      <td>0.105952</td>\n",
       "      <td>0.924211</td>\n",
       "      <td>0.021473</td>\n",
       "      <td>-0.003320</td>\n",
       "      <td>0.002336</td>\n",
       "      <td>0.017212</td>\n",
       "      <td>-0.000349</td>\n",
       "      <td>0.000322</td>\n",
       "      <td>0.007260</td>\n",
       "      <td>-0.000094</td>\n",
       "      <td>0.000086</td>\n",
       "      <td>0.001638</td>\n",
       "    </tr>\n",
       "  </tbody>\n",
       "</table>\n",
       "</div>"
      ],
      "text/plain": [
       "         key      t0  ts  stroke_id         x         y         p        x_  \\\n",
       "0  223155_50  223155  50          7  0.108465  0.922634  0.016437 -0.000808   \n",
       "1  223168_60  223168  60          7  0.107795  0.923251  0.019668 -0.001477   \n",
       "2  223181_70  223181  70          7  0.107020  0.923929  0.022609 -0.002252   \n",
       "3  223181_80  223181  80          7  0.106651  0.924164  0.022216 -0.002621   \n",
       "4  223194_90  223194  90          7  0.105952  0.924211  0.021473 -0.003320   \n",
       "\n",
       "         y_        p_        x0        y0        p0        x1        y1  \\\n",
       "0  0.000759  0.012175 -0.000011  0.000010  0.000634 -0.000005  0.000004   \n",
       "1  0.001376  0.015406 -0.000035  0.000032  0.001471 -0.000012  0.000011   \n",
       "2  0.002054  0.018348 -0.000086  0.000079  0.002857 -0.000027  0.000025   \n",
       "3  0.002289  0.017955 -0.000183  0.000169  0.004819 -0.000053  0.000049   \n",
       "4  0.002336  0.017212 -0.000349  0.000322  0.007260 -0.000094  0.000086   \n",
       "\n",
       "         p1  \n",
       "0  0.000210  \n",
       "1  0.000431  \n",
       "2  0.000760  \n",
       "3  0.001180  \n",
       "4  0.001638  "
      ]
     },
     "execution_count": 240,
     "metadata": {},
     "output_type": "execute_result"
    }
   ],
   "source": [
    "data_df.head()"
   ]
  },
  {
   "cell_type": "code",
   "execution_count": 241,
   "id": "76a61a1c-08a5-4130-ba4c-1acf5e50d172",
   "metadata": {},
   "outputs": [],
   "source": [
    "segmenter = processing.SegmentNp()"
   ]
  },
  {
   "cell_type": "code",
   "execution_count": 242,
   "id": "62d1aded-b708-40f9-831d-3411f9916979",
   "metadata": {},
   "outputs": [],
   "source": [
    "segments_py = []\n",
    "for i , stroke in data_df.groupby(\"stroke_id\"):\n",
    "    sample = stroke[['ts', 'x0', 'y0']]\n",
    "    sample.columns = ['t', 'x', 'y']\n",
    "    feat = fe(sample)\n",
    "    tmp = segmenter(feat.values)\n",
    "    segments_py.append(tmp)"
   ]
  },
  {
   "cell_type": "code",
   "execution_count": 243,
   "id": "a890fb91-9418-4f1e-86a9-4b0436bb053d",
   "metadata": {},
   "outputs": [],
   "source": [
    "segments_py = [j for i in segments_py for j in i]"
   ]
  },
  {
   "cell_type": "markdown",
   "id": "76a5d4e6-ec73-4ef3-ae99-45e93a9f1efe",
   "metadata": {
    "tags": []
   },
   "source": [
    "### embed"
   ]
  },
  {
   "cell_type": "code",
   "execution_count": 244,
   "id": "666439f9-04b3-454b-822a-622a26d12366",
   "metadata": {},
   "outputs": [
    {
     "name": "stderr",
     "output_type": "stream",
     "text": [
      "[Parallel(n_jobs=8)]: Using backend LokyBackend with 8 concurrent workers.\n",
      "[Parallel(n_jobs=8)]: Done  34 tasks      | elapsed:    3.3s\n",
      "[Parallel(n_jobs=8)]: Done 12304 tasks      | elapsed:    4.3s\n"
     ]
    },
    {
     "name": "stdout",
     "output_type": "stream",
     "text": [
      "CPU times: user 3.42 s, sys: 172 ms, total: 3.59 s\n",
      "Wall time: 6.69 s\n"
     ]
    },
    {
     "name": "stderr",
     "output_type": "stream",
     "text": [
      "[Parallel(n_jobs=8)]: Done 96580 out of 96580 | elapsed:    6.7s finished\n"
     ]
    }
   ],
   "source": [
    "%%time\n",
    "sm_seg_py = clusterisation.compute_similarity_matrix(segments_py)"
   ]
  },
  {
   "cell_type": "code",
   "execution_count": 245,
   "id": "a79c7c73-923a-4934-a66a-de3a3de2fe32",
   "metadata": {},
   "outputs": [
    {
     "name": "stdout",
     "output_type": "stream",
     "text": [
      "CPU times: user 2min 35s, sys: 2.35 s, total: 2min 37s\n",
      "Wall time: 21.1 s\n"
     ]
    }
   ],
   "source": [
    "%%time\n",
    "with warnings.catch_warnings():\n",
    "    warnings.simplefilter('ignore')\n",
    "    emb_seg = clusterisation.tsne_embed(sm_seg_py, perplexity=10) "
   ]
  },
  {
   "cell_type": "code",
   "execution_count": 246,
   "id": "fd55d991-f7b6-4c50-9e9a-3d8b4b96a420",
   "metadata": {},
   "outputs": [
    {
     "data": {
      "text/plain": [
       "<matplotlib.collections.PathCollection at 0x7f9199144650>"
      ]
     },
     "execution_count": 246,
     "metadata": {},
     "output_type": "execute_result"
    },
    {
     "data": {
      "image/png": "[encoded data removed]",
      "text/plain": [
       "<Figure size 432x288 with 1 Axes>"
      ]
     },
     "metadata": {
      "needs_background": "light"
     },
     "output_type": "display_data"
    }
   ],
   "source": [
    "plt.scatter(emb_seg[:, 0], emb_seg[:, 1])"
   ]
  },
  {
   "cell_type": "code",
   "execution_count": 247,
   "id": "88697e72-808e-4a25-92d1-4564541e6fde",
   "metadata": {},
   "outputs": [],
   "source": [
    "def plot_one_segment(i):\n",
    "    fig, ax = plt.subplots()\n",
    "    tmp = pd.DataFrame(data=segments_py[i], columns=['da', 's'])\n",
    "    tmp.plot(y='s', ax=ax)\n",
    "    axt = ax.twinx()\n",
    "    tmp.plot(y='da', c=tab10[1], ax=axt)"
   ]
  },
  {
   "cell_type": "code",
   "execution_count": 248,
   "id": "a3067dde-744d-42f6-8e14-c162c7ef34e3",
   "metadata": {
    "tags": []
   },
   "outputs": [
    {
     "data": {
      "application/vnd.jupyter.widget-view+json": {
       "model_id": "7e3f1658e5ae45198e96afd31c122fe4",
       "version_major": 2,
       "version_minor": 0
      },
      "text/plain": [
       "interactive(children=(IntSlider(value=0, description='i', max=440), Output()), _dom_classes=('widget-interact'…"
      ]
     },
     "metadata": {},
     "output_type": "display_data"
    }
   ],
   "source": [
    "interact(plot_one_segment, i=widgets.IntSlider(min=0, max=len(segments_py), step=1));"
   ]
  },
  {
   "cell_type": "code",
   "execution_count": 249,
   "id": "f236b7e0-916b-4bf0-ae42-78c1b64a24fb",
   "metadata": {},
   "outputs": [],
   "source": [
    "import plotly.express as px"
   ]
  },
  {
   "cell_type": "code",
   "execution_count": 250,
   "id": "dc1d515c-4723-425f-9a1e-dd6c412e2e5b",
   "metadata": {},
   "outputs": [
    {
     "data": {
      "image/png": "[encoded data removed]",
      "text/plain": [
       "<Figure size 864x2376 with 11 Axes>"
      ]
     },
     "metadata": {
      "needs_background": "light"
     },
     "output_type": "display_data"
    }
   ],
   "source": [
    "n_segments = len(segments)\n",
    "\n",
    "fig, ax = plt.subplots(n_segments, 1, figsize=(12, 3*n_segments))\n",
    "\n",
    "for i, segment in enumerate(segments):\n",
    "    ax[i].plot(segment[:, 1])\n",
    "    ax[i].plot(segment[:, 0])"
   ]
  },
  {
   "cell_type": "code",
   "execution_count": null,
   "id": "4e4cd40b-ae3a-43b3-9453-fdb4bb6bc94a",
   "metadata": {},
   "outputs": [],
   "source": [
    "emb_df = pd.DataFrame(data=np.c_[emb_seg, np.arange(emb_seg.shape[0])], columns=['x', 'y', 'idx'])"
   ]
  },
  {
   "cell_type": "code",
   "execution_count": 251,
   "id": "c86808f1-28c5-454f-a75f-57670dc05e81",
   "metadata": {},
   "outputs": [
    {
     "data": {
      "text/html": [
       "<div>\n",
       "<style scoped>\n",
       "    .dataframe tbody tr th:only-of-type {\n",
       "        vertical-align: middle;\n",
       "    }\n",
       "\n",
       "    .dataframe tbody tr th {\n",
       "        vertical-align: top;\n",
       "    }\n",
       "\n",
       "    .dataframe thead th {\n",
       "        text-align: right;\n",
       "    }\n",
       "</style>\n",
       "<table border=\"1\" class=\"dataframe\">\n",
       "  <thead>\n",
       "    <tr style=\"text-align: right;\">\n",
       "      <th></th>\n",
       "      <th>x</th>\n",
       "      <th>y</th>\n",
       "      <th>idx</th>\n",
       "    </tr>\n",
       "  </thead>\n",
       "  <tbody>\n",
       "    <tr>\n",
       "      <th>0</th>\n",
       "      <td>8.020817</td>\n",
       "      <td>-32.565330</td>\n",
       "      <td>0.0</td>\n",
       "    </tr>\n",
       "    <tr>\n",
       "      <th>1</th>\n",
       "      <td>11.959389</td>\n",
       "      <td>-2.657568</td>\n",
       "      <td>1.0</td>\n",
       "    </tr>\n",
       "    <tr>\n",
       "      <th>2</th>\n",
       "      <td>-2.495188</td>\n",
       "      <td>31.594505</td>\n",
       "      <td>2.0</td>\n",
       "    </tr>\n",
       "    <tr>\n",
       "      <th>3</th>\n",
       "      <td>-41.177861</td>\n",
       "      <td>0.465849</td>\n",
       "      <td>3.0</td>\n",
       "    </tr>\n",
       "    <tr>\n",
       "      <th>4</th>\n",
       "      <td>25.264966</td>\n",
       "      <td>4.520381</td>\n",
       "      <td>4.0</td>\n",
       "    </tr>\n",
       "  </tbody>\n",
       "</table>\n",
       "</div>"
      ],
      "text/plain": [
       "           x          y  idx\n",
       "0   8.020817 -32.565330  0.0\n",
       "1  11.959389  -2.657568  1.0\n",
       "2  -2.495188  31.594505  2.0\n",
       "3 -41.177861   0.465849  3.0\n",
       "4  25.264966   4.520381  4.0"
      ]
     },
     "execution_count": 251,
     "metadata": {},
     "output_type": "execute_result"
    }
   ],
   "source": [
    "emb_df.head()"
   ]
  },
  {
   "cell_type": "code",
   "execution_count": 252,
   "id": "8437111a-2c23-4327-91db-af5a2e62672a",
   "metadata": {},
   "outputs": [
    {
     "data": {
      "application/vnd.plotly.v1+json": {
       "config": {
        "plotlyServerURL": "https://plot.ly"
       },
       "data": [
        {
         "hovertemplate": "<b>%{hovertext}</b><br><br>x=%{x}<br>y=%{y}<extra></extra>",
         "hovertext": [
          0,
          1,
          2,
          3,
          4,
          5,
          6,
          7,
          8,
          9,
          10,
          11,
          12,
          13,
          14,
          15,
          16,
          17,
          18,
          19,
          20,
          21,
          22,
          23,
          24,
          25,
          26,
          27,
          28,
          29,
          30,
          31,
          32,
          33,
          34,
          35,
          36,
          37,
          38,
          39,
          40,
          41,
          42,
          43,
          44,
          45,
          46,
          47,
          48,
          49,
          50,
          51,
          52,
          53,
          54,
          55,
          56,
          57,
          58,
          59,
          60,
          61,
          62,
          63,
          64,
          65,
          66,
          67,
          68,
          69,
          70,
          71,
          72,
          73,
          74,
          75,
          76,
          77,
          78,
          79,
          80,
          81,
          82,
          83,
          84,
          85,
          86,
          87,
          88,
          89,
          90,
          91,
          92,
          93,
          94,
          95,
          96,
          97,
          98,
          99,
          100,
          101,
          102,
          103,
          104,
          105,
          106,
          107,
          108,
          109,
          110,
          111,
          112,
          113,
          114,
          115,
          116,
          117,
          118,
          119,
          120,
          121,
          122,
          123,
          124,
          125,
          126,
          127,
          128,
          129,
          130,
          131,
          132,
          133,
          134,
          135,
          136,
          137,
          138,
          139,
          140,
          141,
          142,
          143,
          144,
          145,
          146,
          147,
          148,
          149,
          150,
          151,
          152,
          153,
          154,
          155,
          156,
          157,
          158,
          159,
          160,
          161,
          162,
          163,
          164,
          165,
          166,
          167,
          168,
          169,
          170,
          171,
          172,
          173,
          174,
          175,
          176,
          177,
          178,
          179,
          180,
          181,
          182,
          183,
          184,
          185,
          186,
          187,
          188,
          189,
          190,
          191,
          192,
          193,
          194,
          195,
          196,
          197,
          198,
          199,
          200,
          201,
          202,
          203,
          204,
          205,
          206,
          207,
          208,
          209,
          210,
          211,
          212,
          213,
          214,
          215,
          216,
          217,
          218,
          219,
          220,
          221,
          222,
          223,
          224,
          225,
          226,
          227,
          228,
          229,
          230,
          231,
          232,
          233,
          234,
          235,
          236,
          237,
          238,
          239,
          240,
          241,
          242,
          243,
          244,
          245,
          246,
          247,
          248,
          249,
          250,
          251,
          252,
          253,
          254,
          255,
          256,
          257,
          258,
          259,
          260,
          261,
          262,
          263,
          264,
          265,
          266,
          267,
          268,
          269,
          270,
          271,
          272,
          273,
          274,
          275,
          276,
          277,
          278,
          279,
          280,
          281,
          282,
          283,
          284,
          285,
          286,
          287,
          288,
          289,
          290,
          291,
          292,
          293,
          294,
          295,
          296,
          297,
          298,
          299,
          300,
          301,
          302,
          303,
          304,
          305,
          306,
          307,
          308,
          309,
          310,
          311,
          312,
          313,
          314,
          315,
          316,
          317,
          318,
          319,
          320,
          321,
          322,
          323,
          324,
          325,
          326,
          327,
          328,
          329,
          330,
          331,
          332,
          333,
          334,
          335,
          336,
          337,
          338,
          339,
          340,
          341,
          342,
          343,
          344,
          345,
          346,
          347,
          348,
          349,
          350,
          351,
          352,
          353,
          354,
          355,
          356,
          357,
          358,
          359,
          360,
          361,
          362,
          363,
          364,
          365,
          366,
          367,
          368,
          369,
          370,
          371,
          372,
          373,
          374,
          375,
          376,
          377,
          378,
          379,
          380,
          381,
          382,
          383,
          384,
          385,
          386,
          387,
          388,
          389,
          390,
          391,
          392,
          393,
          394,
          395,
          396,
          397,
          398,
          399,
          400,
          401,
          402,
          403,
          404,
          405,
          406,
          407,
          408,
          409,
          410,
          411,
          412,
          413,
          414,
          415,
          416,
          417,
          418,
          419,
          420,
          421,
          422,
          423,
          424,
          425,
          426,
          427,
          428,
          429,
          430,
          431,
          432,
          433,
          434,
          435,
          436,
          437,
          438,
          439
         ],
         "legendgroup": "",
         "marker": {
          "color": "#636efa",
          "symbol": "circle"
         },
         "mode": "markers",
         "name": "",
         "orientation": "v",
         "showlegend": false,
         "type": "scatter",
         "x": [
          8.020817485722043,
          11.959388733729805,
          -2.495187525417528,
          -41.17786052675513,
          25.26496641562243,
          -5.047701321472249,
          -4.014524147110151,
          -5.102449004564807,
          -43.8496354432136,
          25.471717977507588,
          -9.579271396313725,
          -5.731536568854152,
          3.0746882797224697,
          20.02234513718182,
          27.79554467848337,
          30.508844377350247,
          31.944137731434356,
          10.118551525617775,
          1.8982471671047367,
          6.86381583470558,
          -5.300223561873628,
          3.954602015526035,
          4.79678506195933,
          22.669023700402413,
          -37.642899627623045,
          14.234216369307694,
          -4.732325873252688,
          -2.66720053850765,
          -18.55965230837971,
          -2.494591043585464,
          -3.18011345231437,
          -4.232922619960839,
          -5.441609768306526,
          -6.732269770948315,
          -8.644667426205576,
          -17.6382676450857,
          7.5918368381744346,
          -4.349762656941675,
          -6.565220624225099,
          -3.107161174708608,
          -2.4999149688322646,
          -2.161461733952304,
          -3.973082336192542,
          -1.5077432510909992,
          -22.595332522891376,
          -11.539960665697043,
          -6.583052424108996,
          -6.184562866495937,
          -10.00171243327895,
          -10.161768704597414,
          -11.20545720197544,
          -3.654875702236886,
          25.80082417312977,
          13.871065297242689,
          -16.684678387120172,
          10.858158312812336,
          25.08093668752266,
          -17.474365518732576,
          10.342944812318517,
          24.77300793155059,
          12.870869214068238,
          26.961391085583585,
          -28.506469441397392,
          -22.89224059235436,
          -16.471202988573136,
          24.76627257492777,
          28.286937783909192,
          -24.935705457106042,
          12.300451912666027,
          24.57214481128783,
          8.481885562672847,
          -37.83718758645039,
          25.942487449502885,
          23.645138690991114,
          -23.796156497427425,
          1.9731930917265217,
          -18.746010226131848,
          -16.456198039585676,
          6.80843490070696,
          10.81054551243573,
          0.3212283320452809,
          -19.273911126278055,
          2.32428570841868,
          -21.354011729700687,
          12.871189048902217,
          0.2822970037505343,
          7.841879146266602,
          11.53365433374431,
          25.377376648519583,
          13.938556725154648,
          24.21567876195219,
          -2.9489851658763704,
          10.877126808368255,
          26.87943065315781,
          -23.656971069703093,
          -8.773608831285266,
          -8.428397994060148,
          -3.9006190856696477,
          -22.056985505221082,
          -15.385039781304116,
          -16.974417876253682,
          -10.794145718270345,
          -11.115032795037225,
          -10.095999134120174,
          -9.341229147348079,
          -0.03386331657375347,
          -14.546522065087057,
          -13.101001352162276,
          -14.386136421247054,
          -6.01216302354599,
          -2.9101920752746495,
          -8.337129184986148,
          -24.832055570709297,
          6.986196880396177,
          -2.3641954116117088,
          -0.6877059094273398,
          -20.440202988439957,
          -1.809547624313199,
          -4.076339346739544,
          -8.851074898661377,
          -4.363904837208356,
          -9.984163470048799,
          -41.19626704256704,
          28.348885517145593,
          -43.19897923390543,
          29.295106226789958,
          -43.429825111866684,
          27.4832798882474,
          -40.238347526996975,
          26.047856537870103,
          -37.48441177736062,
          9.583810838498223,
          -3.4323561254953865,
          0.14376360807821043,
          -0.9665887269808615,
          -2.100431644697743,
          0.37073075722553206,
          20.38737834219877,
          9.120624158728335,
          -5.832979873394019,
          -17.183663651644725,
          7.523776394225251,
          -19.735888228502905,
          -8.942321538164816,
          -4.454218743002346,
          1.2802357600872536,
          -2.437813341821855,
          -3.9726283691991995,
          4.63949319247712,
          1.2183803652016716,
          0.3523969829028098,
          4.2239288703355635,
          0.575505907186732,
          1.6796516402747654,
          -1.9257105549627902,
          1.3593509341891026,
          0.26836794523434304,
          2.783437124675603,
          2.192873975288263,
          -15.008000494660969,
          -14.648171535066489,
          -13.813687816739419,
          -19.72756455488176,
          -20.025317897617843,
          -2.389700890596894,
          -24.629441972837988,
          11.304805966290761,
          26.30446641719427,
          10.478533501695837,
          -16.570521949721545,
          13.641464420429845,
          28.80840454158557,
          28.768781302845507,
          26.47722027552616,
          12.04807786052792,
          -0.7284648045105815,
          2.846707051898306,
          0.48022771781147156,
          2.790383264791404,
          26.774047622261683,
          26.0655896268606,
          -13.52918808053168,
          -10.13177230417513,
          1.7623837596706229,
          9.1662679196846,
          10.536010206016396,
          24.917895939382458,
          -3.798342044675286,
          -7.480886296166261,
          -7.559559105279332,
          -9.045241521268082,
          1.8700342203829134,
          26.326641535707257,
          25.500343534612504,
          4.463917829808931,
          5.78483502657061,
          2.782709914369227,
          20.538075835255075,
          28.621096460686665,
          24.511296175432683,
          -4.546559058183534,
          -29.249480824593107,
          -19.95417005261212,
          -10.757218457179023,
          -11.692946883523206,
          -20.004837295490972,
          -10.590209232638157,
          -11.865872125330652,
          -15.535556675155757,
          3.9546998307371832,
          16.806551908450395,
          8.540037109003602,
          1.2853293832369093,
          8.924102244744148,
          -3.103675584847336,
          -25.61994729798697,
          11.57438636048671,
          26.62788677826281,
          -39.15015689434052,
          16.03151881046903,
          9.898892614802739,
          -7.619682682849238,
          -4.208069730580141,
          0.2436896625284545,
          -3.526802182437371,
          4.997273188821581,
          22.691434252548103,
          -21.657802786182174,
          -7.480852177269286,
          -15.274618102045476,
          3.385074275342095,
          -10.832335398982211,
          -3.207228616564622,
          -7.4560731153767135,
          -2.6828742110680452,
          22.273308007499537,
          25.68630916008634,
          9.817051637772227,
          16.186334416033066,
          14.08841025661972,
          -16.352667350215857,
          0.04292334194630859,
          -13.952366327157057,
          -19.771574747788414,
          -16.51966422121993,
          13.560127346117387,
          29.098774236766353,
          -44.38650349990061,
          28.81123605146627,
          24.06185207217625,
          -6.082125188729978,
          -2.6776702273592545,
          -4.754371591523445,
          -8.969472763855402,
          -39.60846557669654,
          17.252320295084292,
          22.115265695738834,
          -4.540665741449592,
          7.032505178859251,
          24.23474022226592,
          -42.342878935661716,
          25.552675553152653,
          -10.002206611707802,
          -21.37110455272106,
          -0.06064449222711744,
          -28.138835164792663,
          -38.68834204764841,
          15.842879338424956,
          8.223180713836967,
          -2.710686661709015,
          5.918356533375049,
          -1.2368315076949647,
          -0.5797761334322877,
          18.694523212902958,
          18.543159435851198,
          18.8820867711086,
          9.336127161837606,
          2.038557003436495,
          19.674918587603976,
          7.785275507884806,
          1.4250369406188115,
          4.770417002491139,
          1.574937198556315,
          9.394930879956394,
          2.085860545765526,
          8.692316714049511,
          2.268018681982708,
          25.347636882287862,
          12.8703727882906,
          2.7708092591093303,
          23.861934797087468,
          23.52757905554866,
          24.975586905146976,
          25.03705969723029,
          24.41947143411588,
          13.848250367496316,
          4.15940679576443,
          13.969789922919558,
          7.9294940029160035,
          -19.98685578554258,
          -3.3856025811567454,
          -17.718458837469104,
          -16.65610705604776,
          -25.382221459586336,
          6.1866142948661444,
          13.30168486645678,
          -3.4878199857317234,
          -22.590719635792695,
          -14.910855638035237,
          12.881580358825897,
          25.447718763725977,
          -20.366405383673285,
          21.686940400630895,
          13.269150852824875,
          -9.641025930832667,
          -0.6600696257232946,
          6.732597387011924,
          -2.886998614787787,
          -3.396167287358176,
          19.50485947629545,
          24.573470024685772,
          24.85545077652987,
          -42.942415374851386,
          26.623678579930008,
          -23.96538810177385,
          0.21352036966171176,
          -14.076668848475327,
          -3.2010713391089887,
          -28.57005267255136,
          -28.641375006476895,
          -22.526282171763626,
          14.918659182734478,
          5.421261230069871,
          6.681932289380981,
          29.50487771730683,
          30.94555702224745,
          30.55931658150578,
          31.842889202680965,
          22.22644054287068,
          -14.323070381731986,
          -6.005218737813284,
          -4.872108288847122,
          -9.294418038309816,
          10.01731195797374,
          26.00315083698195,
          25.832376237618664,
          8.657526241422522,
          -42.46631990054858,
          28.043877130932206,
          -22.395423682193393,
          -20.43106054311708,
          6.273142299904811,
          -10.69823633339729,
          -9.450443238594064,
          -4.659547117672122,
          -43.7359742772158,
          23.45010767907918,
          19.487080089569655,
          -19.595710084043468,
          -15.692332842038663,
          -9.768657927272073,
          -3.5839433337318747,
          -9.284320380049579,
          -10.257675385345232,
          2.476123204248818,
          10.29673449570018,
          -3.0549139145283686,
          -7.713213703435068,
          5.700182038883479,
          22.39595330889236,
          -10.325099595990906,
          -9.685951857899681,
          -0.36491960857934935,
          17.181983017520412,
          16.08577320500832,
          25.18408122257951,
          32.135425780822736,
          27.129243070291846,
          14.287527811957032,
          7.831556338171286,
          3.5073569596714735,
          2.254722014546788,
          -2.216912056627967,
          1.1142079588033476,
          2.6319192347325497,
          -20.74651577619289,
          21.16794282618787,
          21.151279836963557,
          9.717731991597482,
          -2.835192701429604,
          -15.247386633479517,
          -16.031970622360408,
          -26.227424653565134,
          -3.5232854216824996,
          -29.066053393832462,
          -25.479752846628337,
          -1.2299661958731722,
          -6.017920220551262,
          -38.03841021368135,
          13.95405322561247,
          -6.056832389300407,
          -25.89200838452758,
          -6.752767910777381,
          0.7461880717748355,
          -11.34113442689935,
          -9.16535227115349,
          -40.62694744746333,
          13.90249709394369,
          -37.106463693425496,
          21.00646129381344,
          11.157665483802953,
          7.420415196822834,
          -3.706031036870847,
          -39.56453727716758,
          14.941396162492818,
          28.225860881526103,
          -40.12929374320266,
          15.58238458865079,
          22.103713495768684,
          -21.13083462655171,
          7.020008419218152,
          -2.5422333539930553,
          -1.064093944429098,
          -1.333356955519743,
          -0.30636528577901184,
          20.75198355865996,
          28.6996571739364,
          24.74767444338837,
          14.237930870458486,
          24.53635500262507,
          -8.064678150895672,
          -6.081573208002653,
          -8.516704125054023,
          -7.860809360461738,
          -11.983688913669798,
          -12.604903443032129,
          -39.807053235229745,
          25.675855402808804,
          -14.999696544126941,
          -19.656340695100344
         ],
         "xaxis": "x",
         "y": [
          -32.56532977678318,
          -2.6575680010568568,
          31.594505318221504,
          0.4658492359407811,
          4.520380786888774,
          -6.536658776688739,
          -0.9977260793842385,
          35.04828847188487,
          2.377554194502082,
          14.292009233472863,
          14.051608035929592,
          -24.1989771341088,
          -22.149891674948986,
          -16.651590384324646,
          -15.645806260817672,
          -13.589701445302321,
          -11.06572406312465,
          -10.493095220316253,
          -22.614641257703823,
          -0.39800195808810435,
          -24.153631424802974,
          -16.80743571339437,
          -32.12651723302015,
          18.55838723915139,
          3.0858364245855743,
          8.621035906203273,
          -1.5303546665707934,
          29.04627666148889,
          15.797128097199675,
          15.224469565684482,
          14.122808576121292,
          15.00118122030216,
          19.104804254932628,
          20.043585257295543,
          13.656170531635267,
          -3.398882304532139,
          -0.29134870788782746,
          19.860173915873332,
          13.750682413974163,
          12.821000228765104,
          12.653415457148732,
          13.205197718035656,
          14.24667930970997,
          31.865330995200928,
          8.994804530353392,
          -3.848520255348204,
          -0.37935244717901834,
          -6.200603667945755,
          -5.446676884661198,
          -5.99533020690806,
          -5.504276574191177,
          -25.039465959897665,
          -12.713959753508671,
          -1.520215307729202,
          2.8088909661649315,
          -38.194187572903026,
          5.890981446465752,
          -3.09394435846837,
          -35.752924985771294,
          8.113678791758229,
          -36.626276953678655,
          18.342898469835248,
          -10.481472549241087,
          17.384967051015447,
          3.1347278703688137,
          -14.805916278752537,
          21.124859494160855,
          17.831751765605308,
          -37.70945093794989,
          4.1468608120922115,
          28.66679958386194,
          4.086416536053215,
          -9.698066951823009,
          18.92143432998796,
          16.44491786804691,
          26.998183880101315,
          11.177154259816879,
          4.094360885281049,
          -35.342314507036505,
          -2.2589040031147474,
          26.810392617022238,
          12.230743344072678,
          26.910397137362995,
          2.89142357137918,
          -3.2696452771702065,
          -28.38892518540528,
          -4.443994234091005,
          -36.98014309257811,
          3.1593668318512025,
          -38.65141870581708,
          5.034227743361747,
          -11.490133545231142,
          -37.067488759646366,
          20.431729718778932,
          18.22751353409694,
          -1.9403074425819609,
          -1.7267562013211097,
          34.55194642960462,
          19.69019168369545,
          -2.638980758274336,
          5.104026856579119,
          -5.076097192636477,
          -6.1397406195311,
          -4.763054569185979,
          -5.8378607898359105,
          30.882073409112646,
          24.876636581799332,
          22.974306592358875,
          17.567161739147213,
          13.310099790014474,
          16.19053449959688,
          29.15518226087633,
          14.434270633836118,
          -15.023680898272648,
          -14.44871630885052,
          31.489988787044172,
          17.450635752489685,
          12.192844912081537,
          20.42435329950408,
          14.49880214099488,
          20.59853295009786,
          28.09280633384408,
          -0.006200324239752698,
          19.561811475465767,
          0.9209056083813458,
          21.126307978612623,
          1.7044562977448103,
          19.417100496121346,
          1.8014934147358772,
          18.876111623325592,
          4.451130330140337,
          -9.833078389466134,
          -18.517403696538338,
          -18.794933656335072,
          -17.556525921373275,
          -16.761230448310094,
          -26.356222595762652,
          -13.99488742175559,
          -4.77059337443629,
          -1.686590798980956,
          1.6828992406738779,
          28.355155891592684,
          13.344911026735614,
          -3.232327204165674,
          -23.147774739875125,
          -20.39296240108358,
          -13.66171264729337,
          -23.99417014678684,
          -17.502001718296164,
          -17.905277265557316,
          -21.819942031401123,
          -16.060934480028322,
          -22.82714409257508,
          -14.722891068452698,
          -20.62173569502768,
          -13.49447214444238,
          -24.231008503465745,
          -14.421869541151551,
          27.7195785022523,
          26.42907238572842,
          26.489148201712485,
          28.14188594183953,
          22.201451740442796,
          14.53018549520035,
          32.891347046734694,
          16.946765587789574,
          -37.18001975565173,
          -0.18834739696934924,
          -3.042656290136082,
          -1.7409545201213983,
          -39.28406607956544,
          -2.9620446202233466,
          -2.9029842512377533,
          -0.4080740444801845,
          -6.225473105313588,
          -22.126729362391888,
          -18.003023923885113,
          -14.739561111899736,
          -32.55245239767489,
          -9.689450220858173,
          17.027535137527504,
          19.677443343349037,
          14.498402666441581,
          -31.485012018713746,
          -3.786341391218238,
          -37.49464106070669,
          6.862183261497211,
          20.685701365497454,
          19.07832982666159,
          13.510393677656548,
          -9.249136735460446,
          -30.7309900599325,
          -10.462769013024829,
          2.9781467980760437,
          -25.49333952567778,
          -14.449895648741512,
          -20.989604938458815,
          -17.175115745609432,
          -14.696098633773481,
          6.125693856384593,
          35.54746564086734,
          -10.884751297315763,
          22.0656349786172,
          20.835131552826862,
          27.738106020845507,
          16.73654613143377,
          -3.2067707086441004,
          -2.591719053965216,
          -1.1308029783022164,
          -25.671347439931658,
          -15.908023137304989,
          -9.958971885925134,
          -29.125215312089367,
          -4.329462490246702,
          33.98057157045028,
          18.58373202948647,
          -38.03534647302977,
          18.12330132807667,
          2.093930683879721,
          6.1798358661970685,
          -2.001825885248924,
          -22.639346503132053,
          -19.4487715391852,
          -16.7078474840601,
          -20.070404404628647,
          -31.41769337464014,
          18.42378653354616,
          15.043789890756582,
          -2.104135805797568,
          -3.425686974276189,
          27.50246229262509,
          15.123278897986966,
          15.062840273782745,
          12.153100449605372,
          -23.528115402502586,
          -16.373944406866364,
          1.7759039405309796,
          -34.565371156022294,
          6.97560288902702,
          8.812992203053795,
          4.4857039261980995,
          26.99558134473565,
          26.40691180249417,
          15.375972861912588,
          0.37781238278077733,
          -38.72707391322867,
          20.23158726543547,
          1.2775134101975765,
          -2.968104270550744,
          5.219819686857704,
          0.5568548193537621,
          -11.584338132390275,
          -13.140917875003888,
          30.262312364203822,
          3.1765461236874546,
          6.08103631470305,
          2.725483269402413,
          -1.6791888055650273,
          -35.54978836885079,
          19.66156219681269,
          -0.9621654586295153,
          13.150922486080173,
          27.810491461825368,
          13.187122852794253,
          29.572637346143395,
          -10.52418073606542,
          2.7729017809100296,
          6.76506314160235,
          -0.550478613397196,
          -25.65959667812698,
          -16.550366423584464,
          -15.42202233460501,
          -28.063171841000464,
          -15.568394952275804,
          -14.90048933715472,
          -15.327078743634,
          -10.418361453058433,
          -26.641448811032387,
          -14.668886154288755,
          -12.934159556830599,
          -24.74382238445604,
          -14.223995249782481,
          -28.335929622690895,
          -10.782065729144252,
          -27.980678100115405,
          -10.9908646340048,
          -29.577157911244555,
          -11.706788967243156,
          -4.14557824921232,
          -30.114200465055344,
          -11.710068548865001,
          -11.964579138653038,
          -11.93185644047109,
          -11.315493699856335,
          -10.312684082043187,
          -7.255119123822195,
          -31.378124728822893,
          -8.40388617243494,
          28.490702361179533,
          16.66960818239645,
          34.7447649406361,
          23.356301735487285,
          23.700700324776854,
          17.980765962582343,
          -32.32885808157611,
          -2.323438325361345,
          30.904753187568573,
          15.449652836553105,
          -1.5253764354013901,
          -38.20714743942171,
          13.699345061177562,
          5.020681921081361,
          -17.043297299182658,
          -3.140070466776221,
          -8.769633992909766,
          -26.125242686859576,
          -13.384469701985545,
          -14.950747688739636,
          -16.08427563177454,
          -5.871675800137005,
          -18.13754662912826,
          20.52273069666225,
          1.9697188852739238,
          20.099909457450163,
          16.326452587180636,
          27.321457531547278,
          17.11887015801155,
          31.374527415433963,
          -10.804370273952095,
          -10.080252241751829,
          8.595633773381952,
          -16.080227908303627,
          -15.555418406630496,
          -32.5061464090546,
          -13.793401069362119,
          -12.622012184159123,
          -13.686949677328961,
          -11.265858758602947,
          17.859678429760937,
          18.489689705265867,
          14.645623032908047,
          13.236701900976879,
          -4.913340607405994,
          -33.434916830227316,
          -9.783956441676466,
          1.2249732309561867,
          28.701932302258687,
          0.8080411540785364,
          20.692062137697505,
          18.94699536457542,
          4.204167213885689,
          -4.35008548606881,
          -6.886882563034638,
          -6.925178295071855,
          35.906932441241864,
          0.703786272914426,
          3.634309046434235,
          -5.775141411282365,
          24.07568344535358,
          16.928723352992215,
          -2.474459981760166,
          -13.255208048619194,
          -7.986992944019167,
          -7.721951797977578,
          -31.040158340332876,
          -1.4047896170113805,
          12.284025219335382,
          -22.561775259631748,
          -32.153239729994674,
          16.6544471923832,
          20.601692240923462,
          14.619008728826705,
          -27.201988574655118,
          -16.211676957509752,
          -16.00261053021082,
          -18.515112072159475,
          -10.116744989552249,
          -16.320955568999132,
          -7.906349791234058,
          -14.034051130415023,
          -19.256460061518073,
          -16.516085253050875,
          -19.426270821193874,
          -15.437403492879442,
          26.37638002317427,
          4.762335382466798,
          -11.739989281202094,
          -12.674544918647848,
          -4.044197776937497,
          30.765723138089577,
          24.176729398390453,
          23.772022835881366,
          18.199164924768745,
          33.96065488424502,
          -10.937562010785596,
          15.690082812680894,
          15.837771836838659,
          34.33510605703655,
          1.1358044520054138,
          9.897785907223875,
          34.35215092157053,
          17.59637253355431,
          -1.5745592197242477,
          27.21422373501021,
          21.17474392179021,
          28.088298181361665,
          0.13185879205246934,
          10.457392181806911,
          3.319961332335442,
          -13.03571196648583,
          -10.736637136453659,
          -15.469159061516132,
          31.611799380850538,
          2.6987497507857126,
          5.764106771214879,
          19.272886745174137,
          2.2357130414761435,
          6.001138728604628,
          17.303442492838617,
          5.632240540199442,
          -12.171341402089876,
          -18.28791616139819,
          -19.906537183550363,
          -18.243188505654327,
          -24.8381314942456,
          -16.866392139938508,
          -14.4412304713602,
          7.502395296569977,
          5.514278365357797,
          10.803015691942482,
          14.500989545856243,
          20.104250254394096,
          20.339725863188615,
          20.72750232964883,
          19.55725545207059,
          27.139273201488407,
          0.5028807630634663,
          17.787019167926324,
          25.601186123590544,
          12.795222672664783
         ],
         "yaxis": "y"
        }
       ],
       "layout": {
        "autosize": true,
        "legend": {
         "tracegroupgap": 0
        },
        "margin": {
         "t": 60
        },
        "template": {
         "data": {
          "bar": [
           {
            "error_x": {
             "color": "#2a3f5f"
            },
            "error_y": {
             "color": "#2a3f5f"
            },
            "marker": {
             "line": {
              "color": "#E5ECF6",
              "width": 0.5
             },
             "pattern": {
              "fillmode": "overlay",
              "size": 10,
              "solidity": 0.2
             }
            },
            "type": "bar"
           }
          ],
          "barpolar": [
           {
            "marker": {
             "line": {
              "color": "#E5ECF6",
              "width": 0.5
             },
             "pattern": {
              "fillmode": "overlay",
              "size": 10,
              "solidity": 0.2
             }
            },
            "type": "barpolar"
           }
          ],
          "carpet": [
           {
            "aaxis": {
             "endlinecolor": "#2a3f5f",
             "gridcolor": "white",
             "linecolor": "white",
             "minorgridcolor": "white",
             "startlinecolor": "#2a3f5f"
            },
            "baxis": {
             "endlinecolor": "#2a3f5f",
             "gridcolor": "white",
             "linecolor": "white",
             "minorgridcolor": "white",
             "startlinecolor": "#2a3f5f"
            },
            "type": "carpet"
           }
          ],
          "choropleth": [
           {
            "colorbar": {
             "outlinewidth": 0,
             "ticks": ""
            },
            "type": "choropleth"
           }
          ],
          "contour": [
           {
            "colorbar": {
             "outlinewidth": 0,
             "ticks": ""
            },
            "colorscale": [
             [
              0,
              "#0d0887"
             ],
             [
              0.1111111111111111,
              "#46039f"
             ],
             [
              0.2222222222222222,
              "#7201a8"
             ],
             [
              0.3333333333333333,
              "#9c179e"
             ],
             [
              0.4444444444444444,
              "#bd3786"
             ],
             [
              0.5555555555555556,
              "#d8576b"
             ],
             [
              0.6666666666666666,
              "#ed7953"
             ],
             [
              0.7777777777777778,
              "#fb9f3a"
             ],
             [
              0.8888888888888888,
              "#fdca26"
             ],
             [
              1,
              "#f0f921"
             ]
            ],
            "type": "contour"
           }
          ],
          "contourcarpet": [
           {
            "colorbar": {
             "outlinewidth": 0,
             "ticks": ""
            },
            "type": "contourcarpet"
           }
          ],
          "heatmap": [
           {
            "colorbar": {
             "outlinewidth": 0,
             "ticks": ""
            },
            "colorscale": [
             [
              0,
              "#0d0887"
             ],
             [
              0.1111111111111111,
              "#46039f"
             ],
             [
              0.2222222222222222,
              "#7201a8"
             ],
             [
              0.3333333333333333,
              "#9c179e"
             ],
             [
              0.4444444444444444,
              "#bd3786"
             ],
             [
              0.5555555555555556,
              "#d8576b"
             ],
             [
              0.6666666666666666,
              "#ed7953"
             ],
             [
              0.7777777777777778,
              "#fb9f3a"
             ],
             [
              0.8888888888888888,
              "#fdca26"
             ],
             [
              1,
              "#f0f921"
             ]
            ],
            "type": "heatmap"
           }
          ],
          "heatmapgl": [
           {
            "colorbar": {
             "outlinewidth": 0,
             "ticks": ""
            },
            "colorscale": [
             [
              0,
              "#0d0887"
             ],
             [
              0.1111111111111111,
              "#46039f"
             ],
             [
              0.2222222222222222,
              "#7201a8"
             ],
             [
              0.3333333333333333,
              "#9c179e"
             ],
             [
              0.4444444444444444,
              "#bd3786"
             ],
             [
              0.5555555555555556,
              "#d8576b"
             ],
             [
              0.6666666666666666,
              "#ed7953"
             ],
             [
              0.7777777777777778,
              "#fb9f3a"
             ],
             [
              0.8888888888888888,
              "#fdca26"
             ],
             [
              1,
              "#f0f921"
             ]
            ],
            "type": "heatmapgl"
           }
          ],
          "histogram": [
           {
            "marker": {
             "pattern": {
              "fillmode": "overlay",
              "size": 10,
              "solidity": 0.2
             }
            },
            "type": "histogram"
           }
          ],
          "histogram2d": [
           {
            "colorbar": {
             "outlinewidth": 0,
             "ticks": ""
            },
            "colorscale": [
             [
              0,
              "#0d0887"
             ],
             [
              0.1111111111111111,
              "#46039f"
             ],
             [
              0.2222222222222222,
              "#7201a8"
             ],
             [
              0.3333333333333333,
              "#9c179e"
             ],
             [
              0.4444444444444444,
              "#bd3786"
             ],
             [
              0.5555555555555556,
              "#d8576b"
             ],
             [
              0.6666666666666666,
              "#ed7953"
             ],
             [
              0.7777777777777778,
              "#fb9f3a"
             ],
             [
              0.8888888888888888,
              "#fdca26"
             ],
             [
              1,
              "#f0f921"
             ]
            ],
            "type": "histogram2d"
           }
          ],
          "histogram2dcontour": [
           {
            "colorbar": {
             "outlinewidth": 0,
             "ticks": ""
            },
            "colorscale": [
             [
              0,
              "#0d0887"
             ],
             [
              0.1111111111111111,
              "#46039f"
             ],
             [
              0.2222222222222222,
              "#7201a8"
             ],
             [
              0.3333333333333333,
              "#9c179e"
             ],
             [
              0.4444444444444444,
              "#bd3786"
             ],
             [
              0.5555555555555556,
              "#d8576b"
             ],
             [
              0.6666666666666666,
              "#ed7953"
             ],
             [
              0.7777777777777778,
              "#fb9f3a"
             ],
             [
              0.8888888888888888,
              "#fdca26"
             ],
             [
              1,
              "#f0f921"
             ]
            ],
            "type": "histogram2dcontour"
           }
          ],
          "mesh3d": [
           {
            "colorbar": {
             "outlinewidth": 0,
             "ticks": ""
            },
            "type": "mesh3d"
           }
          ],
          "parcoords": [
           {
            "line": {
             "colorbar": {
              "outlinewidth": 0,
              "ticks": ""
             }
            },
            "type": "parcoords"
           }
          ],
          "pie": [
           {
            "automargin": true,
            "type": "pie"
           }
          ],
          "scatter": [
           {
            "marker": {
             "colorbar": {
              "outlinewidth": 0,
              "ticks": ""
             }
            },
            "type": "scatter"
           }
          ],
          "scatter3d": [
           {
            "line": {
             "colorbar": {
              "outlinewidth": 0,
              "ticks": ""
             }
            },
            "marker": {
             "colorbar": {
              "outlinewidth": 0,
              "ticks": ""
             }
            },
            "type": "scatter3d"
           }
          ],
          "scattercarpet": [
           {
            "marker": {
             "colorbar": {
              "outlinewidth": 0,
              "ticks": ""
             }
            },
            "type": "scattercarpet"
           }
          ],
          "scattergeo": [
           {
            "marker": {
             "colorbar": {
              "outlinewidth": 0,
              "ticks": ""
             }
            },
            "type": "scattergeo"
           }
          ],
          "scattergl": [
           {
            "marker": {
             "colorbar": {
              "outlinewidth": 0,
              "ticks": ""
             }
            },
            "type": "scattergl"
           }
          ],
          "scattermapbox": [
           {
            "marker": {
             "colorbar": {
              "outlinewidth": 0,
              "ticks": ""
             }
            },
            "type": "scattermapbox"
           }
          ],
          "scatterpolar": [
           {
            "marker": {
             "colorbar": {
              "outlinewidth": 0,
              "ticks": ""
             }
            },
            "type": "scatterpolar"
           }
          ],
          "scatterpolargl": [
           {
            "marker": {
             "colorbar": {
              "outlinewidth": 0,
              "ticks": ""
             }
            },
            "type": "scatterpolargl"
           }
          ],
          "scatterternary": [
           {
            "marker": {
             "colorbar": {
              "outlinewidth": 0,
              "ticks": ""
             }
            },
            "type": "scatterternary"
           }
          ],
          "surface": [
           {
            "colorbar": {
             "outlinewidth": 0,
             "ticks": ""
            },
            "colorscale": [
             [
              0,
              "#0d0887"
             ],
             [
              0.1111111111111111,
              "#46039f"
             ],
             [
              0.2222222222222222,
              "#7201a8"
             ],
             [
              0.3333333333333333,
              "#9c179e"
             ],
             [
              0.4444444444444444,
              "#bd3786"
             ],
             [
              0.5555555555555556,
              "#d8576b"
             ],
             [
              0.6666666666666666,
              "#ed7953"
             ],
             [
              0.7777777777777778,
              "#fb9f3a"
             ],
             [
              0.8888888888888888,
              "#fdca26"
             ],
             [
              1,
              "#f0f921"
             ]
            ],
            "type": "surface"
           }
          ],
          "table": [
           {
            "cells": {
             "fill": {
              "color": "#EBF0F8"
             },
             "line": {
              "color": "white"
             }
            },
            "header": {
             "fill": {
              "color": "#C8D4E3"
             },
             "line": {
              "color": "white"
             }
            },
            "type": "table"
           }
          ]
         },
         "layout": {
          "annotationdefaults": {
           "arrowcolor": "#2a3f5f",
           "arrowhead": 0,
           "arrowwidth": 1
          },
          "autotypenumbers": "strict",
          "coloraxis": {
           "colorbar": {
            "outlinewidth": 0,
            "ticks": ""
           }
          },
          "colorscale": {
           "diverging": [
            [
             0,
             "#8e0152"
            ],
            [
             0.1,
             "#c51b7d"
            ],
            [
             0.2,
             "#de77ae"
            ],
            [
             0.3,
             "#f1b6da"
            ],
            [
             0.4,
             "#fde0ef"
            ],
            [
             0.5,
             "#f7f7f7"
            ],
            [
             0.6,
             "#e6f5d0"
            ],
            [
             0.7,
             "#b8e186"
            ],
            [
             0.8,
             "#7fbc41"
            ],
            [
             0.9,
             "#4d9221"
            ],
            [
             1,
             "#276419"
            ]
           ],
           "sequential": [
            [
             0,
             "#0d0887"
            ],
            [
             0.1111111111111111,
             "#46039f"
            ],
            [
             0.2222222222222222,
             "#7201a8"
            ],
            [
             0.3333333333333333,
             "#9c179e"
            ],
            [
             0.4444444444444444,
             "#bd3786"
            ],
            [
             0.5555555555555556,
             "#d8576b"
            ],
            [
             0.6666666666666666,
             "#ed7953"
            ],
            [
             0.7777777777777778,
             "#fb9f3a"
            ],
            [
             0.8888888888888888,
             "#fdca26"
            ],
            [
             1,
             "#f0f921"
            ]
           ],
           "sequentialminus": [
            [
             0,
             "#0d0887"
            ],
            [
             0.1111111111111111,
             "#46039f"
            ],
            [
             0.2222222222222222,
             "#7201a8"
            ],
            [
             0.3333333333333333,
             "#9c179e"
            ],
            [
             0.4444444444444444,
             "#bd3786"
            ],
            [
             0.5555555555555556,
             "#d8576b"
            ],
            [
             0.6666666666666666,
             "#ed7953"
            ],
            [
             0.7777777777777778,
             "#fb9f3a"
            ],
            [
             0.8888888888888888,
             "#fdca26"
            ],
            [
             1,
             "#f0f921"
            ]
           ]
          },
          "colorway": [
           "#636efa",
           "#EF553B",
           "#00cc96",
           "#ab63fa",
           "#FFA15A",
           "#19d3f3",
           "#FF6692",
           "#B6E880",
           "#FF97FF",
           "#FECB52"
          ],
          "font": {
           "color": "#2a3f5f"
          },
          "geo": {
           "bgcolor": "white",
           "lakecolor": "white",
           "landcolor": "#E5ECF6",
           "showlakes": true,
           "showland": true,
           "subunitcolor": "white"
          },
          "hoverlabel": {
           "align": "left"
          },
          "hovermode": "closest",
          "mapbox": {
           "style": "light"
          },
          "paper_bgcolor": "white",
          "plot_bgcolor": "#E5ECF6",
          "polar": {
           "angularaxis": {
            "gridcolor": "white",
            "linecolor": "white",
            "ticks": ""
           },
           "bgcolor": "#E5ECF6",
           "radialaxis": {
            "gridcolor": "white",
            "linecolor": "white",
            "ticks": ""
           }
          },
          "scene": {
           "xaxis": {
            "backgroundcolor": "#E5ECF6",
            "gridcolor": "white",
            "gridwidth": 2,
            "linecolor": "white",
            "showbackground": true,
            "ticks": "",
            "zerolinecolor": "white"
           },
           "yaxis": {
            "backgroundcolor": "#E5ECF6",
            "gridcolor": "white",
            "gridwidth": 2,
            "linecolor": "white",
            "showbackground": true,
            "ticks": "",
            "zerolinecolor": "white"
           },
           "zaxis": {
            "backgroundcolor": "#E5ECF6",
            "gridcolor": "white",
            "gridwidth": 2,
            "linecolor": "white",
            "showbackground": true,
            "ticks": "",
            "zerolinecolor": "white"
           }
          },
          "shapedefaults": {
           "line": {
            "color": "#2a3f5f"
           }
          },
          "ternary": {
           "aaxis": {
            "gridcolor": "white",
            "linecolor": "white",
            "ticks": ""
           },
           "baxis": {
            "gridcolor": "white",
            "linecolor": "white",
            "ticks": ""
           },
           "bgcolor": "#E5ECF6",
           "caxis": {
            "gridcolor": "white",
            "linecolor": "white",
            "ticks": ""
           }
          },
          "title": {
           "x": 0.05
          },
          "xaxis": {
           "automargin": true,
           "gridcolor": "white",
           "linecolor": "white",
           "ticks": "",
           "title": {
            "standoff": 15
           },
           "zerolinecolor": "white",
           "zerolinewidth": 2
          },
          "yaxis": {
           "automargin": true,
           "gridcolor": "white",
           "linecolor": "white",
           "ticks": "",
           "title": {
            "standoff": 15
           },
           "zerolinecolor": "white",
           "zerolinewidth": 2
          }
         }
        },
        "xaxis": {
         "anchor": "y",
         "autorange": true,
         "domain": [
          0,
          1
         ],
         "range": [
          -49.24469185229377,
          36.99361413321589
         ],
         "title": {
          "text": "x"
         },
         "type": "linear"
        },
        "yaxis": {
         "anchor": "x",
         "autorange": true,
         "domain": [
          0,
          1
         ],
         "range": [
          -45.10594129311876,
          41.72880765479518
         ],
         "title": {
          "text": "y"
         },
         "type": "linear"
        }
       }
      },
      "image/png": "[encoded data removed]",
      "text/html": [
       "<div>                            <div id=\"ef3d6bc8-dc67-4b4a-b3bd-bd38c98076c1\" class=\"plotly-graph-div\" style=\"height:525px; width:100%;\"></div>            <script type=\"text/javascript\">                require([\"plotly\"], function(Plotly) {                    window.PLOTLYENV=window.PLOTLYENV || {};                                    if (document.getElementById(\"ef3d6bc8-dc67-4b4a-b3bd-bd38c98076c1\")) {                    Plotly.newPlot(                        \"ef3d6bc8-dc67-4b4a-b3bd-bd38c98076c1\",                        [{\"hovertemplate\":\"<b>%{hovertext}</b><br><br>x=%{x}<br>y=%{y}<extra></extra>\",\"hovertext\":[0.0,1.0,2.0,3.0,4.0,5.0,6.0,7.0,8.0,9.0,10.0,11.0,12.0,13.0,14.0,15.0,16.0,17.0,18.0,19.0,20.0,21.0,22.0,23.0,24.0,25.0,26.0,27.0,28.0,29.0,30.0,31.0,32.0,33.0,34.0,35.0,36.0,37.0,38.0,39.0,40.0,41.0,42.0,43.0,44.0,45.0,46.0,47.0,48.0,49.0,50.0,51.0,52.0,53.0,54.0,55.0,56.0,57.0,58.0,59.0,60.0,61.0,62.0,63.0,64.0,65.0,66.0,67.0,68.0,69.0,70.0,71.0,72.0,73.0,74.0,75.0,76.0,77.0,78.0,79.0,80.0,81.0,82.0,83.0,84.0,85.0,86.0,87.0,88.0,89.0,90.0,91.0,92.0,93.0,94.0,95.0,96.0,97.0,98.0,99.0,100.0,101.0,102.0,103.0,104.0,105.0,106.0,107.0,108.0,109.0,110.0,111.0,112.0,113.0,114.0,115.0,116.0,117.0,118.0,119.0,120.0,121.0,122.0,123.0,124.0,125.0,126.0,127.0,128.0,129.0,130.0,131.0,132.0,133.0,134.0,135.0,136.0,137.0,138.0,139.0,140.0,141.0,142.0,143.0,144.0,145.0,146.0,147.0,148.0,149.0,150.0,151.0,152.0,153.0,154.0,155.0,156.0,157.0,158.0,159.0,160.0,161.0,162.0,163.0,164.0,165.0,166.0,167.0,168.0,169.0,170.0,171.0,172.0,173.0,174.0,175.0,176.0,177.0,178.0,179.0,180.0,181.0,182.0,183.0,184.0,185.0,186.0,187.0,188.0,189.0,190.0,191.0,192.0,193.0,194.0,195.0,196.0,197.0,198.0,199.0,200.0,201.0,202.0,203.0,204.0,205.0,206.0,207.0,208.0,209.0,210.0,211.0,212.0,213.0,214.0,215.0,216.0,217.0,218.0,219.0,220.0,221.0,222.0,223.0,224.0,225.0,226.0,227.0,228.0,229.0,230.0,231.0,232.0,233.0,234.0,235.0,236.0,237.0,238.0,239.0,240.0,241.0,242.0,243.0,244.0,245.0,246.0,247.0,248.0,249.0,250.0,251.0,252.0,253.0,254.0,255.0,256.0,257.0,258.0,259.0,260.0,261.0,262.0,263.0,264.0,265.0,266.0,267.0,268.0,269.0,270.0,271.0,272.0,273.0,274.0,275.0,276.0,277.0,278.0,279.0,280.0,281.0,282.0,283.0,284.0,285.0,286.0,287.0,288.0,289.0,290.0,291.0,292.0,293.0,294.0,295.0,296.0,297.0,298.0,299.0,300.0,301.0,302.0,303.0,304.0,305.0,306.0,307.0,308.0,309.0,310.0,311.0,312.0,313.0,314.0,315.0,316.0,317.0,318.0,319.0,320.0,321.0,322.0,323.0,324.0,325.0,326.0,327.0,328.0,329.0,330.0,331.0,332.0,333.0,334.0,335.0,336.0,337.0,338.0,339.0,340.0,341.0,342.0,343.0,344.0,345.0,346.0,347.0,348.0,349.0,350.0,351.0,352.0,353.0,354.0,355.0,356.0,357.0,358.0,359.0,360.0,361.0,362.0,363.0,364.0,365.0,366.0,367.0,368.0,369.0,370.0,371.0,372.0,373.0,374.0,375.0,376.0,377.0,378.0,379.0,380.0,381.0,382.0,383.0,384.0,385.0,386.0,387.0,388.0,389.0,390.0,391.0,392.0,393.0,394.0,395.0,396.0,397.0,398.0,399.0,400.0,401.0,402.0,403.0,404.0,405.0,406.0,407.0,408.0,409.0,410.0,411.0,412.0,413.0,414.0,415.0,416.0,417.0,418.0,419.0,420.0,421.0,422.0,423.0,424.0,425.0,426.0,427.0,428.0,429.0,430.0,431.0,432.0,433.0,434.0,435.0,436.0,437.0,438.0,439.0],\"legendgroup\":\"\",\"marker\":{\"color\":\"#636efa\",\"symbol\":\"circle\"},\"mode\":\"markers\",\"name\":\"\",\"orientation\":\"v\",\"showlegend\":false,\"x\":[8.020817485722043,11.959388733729805,-2.495187525417528,-41.17786052675513,25.26496641562243,-5.047701321472249,-4.014524147110151,-5.102449004564807,-43.8496354432136,25.471717977507588,-9.579271396313725,-5.731536568854152,3.0746882797224697,20.02234513718182,27.79554467848337,30.508844377350247,31.944137731434356,10.118551525617775,1.8982471671047367,6.86381583470558,-5.300223561873628,3.954602015526035,4.79678506195933,22.669023700402413,-37.642899627623045,14.234216369307694,-4.732325873252688,-2.66720053850765,-18.55965230837971,-2.494591043585464,-3.18011345231437,-4.232922619960839,-5.441609768306526,-6.732269770948315,-8.644667426205576,-17.6382676450857,7.5918368381744346,-4.349762656941675,-6.565220624225099,-3.107161174708608,-2.4999149688322646,-2.161461733952304,-3.973082336192542,-1.5077432510909992,-22.595332522891376,-11.539960665697043,-6.583052424108996,-6.184562866495937,-10.00171243327895,-10.161768704597414,-11.20545720197544,-3.654875702236886,25.80082417312977,13.871065297242689,-16.684678387120172,10.858158312812336,25.08093668752266,-17.474365518732576,10.342944812318517,24.77300793155059,12.870869214068238,26.961391085583585,-28.506469441397392,-22.89224059235436,-16.471202988573136,24.76627257492777,28.286937783909192,-24.935705457106042,12.300451912666027,24.57214481128783,8.481885562672847,-37.83718758645039,25.942487449502885,23.645138690991114,-23.796156497427425,1.9731930917265217,-18.746010226131848,-16.456198039585676,6.80843490070696,10.81054551243573,0.3212283320452809,-19.273911126278055,2.32428570841868,-21.354011729700687,12.871189048902217,0.2822970037505343,7.841879146266602,11.53365433374431,25.377376648519583,13.938556725154648,24.21567876195219,-2.9489851658763704,10.877126808368255,26.87943065315781,-23.656971069703093,-8.773608831285266,-8.428397994060148,-3.9006190856696477,-22.056985505221082,-15.385039781304116,-16.974417876253682,-10.794145718270345,-11.115032795037225,-10.095999134120174,-9.341229147348079,-0.03386331657375347,-14.546522065087057,-13.101001352162276,-14.386136421247054,-6.01216302354599,-2.9101920752746495,-8.337129184986148,-24.832055570709297,6.986196880396177,-2.3641954116117088,-0.6877059094273398,-20.440202988439957,-1.809547624313199,-4.076339346739544,-8.851074898661377,-4.363904837208356,-9.984163470048799,-41.19626704256704,28.348885517145593,-43.19897923390543,29.295106226789958,-43.429825111866684,27.4832798882474,-40.238347526996975,26.047856537870103,-37.48441177736062,9.583810838498223,-3.4323561254953865,0.14376360807821043,-0.9665887269808615,-2.100431644697743,0.37073075722553206,20.38737834219877,9.120624158728335,-5.832979873394019,-17.183663651644725,7.523776394225251,-19.735888228502905,-8.942321538164816,-4.454218743002346,1.2802357600872536,-2.437813341821855,-3.9726283691991995,4.63949319247712,1.2183803652016716,0.3523969829028098,4.2239288703355635,0.575505907186732,1.6796516402747654,-1.9257105549627902,1.3593509341891026,0.26836794523434304,2.783437124675603,2.192873975288263,-15.008000494660969,-14.648171535066489,-13.813687816739419,-19.72756455488176,-20.025317897617843,-2.389700890596894,-24.629441972837988,11.304805966290761,26.30446641719427,10.478533501695837,-16.570521949721545,13.641464420429845,28.80840454158557,28.768781302845507,26.47722027552616,12.04807786052792,-0.7284648045105815,2.846707051898306,0.48022771781147156,2.790383264791404,26.774047622261683,26.0655896268606,-13.52918808053168,-10.13177230417513,1.7623837596706229,9.1662679196846,10.536010206016396,24.917895939382458,-3.798342044675286,-7.480886296166261,-7.559559105279332,-9.045241521268082,1.8700342203829134,26.326641535707257,25.500343534612504,4.463917829808931,5.78483502657061,2.782709914369227,20.538075835255075,28.621096460686665,24.511296175432683,-4.546559058183534,-29.249480824593107,-19.95417005261212,-10.757218457179023,-11.692946883523206,-20.004837295490972,-10.590209232638157,-11.865872125330652,-15.535556675155757,3.9546998307371832,16.806551908450395,8.540037109003602,1.2853293832369093,8.924102244744148,-3.103675584847336,-25.61994729798697,11.57438636048671,26.62788677826281,-39.15015689434052,16.03151881046903,9.898892614802739,-7.619682682849238,-4.208069730580141,0.2436896625284545,-3.526802182437371,4.997273188821581,22.691434252548103,-21.657802786182174,-7.480852177269286,-15.274618102045476,3.385074275342095,-10.832335398982211,-3.207228616564622,-7.4560731153767135,-2.6828742110680452,22.273308007499537,25.68630916008634,9.817051637772227,16.186334416033066,14.08841025661972,-16.352667350215857,0.04292334194630859,-13.952366327157057,-19.771574747788414,-16.51966422121993,13.560127346117387,29.098774236766353,-44.38650349990061,28.81123605146627,24.06185207217625,-6.082125188729978,-2.6776702273592545,-4.754371591523445,-8.969472763855402,-39.60846557669654,17.252320295084292,22.115265695738834,-4.540665741449592,7.032505178859251,24.23474022226592,-42.342878935661716,25.552675553152653,-10.002206611707802,-21.37110455272106,-0.06064449222711744,-28.138835164792663,-38.68834204764841,15.842879338424956,8.223180713836967,-2.710686661709015,5.918356533375049,-1.2368315076949647,-0.5797761334322877,18.694523212902958,18.543159435851198,18.8820867711086,9.336127161837606,2.038557003436495,19.674918587603976,7.785275507884806,1.4250369406188115,4.770417002491139,1.574937198556315,9.394930879956394,2.085860545765526,8.692316714049511,2.268018681982708,25.347636882287862,12.8703727882906,2.7708092591093303,23.861934797087468,23.52757905554866,24.975586905146976,25.03705969723029,24.41947143411588,13.848250367496316,4.15940679576443,13.969789922919558,7.9294940029160035,-19.98685578554258,-3.3856025811567454,-17.718458837469104,-16.65610705604776,-25.382221459586336,6.1866142948661444,13.30168486645678,-3.4878199857317234,-22.590719635792695,-14.910855638035237,12.881580358825897,25.447718763725977,-20.366405383673285,21.686940400630895,13.269150852824875,-9.641025930832667,-0.6600696257232946,6.732597387011924,-2.886998614787787,-3.396167287358176,19.50485947629545,24.573470024685772,24.85545077652987,-42.942415374851386,26.623678579930008,-23.96538810177385,0.21352036966171176,-14.076668848475327,-3.2010713391089887,-28.57005267255136,-28.641375006476895,-22.526282171763626,14.918659182734478,5.421261230069871,6.681932289380981,29.50487771730683,30.94555702224745,30.55931658150578,31.842889202680965,22.22644054287068,-14.323070381731986,-6.005218737813284,-4.872108288847122,-9.294418038309816,10.01731195797374,26.00315083698195,25.832376237618664,8.657526241422522,-42.46631990054858,28.043877130932206,-22.395423682193393,-20.43106054311708,6.273142299904811,-10.69823633339729,-9.450443238594064,-4.659547117672122,-43.7359742772158,23.45010767907918,19.487080089569655,-19.595710084043468,-15.692332842038663,-9.768657927272073,-3.5839433337318747,-9.284320380049579,-10.257675385345232,2.476123204248818,10.29673449570018,-3.0549139145283686,-7.713213703435068,5.700182038883479,22.39595330889236,-10.325099595990906,-9.685951857899681,-0.36491960857934935,17.181983017520412,16.08577320500832,25.18408122257951,32.135425780822736,27.129243070291846,14.287527811957032,7.831556338171286,3.5073569596714735,2.254722014546788,-2.216912056627967,1.1142079588033476,2.6319192347325497,-20.74651577619289,21.16794282618787,21.151279836963557,9.717731991597482,-2.835192701429604,-15.247386633479517,-16.031970622360408,-26.227424653565134,-3.5232854216824996,-29.066053393832462,-25.479752846628337,-1.2299661958731722,-6.017920220551262,-38.03841021368135,13.95405322561247,-6.056832389300407,-25.89200838452758,-6.752767910777381,0.7461880717748355,-11.34113442689935,-9.16535227115349,-40.62694744746333,13.90249709394369,-37.106463693425496,21.00646129381344,11.157665483802953,7.420415196822834,-3.706031036870847,-39.56453727716758,14.941396162492818,28.225860881526103,-40.12929374320266,15.58238458865079,22.103713495768684,-21.13083462655171,7.020008419218152,-2.5422333539930553,-1.064093944429098,-1.333356955519743,-0.30636528577901184,20.75198355865996,28.6996571739364,24.74767444338837,14.237930870458486,24.53635500262507,-8.064678150895672,-6.081573208002653,-8.516704125054023,-7.860809360461738,-11.983688913669798,-12.604903443032129,-39.807053235229745,25.675855402808804,-14.999696544126941,-19.656340695100344],\"xaxis\":\"x\",\"y\":[-32.56532977678318,-2.6575680010568568,31.594505318221504,0.4658492359407811,4.520380786888774,-6.536658776688739,-0.9977260793842385,35.04828847188487,2.377554194502082,14.292009233472863,14.051608035929592,-24.1989771341088,-22.149891674948986,-16.651590384324646,-15.645806260817672,-13.589701445302321,-11.06572406312465,-10.493095220316253,-22.614641257703823,-0.39800195808810435,-24.153631424802974,-16.80743571339437,-32.12651723302015,18.55838723915139,3.0858364245855743,8.621035906203273,-1.5303546665707934,29.04627666148889,15.797128097199675,15.224469565684482,14.122808576121292,15.00118122030216,19.104804254932628,20.043585257295543,13.656170531635267,-3.398882304532139,-0.29134870788782746,19.860173915873332,13.750682413974163,12.821000228765104,12.653415457148732,13.205197718035656,14.24667930970997,31.865330995200928,8.994804530353392,-3.848520255348204,-0.37935244717901834,-6.200603667945755,-5.446676884661198,-5.99533020690806,-5.504276574191177,-25.039465959897665,-12.713959753508671,-1.520215307729202,2.8088909661649315,-38.194187572903026,5.890981446465752,-3.09394435846837,-35.752924985771294,8.113678791758229,-36.626276953678655,18.342898469835248,-10.481472549241087,17.384967051015447,3.1347278703688137,-14.805916278752537,21.124859494160855,17.831751765605308,-37.70945093794989,4.1468608120922115,28.66679958386194,4.086416536053215,-9.698066951823009,18.92143432998796,16.44491786804691,26.998183880101315,11.177154259816879,4.094360885281049,-35.342314507036505,-2.2589040031147474,26.810392617022238,12.230743344072678,26.910397137362995,2.89142357137918,-3.2696452771702065,-28.38892518540528,-4.443994234091005,-36.98014309257811,3.1593668318512025,-38.65141870581708,5.034227743361747,-11.490133545231142,-37.067488759646366,20.431729718778932,18.22751353409694,-1.9403074425819609,-1.7267562013211097,34.55194642960462,19.69019168369545,-2.638980758274336,5.104026856579119,-5.076097192636477,-6.1397406195311,-4.763054569185979,-5.8378607898359105,30.882073409112646,24.876636581799332,22.974306592358875,17.567161739147213,13.310099790014474,16.19053449959688,29.15518226087633,14.434270633836118,-15.023680898272648,-14.44871630885052,31.489988787044172,17.450635752489685,12.192844912081537,20.42435329950408,14.49880214099488,20.59853295009786,28.09280633384408,-0.006200324239752698,19.561811475465767,0.9209056083813458,21.126307978612623,1.7044562977448103,19.417100496121346,1.8014934147358772,18.876111623325592,4.451130330140337,-9.833078389466134,-18.517403696538338,-18.794933656335072,-17.556525921373275,-16.761230448310094,-26.356222595762652,-13.99488742175559,-4.77059337443629,-1.686590798980956,1.6828992406738779,28.355155891592684,13.344911026735614,-3.232327204165674,-23.147774739875125,-20.39296240108358,-13.66171264729337,-23.99417014678684,-17.502001718296164,-17.905277265557316,-21.819942031401123,-16.060934480028322,-22.82714409257508,-14.722891068452698,-20.62173569502768,-13.49447214444238,-24.231008503465745,-14.421869541151551,27.7195785022523,26.42907238572842,26.489148201712485,28.14188594183953,22.201451740442796,14.53018549520035,32.891347046734694,16.946765587789574,-37.18001975565173,-0.18834739696934924,-3.042656290136082,-1.7409545201213983,-39.28406607956544,-2.9620446202233466,-2.9029842512377533,-0.4080740444801845,-6.225473105313588,-22.126729362391888,-18.003023923885113,-14.739561111899736,-32.55245239767489,-9.689450220858173,17.027535137527504,19.677443343349037,14.498402666441581,-31.485012018713746,-3.786341391218238,-37.49464106070669,6.862183261497211,20.685701365497454,19.07832982666159,13.510393677656548,-9.249136735460446,-30.7309900599325,-10.462769013024829,2.9781467980760437,-25.49333952567778,-14.449895648741512,-20.989604938458815,-17.175115745609432,-14.696098633773481,6.125693856384593,35.54746564086734,-10.884751297315763,22.0656349786172,20.835131552826862,27.738106020845507,16.73654613143377,-3.2067707086441004,-2.591719053965216,-1.1308029783022164,-25.671347439931658,-15.908023137304989,-9.958971885925134,-29.125215312089367,-4.329462490246702,33.98057157045028,18.58373202948647,-38.03534647302977,18.12330132807667,2.093930683879721,6.1798358661970685,-2.001825885248924,-22.639346503132053,-19.4487715391852,-16.7078474840601,-20.070404404628647,-31.41769337464014,18.42378653354616,15.043789890756582,-2.104135805797568,-3.425686974276189,27.50246229262509,15.123278897986966,15.062840273782745,12.153100449605372,-23.528115402502586,-16.373944406866364,1.7759039405309796,-34.565371156022294,6.97560288902702,8.812992203053795,4.4857039261980995,26.99558134473565,26.40691180249417,15.375972861912588,0.37781238278077733,-38.72707391322867,20.23158726543547,1.2775134101975765,-2.968104270550744,5.219819686857704,0.5568548193537621,-11.584338132390275,-13.140917875003888,30.262312364203822,3.1765461236874546,6.08103631470305,2.725483269402413,-1.6791888055650273,-35.54978836885079,19.66156219681269,-0.9621654586295153,13.150922486080173,27.810491461825368,13.187122852794253,29.572637346143395,-10.52418073606542,2.7729017809100296,6.76506314160235,-0.550478613397196,-25.65959667812698,-16.550366423584464,-15.42202233460501,-28.063171841000464,-15.568394952275804,-14.90048933715472,-15.327078743634,-10.418361453058433,-26.641448811032387,-14.668886154288755,-12.934159556830599,-24.74382238445604,-14.223995249782481,-28.335929622690895,-10.782065729144252,-27.980678100115405,-10.9908646340048,-29.577157911244555,-11.706788967243156,-4.14557824921232,-30.114200465055344,-11.710068548865001,-11.964579138653038,-11.93185644047109,-11.315493699856335,-10.312684082043187,-7.255119123822195,-31.378124728822893,-8.40388617243494,28.490702361179533,16.66960818239645,34.7447649406361,23.356301735487285,23.700700324776854,17.980765962582343,-32.32885808157611,-2.323438325361345,30.904753187568573,15.449652836553105,-1.5253764354013901,-38.20714743942171,13.699345061177562,5.020681921081361,-17.043297299182658,-3.140070466776221,-8.769633992909766,-26.125242686859576,-13.384469701985545,-14.950747688739636,-16.08427563177454,-5.871675800137005,-18.13754662912826,20.52273069666225,1.9697188852739238,20.099909457450163,16.326452587180636,27.321457531547278,17.11887015801155,31.374527415433963,-10.804370273952095,-10.080252241751829,8.595633773381952,-16.080227908303627,-15.555418406630496,-32.5061464090546,-13.793401069362119,-12.622012184159123,-13.686949677328961,-11.265858758602947,17.859678429760937,18.489689705265867,14.645623032908047,13.236701900976879,-4.913340607405994,-33.434916830227316,-9.783956441676466,1.2249732309561867,28.701932302258687,0.8080411540785364,20.692062137697505,18.94699536457542,4.204167213885689,-4.35008548606881,-6.886882563034638,-6.925178295071855,35.906932441241864,0.703786272914426,3.634309046434235,-5.775141411282365,24.07568344535358,16.928723352992215,-2.474459981760166,-13.255208048619194,-7.986992944019167,-7.721951797977578,-31.040158340332876,-1.4047896170113805,12.284025219335382,-22.561775259631748,-32.153239729994674,16.6544471923832,20.601692240923462,14.619008728826705,-27.201988574655118,-16.211676957509752,-16.00261053021082,-18.515112072159475,-10.116744989552249,-16.320955568999132,-7.906349791234058,-14.034051130415023,-19.256460061518073,-16.516085253050875,-19.426270821193874,-15.437403492879442,26.37638002317427,4.762335382466798,-11.739989281202094,-12.674544918647848,-4.044197776937497,30.765723138089577,24.176729398390453,23.772022835881366,18.199164924768745,33.96065488424502,-10.937562010785596,15.690082812680894,15.837771836838659,34.33510605703655,1.1358044520054138,9.897785907223875,34.35215092157053,17.59637253355431,-1.5745592197242477,27.21422373501021,21.17474392179021,28.088298181361665,0.13185879205246934,10.457392181806911,3.319961332335442,-13.03571196648583,-10.736637136453659,-15.469159061516132,31.611799380850538,2.6987497507857126,5.764106771214879,19.272886745174137,2.2357130414761435,6.001138728604628,17.303442492838617,5.632240540199442,-12.171341402089876,-18.28791616139819,-19.906537183550363,-18.243188505654327,-24.8381314942456,-16.866392139938508,-14.4412304713602,7.502395296569977,5.514278365357797,10.803015691942482,14.500989545856243,20.104250254394096,20.339725863188615,20.72750232964883,19.55725545207059,27.139273201488407,0.5028807630634663,17.787019167926324,25.601186123590544,12.795222672664783],\"yaxis\":\"y\",\"type\":\"scatter\"}],                        {\"template\":{\"data\":{\"bar\":[{\"error_x\":{\"color\":\"#2a3f5f\"},\"error_y\":{\"color\":\"#2a3f5f\"},\"marker\":{\"line\":{\"color\":\"#E5ECF6\",\"width\":0.5},\"pattern\":{\"fillmode\":\"overlay\",\"size\":10,\"solidity\":0.2}},\"type\":\"bar\"}],\"barpolar\":[{\"marker\":{\"line\":{\"color\":\"#E5ECF6\",\"width\":0.5},\"pattern\":{\"fillmode\":\"overlay\",\"size\":10,\"solidity\":0.2}},\"type\":\"barpolar\"}],\"carpet\":[{\"aaxis\":{\"endlinecolor\":\"#2a3f5f\",\"gridcolor\":\"white\",\"linecolor\":\"white\",\"minorgridcolor\":\"white\",\"startlinecolor\":\"#2a3f5f\"},\"baxis\":{\"endlinecolor\":\"#2a3f5f\",\"gridcolor\":\"white\",\"linecolor\":\"white\",\"minorgridcolor\":\"white\",\"startlinecolor\":\"#2a3f5f\"},\"type\":\"carpet\"}],\"choropleth\":[{\"colorbar\":{\"outlinewidth\":0,\"ticks\":\"\"},\"type\":\"choropleth\"}],\"contour\":[{\"colorbar\":{\"outlinewidth\":0,\"ticks\":\"\"},\"colorscale\":[[0.0,\"#0d0887\"],[0.1111111111111111,\"#46039f\"],[0.2222222222222222,\"#7201a8\"],[0.3333333333333333,\"#9c179e\"],[0.4444444444444444,\"#bd3786\"],[0.5555555555555556,\"#d8576b\"],[0.6666666666666666,\"#ed7953\"],[0.7777777777777778,\"#fb9f3a\"],[0.8888888888888888,\"#fdca26\"],[1.0,\"#f0f921\"]],\"type\":\"contour\"}],\"contourcarpet\":[{\"colorbar\":{\"outlinewidth\":0,\"ticks\":\"\"},\"type\":\"contourcarpet\"}],\"heatmap\":[{\"colorbar\":{\"outlinewidth\":0,\"ticks\":\"\"},\"colorscale\":[[0.0,\"#0d0887\"],[0.1111111111111111,\"#46039f\"],[0.2222222222222222,\"#7201a8\"],[0.3333333333333333,\"#9c179e\"],[0.4444444444444444,\"#bd3786\"],[0.5555555555555556,\"#d8576b\"],[0.6666666666666666,\"#ed7953\"],[0.7777777777777778,\"#fb9f3a\"],[0.8888888888888888,\"#fdca26\"],[1.0,\"#f0f921\"]],\"type\":\"heatmap\"}],\"heatmapgl\":[{\"colorbar\":{\"outlinewidth\":0,\"ticks\":\"\"},\"colorscale\":[[0.0,\"#0d0887\"],[0.1111111111111111,\"#46039f\"],[0.2222222222222222,\"#7201a8\"],[0.3333333333333333,\"#9c179e\"],[0.4444444444444444,\"#bd3786\"],[0.5555555555555556,\"#d8576b\"],[0.6666666666666666,\"#ed7953\"],[0.7777777777777778,\"#fb9f3a\"],[0.8888888888888888,\"#fdca26\"],[1.0,\"#f0f921\"]],\"type\":\"heatmapgl\"}],\"histogram\":[{\"marker\":{\"pattern\":{\"fillmode\":\"overlay\",\"size\":10,\"solidity\":0.2}},\"type\":\"histogram\"}],\"histogram2d\":[{\"colorbar\":{\"outlinewidth\":0,\"ticks\":\"\"},\"colorscale\":[[0.0,\"#0d0887\"],[0.1111111111111111,\"#46039f\"],[0.2222222222222222,\"#7201a8\"],[0.3333333333333333,\"#9c179e\"],[0.4444444444444444,\"#bd3786\"],[0.5555555555555556,\"#d8576b\"],[0.6666666666666666,\"#ed7953\"],[0.7777777777777778,\"#fb9f3a\"],[0.8888888888888888,\"#fdca26\"],[1.0,\"#f0f921\"]],\"type\":\"histogram2d\"}],\"histogram2dcontour\":[{\"colorbar\":{\"outlinewidth\":0,\"ticks\":\"\"},\"colorscale\":[[0.0,\"#0d0887\"],[0.1111111111111111,\"#46039f\"],[0.2222222222222222,\"#7201a8\"],[0.3333333333333333,\"#9c179e\"],[0.4444444444444444,\"#bd3786\"],[0.5555555555555556,\"#d8576b\"],[0.6666666666666666,\"#ed7953\"],[0.7777777777777778,\"#fb9f3a\"],[0.8888888888888888,\"#fdca26\"],[1.0,\"#f0f921\"]],\"type\":\"histogram2dcontour\"}],\"mesh3d\":[{\"colorbar\":{\"outlinewidth\":0,\"ticks\":\"\"},\"type\":\"mesh3d\"}],\"parcoords\":[{\"line\":{\"colorbar\":{\"outlinewidth\":0,\"ticks\":\"\"}},\"type\":\"parcoords\"}],\"pie\":[{\"automargin\":true,\"type\":\"pie\"}],\"scatter\":[{\"marker\":{\"colorbar\":{\"outlinewidth\":0,\"ticks\":\"\"}},\"type\":\"scatter\"}],\"scatter3d\":[{\"line\":{\"colorbar\":{\"outlinewidth\":0,\"ticks\":\"\"}},\"marker\":{\"colorbar\":{\"outlinewidth\":0,\"ticks\":\"\"}},\"type\":\"scatter3d\"}],\"scattercarpet\":[{\"marker\":{\"colorbar\":{\"outlinewidth\":0,\"ticks\":\"\"}},\"type\":\"scattercarpet\"}],\"scattergeo\":[{\"marker\":{\"colorbar\":{\"outlinewidth\":0,\"ticks\":\"\"}},\"type\":\"scattergeo\"}],\"scattergl\":[{\"marker\":{\"colorbar\":{\"outlinewidth\":0,\"ticks\":\"\"}},\"type\":\"scattergl\"}],\"scattermapbox\":[{\"marker\":{\"colorbar\":{\"outlinewidth\":0,\"ticks\":\"\"}},\"type\":\"scattermapbox\"}],\"scatterpolar\":[{\"marker\":{\"colorbar\":{\"outlinewidth\":0,\"ticks\":\"\"}},\"type\":\"scatterpolar\"}],\"scatterpolargl\":[{\"marker\":{\"colorbar\":{\"outlinewidth\":0,\"ticks\":\"\"}},\"type\":\"scatterpolargl\"}],\"scatterternary\":[{\"marker\":{\"colorbar\":{\"outlinewidth\":0,\"ticks\":\"\"}},\"type\":\"scatterternary\"}],\"surface\":[{\"colorbar\":{\"outlinewidth\":0,\"ticks\":\"\"},\"colorscale\":[[0.0,\"#0d0887\"],[0.1111111111111111,\"#46039f\"],[0.2222222222222222,\"#7201a8\"],[0.3333333333333333,\"#9c179e\"],[0.4444444444444444,\"#bd3786\"],[0.5555555555555556,\"#d8576b\"],[0.6666666666666666,\"#ed7953\"],[0.7777777777777778,\"#fb9f3a\"],[0.8888888888888888,\"#fdca26\"],[1.0,\"#f0f921\"]],\"type\":\"surface\"}],\"table\":[{\"cells\":{\"fill\":{\"color\":\"#EBF0F8\"},\"line\":{\"color\":\"white\"}},\"header\":{\"fill\":{\"color\":\"#C8D4E3\"},\"line\":{\"color\":\"white\"}},\"type\":\"table\"}]},\"layout\":{\"annotationdefaults\":{\"arrowcolor\":\"#2a3f5f\",\"arrowhead\":0,\"arrowwidth\":1},\"autotypenumbers\":\"strict\",\"coloraxis\":{\"colorbar\":{\"outlinewidth\":0,\"ticks\":\"\"}},\"colorscale\":{\"diverging\":[[0,\"#8e0152\"],[0.1,\"#c51b7d\"],[0.2,\"#de77ae\"],[0.3,\"#f1b6da\"],[0.4,\"#fde0ef\"],[0.5,\"#f7f7f7\"],[0.6,\"#e6f5d0\"],[0.7,\"#b8e186\"],[0.8,\"#7fbc41\"],[0.9,\"#4d9221\"],[1,\"#276419\"]],\"sequential\":[[0.0,\"#0d0887\"],[0.1111111111111111,\"#46039f\"],[0.2222222222222222,\"#7201a8\"],[0.3333333333333333,\"#9c179e\"],[0.4444444444444444,\"#bd3786\"],[0.5555555555555556,\"#d8576b\"],[0.6666666666666666,\"#ed7953\"],[0.7777777777777778,\"#fb9f3a\"],[0.8888888888888888,\"#fdca26\"],[1.0,\"#f0f921\"]],\"sequentialminus\":[[0.0,\"#0d0887\"],[0.1111111111111111,\"#46039f\"],[0.2222222222222222,\"#7201a8\"],[0.3333333333333333,\"#9c179e\"],[0.4444444444444444,\"#bd3786\"],[0.5555555555555556,\"#d8576b\"],[0.6666666666666666,\"#ed7953\"],[0.7777777777777778,\"#fb9f3a\"],[0.8888888888888888,\"#fdca26\"],[1.0,\"#f0f921\"]]},\"colorway\":[\"#636efa\",\"#EF553B\",\"#00cc96\",\"#ab63fa\",\"#FFA15A\",\"#19d3f3\",\"#FF6692\",\"#B6E880\",\"#FF97FF\",\"#FECB52\"],\"font\":{\"color\":\"#2a3f5f\"},\"geo\":{\"bgcolor\":\"white\",\"lakecolor\":\"white\",\"landcolor\":\"#E5ECF6\",\"showlakes\":true,\"showland\":true,\"subunitcolor\":\"white\"},\"hoverlabel\":{\"align\":\"left\"},\"hovermode\":\"closest\",\"mapbox\":{\"style\":\"light\"},\"paper_bgcolor\":\"white\",\"plot_bgcolor\":\"#E5ECF6\",\"polar\":{\"angularaxis\":{\"gridcolor\":\"white\",\"linecolor\":\"white\",\"ticks\":\"\"},\"bgcolor\":\"#E5ECF6\",\"radialaxis\":{\"gridcolor\":\"white\",\"linecolor\":\"white\",\"ticks\":\"\"}},\"scene\":{\"xaxis\":{\"backgroundcolor\":\"#E5ECF6\",\"gridcolor\":\"white\",\"gridwidth\":2,\"linecolor\":\"white\",\"showbackground\":true,\"ticks\":\"\",\"zerolinecolor\":\"white\"},\"yaxis\":{\"backgroundcolor\":\"#E5ECF6\",\"gridcolor\":\"white\",\"gridwidth\":2,\"linecolor\":\"white\",\"showbackground\":true,\"ticks\":\"\",\"zerolinecolor\":\"white\"},\"zaxis\":{\"backgroundcolor\":\"#E5ECF6\",\"gridcolor\":\"white\",\"gridwidth\":2,\"linecolor\":\"white\",\"showbackground\":true,\"ticks\":\"\",\"zerolinecolor\":\"white\"}},\"shapedefaults\":{\"line\":{\"color\":\"#2a3f5f\"}},\"ternary\":{\"aaxis\":{\"gridcolor\":\"white\",\"linecolor\":\"white\",\"ticks\":\"\"},\"baxis\":{\"gridcolor\":\"white\",\"linecolor\":\"white\",\"ticks\":\"\"},\"bgcolor\":\"#E5ECF6\",\"caxis\":{\"gridcolor\":\"white\",\"linecolor\":\"white\",\"ticks\":\"\"}},\"title\":{\"x\":0.05},\"xaxis\":{\"automargin\":true,\"gridcolor\":\"white\",\"linecolor\":\"white\",\"ticks\":\"\",\"title\":{\"standoff\":15},\"zerolinecolor\":\"white\",\"zerolinewidth\":2},\"yaxis\":{\"automargin\":true,\"gridcolor\":\"white\",\"linecolor\":\"white\",\"ticks\":\"\",\"title\":{\"standoff\":15},\"zerolinecolor\":\"white\",\"zerolinewidth\":2}}},\"xaxis\":{\"anchor\":\"y\",\"domain\":[0.0,1.0],\"title\":{\"text\":\"x\"}},\"yaxis\":{\"anchor\":\"x\",\"domain\":[0.0,1.0],\"title\":{\"text\":\"y\"}},\"legend\":{\"tracegroupgap\":0},\"margin\":{\"t\":60}},                        {\"responsive\": true}                    ).then(function(){\n",
       "                            \n",
       "var gd = document.getElementById('ef3d6bc8-dc67-4b4a-b3bd-bd38c98076c1');\n",
       "var x = new MutationObserver(function (mutations, observer) {{\n",
       "        var display = window.getComputedStyle(gd).display;\n",
       "        if (!display || display === 'none') {{\n",
       "            console.log([gd, 'removed!']);\n",
       "            Plotly.purge(gd);\n",
       "            observer.disconnect();\n",
       "        }}\n",
       "}});\n",
       "\n",
       "// Listen for the removal of the full notebook cells\n",
       "var notebookContainer = gd.closest('#notebook-container');\n",
       "if (notebookContainer) {{\n",
       "    x.observe(notebookContainer, {childList: true});\n",
       "}}\n",
       "\n",
       "// Listen for the clearing of the current output cell\n",
       "var outputEl = gd.closest('.output');\n",
       "if (outputEl) {{\n",
       "    x.observe(outputEl, {childList: true});\n",
       "}}\n",
       "\n",
       "                        })                };                });            </script>        </div>"
      ]
     },
     "metadata": {},
     "output_type": "display_data"
    }
   ],
   "source": [
    "px.scatter(data_frame=emb_df, x='x', y='y', hover_name=\"idx\")"
   ]
  },
  {
   "cell_type": "markdown",
   "id": "4a1df5d9-2a92-47a3-889b-39758c65d12e",
   "metadata": {
    "tags": []
   },
   "source": [
    "### cluster"
   ]
  },
  {
   "cell_type": "code",
   "execution_count": 253,
   "id": "f1e80b11-764a-4047-a845-1c70c7332812",
   "metadata": {},
   "outputs": [],
   "source": [
    "from sklearn.cluster import DBSCAN, AffinityPropagation, spectral_clustering"
   ]
  },
  {
   "cell_type": "code",
   "execution_count": 254,
   "id": "463c8afd-b962-4db5-bd1e-dc9132c45054",
   "metadata": {},
   "outputs": [],
   "source": [
    "db = DBSCAN(eps=1e2, min_samples=5).fit(emb_seg)"
   ]
  },
  {
   "cell_type": "code",
   "execution_count": 255,
   "id": "f36c40e7-6d44-4f2b-8560-8c8bc429c7e8",
   "metadata": {},
   "outputs": [
    {
     "data": {
      "text/plain": [
       "<matplotlib.collections.PathCollection at 0x7f9197c6d610>"
      ]
     },
     "execution_count": 255,
     "metadata": {},
     "output_type": "execute_result"
    },
    {
     "data": {
      "image/png": "[encoded data removed]",
      "text/plain": [
       "<Figure size 432x288 with 1 Axes>"
      ]
     },
     "metadata": {
      "needs_background": "light"
     },
     "output_type": "display_data"
    }
   ],
   "source": [
    "plt.scatter(emb_seg[:, 0], emb_seg[:, 1], c=db.labels_)"
   ]
  },
  {
   "cell_type": "code",
   "execution_count": 256,
   "id": "12fbe9fe-d9d2-4333-8611-6dd30f2b0b57",
   "metadata": {},
   "outputs": [],
   "source": [
    "af = AffinityPropagation(preference=-50, random_state=0).fit(emb_seg)"
   ]
  },
  {
   "cell_type": "code",
   "execution_count": 257,
   "id": "7dbea0b6-1369-4782-86e7-0ba3c65129f6",
   "metadata": {},
   "outputs": [
    {
     "data": {
      "text/plain": [
       "<matplotlib.collections.PathCollection at 0x7f91970404d0>"
      ]
     },
     "execution_count": 257,
     "metadata": {},
     "output_type": "execute_result"
    },
    {
     "data": {
      "image/png": "[encoded data removed]",
      "text/plain": [
       "<Figure size 432x288 with 1 Axes>"
      ]
     },
     "metadata": {
      "needs_background": "light"
     },
     "output_type": "display_data"
    }
   ],
   "source": [
    "plt.scatter(emb_seg[:, 0], emb_seg[:, 1], c=af.labels_, cmap='tab20')"
   ]
  },
  {
   "cell_type": "markdown",
   "id": "efe96764-53a1-4538-8d21-f715ea287a7d",
   "metadata": {},
   "source": [
    "## compare JS and PYTHON"
   ]
  },
  {
   "cell_type": "code",
   "execution_count": 258,
   "id": "24e28ecc-c502-4ab8-ad78-d706aaf0e27d",
   "metadata": {},
   "outputs": [],
   "source": [
    "for i , stroke_i in data_df.groupby(\"stroke_id\"):\n",
    "    break"
   ]
  },
  {
   "cell_type": "code",
   "execution_count": 259,
   "id": "8dc024d0-41c2-42c9-981c-4985a6220981",
   "metadata": {},
   "outputs": [
    {
     "data": {
      "text/html": [
       "<div>\n",
       "<style scoped>\n",
       "    .dataframe tbody tr th:only-of-type {\n",
       "        vertical-align: middle;\n",
       "    }\n",
       "\n",
       "    .dataframe tbody tr th {\n",
       "        vertical-align: top;\n",
       "    }\n",
       "\n",
       "    .dataframe thead th {\n",
       "        text-align: right;\n",
       "    }\n",
       "</style>\n",
       "<table border=\"1\" class=\"dataframe\">\n",
       "  <thead>\n",
       "    <tr style=\"text-align: right;\">\n",
       "      <th></th>\n",
       "      <th>key</th>\n",
       "      <th>t0</th>\n",
       "      <th>ts</th>\n",
       "      <th>stroke_id</th>\n",
       "      <th>x</th>\n",
       "      <th>y</th>\n",
       "      <th>p</th>\n",
       "      <th>x_</th>\n",
       "      <th>y_</th>\n",
       "      <th>p_</th>\n",
       "      <th>x0</th>\n",
       "      <th>y0</th>\n",
       "      <th>p0</th>\n",
       "      <th>x1</th>\n",
       "      <th>y1</th>\n",
       "      <th>p1</th>\n",
       "    </tr>\n",
       "  </thead>\n",
       "  <tbody>\n",
       "    <tr>\n",
       "      <th>0</th>\n",
       "      <td>223155_50</td>\n",
       "      <td>223155</td>\n",
       "      <td>50</td>\n",
       "      <td>7</td>\n",
       "      <td>0.108465</td>\n",
       "      <td>0.922634</td>\n",
       "      <td>0.016437</td>\n",
       "      <td>-0.000808</td>\n",
       "      <td>0.000759</td>\n",
       "      <td>0.012175</td>\n",
       "      <td>-0.000011</td>\n",
       "      <td>0.000010</td>\n",
       "      <td>0.000634</td>\n",
       "      <td>-0.000005</td>\n",
       "      <td>0.000004</td>\n",
       "      <td>0.000210</td>\n",
       "    </tr>\n",
       "    <tr>\n",
       "      <th>1</th>\n",
       "      <td>223168_60</td>\n",
       "      <td>223168</td>\n",
       "      <td>60</td>\n",
       "      <td>7</td>\n",
       "      <td>0.107795</td>\n",
       "      <td>0.923251</td>\n",
       "      <td>0.019668</td>\n",
       "      <td>-0.001477</td>\n",
       "      <td>0.001376</td>\n",
       "      <td>0.015406</td>\n",
       "      <td>-0.000035</td>\n",
       "      <td>0.000032</td>\n",
       "      <td>0.001471</td>\n",
       "      <td>-0.000012</td>\n",
       "      <td>0.000011</td>\n",
       "      <td>0.000431</td>\n",
       "    </tr>\n",
       "    <tr>\n",
       "      <th>2</th>\n",
       "      <td>223181_70</td>\n",
       "      <td>223181</td>\n",
       "      <td>70</td>\n",
       "      <td>7</td>\n",
       "      <td>0.107020</td>\n",
       "      <td>0.923929</td>\n",
       "      <td>0.022609</td>\n",
       "      <td>-0.002252</td>\n",
       "      <td>0.002054</td>\n",
       "      <td>0.018348</td>\n",
       "      <td>-0.000086</td>\n",
       "      <td>0.000079</td>\n",
       "      <td>0.002857</td>\n",
       "      <td>-0.000027</td>\n",
       "      <td>0.000025</td>\n",
       "      <td>0.000760</td>\n",
       "    </tr>\n",
       "    <tr>\n",
       "      <th>3</th>\n",
       "      <td>223181_80</td>\n",
       "      <td>223181</td>\n",
       "      <td>80</td>\n",
       "      <td>7</td>\n",
       "      <td>0.106651</td>\n",
       "      <td>0.924164</td>\n",
       "      <td>0.022216</td>\n",
       "      <td>-0.002621</td>\n",
       "      <td>0.002289</td>\n",
       "      <td>0.017955</td>\n",
       "      <td>-0.000183</td>\n",
       "      <td>0.000169</td>\n",
       "      <td>0.004819</td>\n",
       "      <td>-0.000053</td>\n",
       "      <td>0.000049</td>\n",
       "      <td>0.001180</td>\n",
       "    </tr>\n",
       "    <tr>\n",
       "      <th>4</th>\n",
       "      <td>223194_90</td>\n",
       "      <td>223194</td>\n",
       "      <td>90</td>\n",
       "      <td>7</td>\n",
       "      <td>0.105952</td>\n",
       "      <td>0.924211</td>\n",
       "      <td>0.021473</td>\n",
       "      <td>-0.003320</td>\n",
       "      <td>0.002336</td>\n",
       "      <td>0.017212</td>\n",
       "      <td>-0.000349</td>\n",
       "      <td>0.000322</td>\n",
       "      <td>0.007260</td>\n",
       "      <td>-0.000094</td>\n",
       "      <td>0.000086</td>\n",
       "      <td>0.001638</td>\n",
       "    </tr>\n",
       "  </tbody>\n",
       "</table>\n",
       "</div>"
      ],
      "text/plain": [
       "         key      t0  ts  stroke_id         x         y         p        x_  \\\n",
       "0  223155_50  223155  50          7  0.108465  0.922634  0.016437 -0.000808   \n",
       "1  223168_60  223168  60          7  0.107795  0.923251  0.019668 -0.001477   \n",
       "2  223181_70  223181  70          7  0.107020  0.923929  0.022609 -0.002252   \n",
       "3  223181_80  223181  80          7  0.106651  0.924164  0.022216 -0.002621   \n",
       "4  223194_90  223194  90          7  0.105952  0.924211  0.021473 -0.003320   \n",
       "\n",
       "         y_        p_        x0        y0        p0        x1        y1  \\\n",
       "0  0.000759  0.012175 -0.000011  0.000010  0.000634 -0.000005  0.000004   \n",
       "1  0.001376  0.015406 -0.000035  0.000032  0.001471 -0.000012  0.000011   \n",
       "2  0.002054  0.018348 -0.000086  0.000079  0.002857 -0.000027  0.000025   \n",
       "3  0.002289  0.017955 -0.000183  0.000169  0.004819 -0.000053  0.000049   \n",
       "4  0.002336  0.017212 -0.000349  0.000322  0.007260 -0.000094  0.000086   \n",
       "\n",
       "         p1  \n",
       "0  0.000210  \n",
       "1  0.000431  \n",
       "2  0.000760  \n",
       "3  0.001180  \n",
       "4  0.001638  "
      ]
     },
     "execution_count": 259,
     "metadata": {},
     "output_type": "execute_result"
    }
   ],
   "source": [
    "stroke_i.head()"
   ]
  },
  {
   "cell_type": "code",
   "execution_count": 260,
   "id": "afab56a4-7fbc-43d8-8946-8a65b292a965",
   "metadata": {},
   "outputs": [],
   "source": [
    "stroke_i_feat = stroke_i.join(feat_df.set_index('key'), on='key')"
   ]
  },
  {
   "cell_type": "code",
   "execution_count": 261,
   "id": "745ce325-91d4-4582-b211-199d25b5e548",
   "metadata": {},
   "outputs": [
    {
     "data": {
      "text/html": [
       "<div>\n",
       "<style scoped>\n",
       "    .dataframe tbody tr th:only-of-type {\n",
       "        vertical-align: middle;\n",
       "    }\n",
       "\n",
       "    .dataframe tbody tr th {\n",
       "        vertical-align: top;\n",
       "    }\n",
       "\n",
       "    .dataframe thead th {\n",
       "        text-align: right;\n",
       "    }\n",
       "</style>\n",
       "<table border=\"1\" class=\"dataframe\">\n",
       "  <thead>\n",
       "    <tr style=\"text-align: right;\">\n",
       "      <th></th>\n",
       "      <th>key</th>\n",
       "      <th>t0</th>\n",
       "      <th>ts</th>\n",
       "      <th>stroke_id</th>\n",
       "      <th>x</th>\n",
       "      <th>y</th>\n",
       "      <th>p</th>\n",
       "      <th>x_</th>\n",
       "      <th>y_</th>\n",
       "      <th>p_</th>\n",
       "      <th>...</th>\n",
       "      <th>y0</th>\n",
       "      <th>p0</th>\n",
       "      <th>x1</th>\n",
       "      <th>y1</th>\n",
       "      <th>p1</th>\n",
       "      <th>segment_id</th>\n",
       "      <th>s</th>\n",
       "      <th>da</th>\n",
       "      <th>min_dtw</th>\n",
       "      <th>min_dtw_id</th>\n",
       "    </tr>\n",
       "  </thead>\n",
       "  <tbody>\n",
       "    <tr>\n",
       "      <th>0</th>\n",
       "      <td>223155_50</td>\n",
       "      <td>223155</td>\n",
       "      <td>50</td>\n",
       "      <td>7</td>\n",
       "      <td>0.108465</td>\n",
       "      <td>0.922634</td>\n",
       "      <td>0.016437</td>\n",
       "      <td>-0.000808</td>\n",
       "      <td>0.000759</td>\n",
       "      <td>0.012175</td>\n",
       "      <td>...</td>\n",
       "      <td>0.000010</td>\n",
       "      <td>0.000634</td>\n",
       "      <td>-0.000005</td>\n",
       "      <td>0.000004</td>\n",
       "      <td>0.000210</td>\n",
       "      <td>1.0</td>\n",
       "      <td>0.000063</td>\n",
       "      <td>-0.001177</td>\n",
       "      <td>10000.0</td>\n",
       "      <td>0</td>\n",
       "    </tr>\n",
       "    <tr>\n",
       "      <th>1</th>\n",
       "      <td>223168_60</td>\n",
       "      <td>223168</td>\n",
       "      <td>60</td>\n",
       "      <td>7</td>\n",
       "      <td>0.107795</td>\n",
       "      <td>0.923251</td>\n",
       "      <td>0.019668</td>\n",
       "      <td>-0.001477</td>\n",
       "      <td>0.001376</td>\n",
       "      <td>0.015406</td>\n",
       "      <td>...</td>\n",
       "      <td>0.000032</td>\n",
       "      <td>0.001471</td>\n",
       "      <td>-0.000012</td>\n",
       "      <td>0.000011</td>\n",
       "      <td>0.000431</td>\n",
       "      <td>1.0</td>\n",
       "      <td>0.000164</td>\n",
       "      <td>-0.001177</td>\n",
       "      <td>10000.0</td>\n",
       "      <td>0</td>\n",
       "    </tr>\n",
       "    <tr>\n",
       "      <th>2</th>\n",
       "      <td>223181_70</td>\n",
       "      <td>223181</td>\n",
       "      <td>70</td>\n",
       "      <td>7</td>\n",
       "      <td>0.107020</td>\n",
       "      <td>0.923929</td>\n",
       "      <td>0.022609</td>\n",
       "      <td>-0.002252</td>\n",
       "      <td>0.002054</td>\n",
       "      <td>0.018348</td>\n",
       "      <td>...</td>\n",
       "      <td>0.000079</td>\n",
       "      <td>0.002857</td>\n",
       "      <td>-0.000027</td>\n",
       "      <td>0.000025</td>\n",
       "      <td>0.000760</td>\n",
       "      <td>1.0</td>\n",
       "      <td>0.000366</td>\n",
       "      <td>-0.001177</td>\n",
       "      <td>10000.0</td>\n",
       "      <td>0</td>\n",
       "    </tr>\n",
       "    <tr>\n",
       "      <th>3</th>\n",
       "      <td>223181_80</td>\n",
       "      <td>223181</td>\n",
       "      <td>80</td>\n",
       "      <td>7</td>\n",
       "      <td>0.106651</td>\n",
       "      <td>0.924164</td>\n",
       "      <td>0.022216</td>\n",
       "      <td>-0.002621</td>\n",
       "      <td>0.002289</td>\n",
       "      <td>0.017955</td>\n",
       "      <td>...</td>\n",
       "      <td>0.000169</td>\n",
       "      <td>0.004819</td>\n",
       "      <td>-0.000053</td>\n",
       "      <td>0.000049</td>\n",
       "      <td>0.001180</td>\n",
       "      <td>1.0</td>\n",
       "      <td>0.000719</td>\n",
       "      <td>0.001078</td>\n",
       "      <td>10000.0</td>\n",
       "      <td>0</td>\n",
       "    </tr>\n",
       "    <tr>\n",
       "      <th>4</th>\n",
       "      <td>223194_90</td>\n",
       "      <td>223194</td>\n",
       "      <td>90</td>\n",
       "      <td>7</td>\n",
       "      <td>0.105952</td>\n",
       "      <td>0.924211</td>\n",
       "      <td>0.021473</td>\n",
       "      <td>-0.003320</td>\n",
       "      <td>0.002336</td>\n",
       "      <td>0.017212</td>\n",
       "      <td>...</td>\n",
       "      <td>0.000322</td>\n",
       "      <td>0.007260</td>\n",
       "      <td>-0.000094</td>\n",
       "      <td>0.000086</td>\n",
       "      <td>0.001638</td>\n",
       "      <td>1.0</td>\n",
       "      <td>0.001273</td>\n",
       "      <td>0.005042</td>\n",
       "      <td>10000.0</td>\n",
       "      <td>0</td>\n",
       "    </tr>\n",
       "  </tbody>\n",
       "</table>\n",
       "<p>5 rows × 21 columns</p>\n",
       "</div>"
      ],
      "text/plain": [
       "         key      t0  ts  stroke_id         x         y         p        x_  \\\n",
       "0  223155_50  223155  50          7  0.108465  0.922634  0.016437 -0.000808   \n",
       "1  223168_60  223168  60          7  0.107795  0.923251  0.019668 -0.001477   \n",
       "2  223181_70  223181  70          7  0.107020  0.923929  0.022609 -0.002252   \n",
       "3  223181_80  223181  80          7  0.106651  0.924164  0.022216 -0.002621   \n",
       "4  223194_90  223194  90          7  0.105952  0.924211  0.021473 -0.003320   \n",
       "\n",
       "         y_        p_  ...        y0        p0        x1        y1        p1  \\\n",
       "0  0.000759  0.012175  ...  0.000010  0.000634 -0.000005  0.000004  0.000210   \n",
       "1  0.001376  0.015406  ...  0.000032  0.001471 -0.000012  0.000011  0.000431   \n",
       "2  0.002054  0.018348  ...  0.000079  0.002857 -0.000027  0.000025  0.000760   \n",
       "3  0.002289  0.017955  ...  0.000169  0.004819 -0.000053  0.000049  0.001180   \n",
       "4  0.002336  0.017212  ...  0.000322  0.007260 -0.000094  0.000086  0.001638   \n",
       "\n",
       "   segment_id         s        da  min_dtw  min_dtw_id  \n",
       "0         1.0  0.000063 -0.001177  10000.0           0  \n",
       "1         1.0  0.000164 -0.001177  10000.0           0  \n",
       "2         1.0  0.000366 -0.001177  10000.0           0  \n",
       "3         1.0  0.000719  0.001078  10000.0           0  \n",
       "4         1.0  0.001273  0.005042  10000.0           0  \n",
       "\n",
       "[5 rows x 21 columns]"
      ]
     },
     "execution_count": 261,
     "metadata": {},
     "output_type": "execute_result"
    }
   ],
   "source": [
    "stroke_i_feat.head()"
   ]
  },
  {
   "cell_type": "code",
   "execution_count": 262,
   "id": "8c8de4cc-586f-4261-9ff2-85cbae26bbd3",
   "metadata": {
    "tags": []
   },
   "outputs": [
    {
     "data": {
      "text/plain": [
       "<AxesSubplot:xlabel='x0'>"
      ]
     },
     "execution_count": 262,
     "metadata": {},
     "output_type": "execute_result"
    },
    {
     "data": {
      "image/png": "[encoded data removed]",
      "text/plain": [
       "<Figure size 864x432 with 2 Axes>"
      ]
     },
     "metadata": {
      "needs_background": "light"
     },
     "output_type": "display_data"
    }
   ],
   "source": [
    "fig, ax = plt.subplots(1, 2, figsize=(12, 6))\n",
    "stroke_i_feat.plot(x='x', y='y', ax=ax[0])\n",
    "stroke_i_feat.plot(x='x0', y='y0', ax=ax[1])"
   ]
  },
  {
   "cell_type": "code",
   "execution_count": 263,
   "id": "ccfd19ad-17cd-4305-a5e6-fd3fd3e52b6a",
   "metadata": {
    "collapsed": true,
    "jupyter": {
     "outputs_hidden": true
    },
    "tags": []
   },
   "outputs": [
    {
     "data": {
      "text/plain": [
       "<AxesSubplot:>"
      ]
     },
     "execution_count": 263,
     "metadata": {},
     "output_type": "execute_result"
    },
    {
     "data": {
      "image/png": "[encoded data removed]",
      "text/plain": [
       "<Figure size 864x432 with 2 Axes>"
      ]
     },
     "metadata": {
      "needs_background": "light"
     },
     "output_type": "display_data"
    }
   ],
   "source": [
    "fig, ax = plt.subplots(1, 2, figsize=(12, 6))\n",
    "stroke_i_feat.plot(x='x', y='y', ax=ax[0])\n",
    "stroke_i_feat.plot(y='x1', ax=ax[1])\n",
    "stroke_i_feat.plot(y='y1', ax=ax[1])"
   ]
  },
  {
   "cell_type": "code",
   "execution_count": 265,
   "id": "2e7c5bde-e5ef-4f7f-a651-6b5390576f5d",
   "metadata": {
    "tags": []
   },
   "outputs": [
    {
     "data": {
      "text/plain": [
       "<AxesSubplot:>"
      ]
     },
     "execution_count": 265,
     "metadata": {},
     "output_type": "execute_result"
    },
    {
     "data": {
      "image/png": "[encoded data removed]",
      "text/plain": [
       "<Figure size 432x288 with 1 Axes>"
      ]
     },
     "metadata": {
      "needs_background": "light"
     },
     "output_type": "display_data"
    }
   ],
   "source": [
    "stroke_i_feat['segment_id'].plot()"
   ]
  },
  {
   "cell_type": "code",
   "execution_count": 266,
   "id": "d04e2e54-44f3-4d00-b7c6-c7313bdb82dc",
   "metadata": {},
   "outputs": [],
   "source": [
    "sample = stroke_i[['ts', 'x0', 'y0']]\n",
    "sample.columns = ['t', 'x', 'y']\n",
    "feat = fe(sample)"
   ]
  },
  {
   "cell_type": "code",
   "execution_count": 267,
   "id": "fad8be26-10d3-4896-a50f-2a8081801b5b",
   "metadata": {},
   "outputs": [
    {
     "data": {
      "text/plain": [
       "<AxesSubplot:>"
      ]
     },
     "execution_count": 267,
     "metadata": {},
     "output_type": "execute_result"
    },
    {
     "data": {
      "image/png": "[encoded data removed]",
      "text/plain": [
       "<Figure size 432x288 with 1 Axes>"
      ]
     },
     "metadata": {
      "needs_background": "light"
     },
     "output_type": "display_data"
    }
   ],
   "source": [
    "np.sqrt((stroke_i[['x1', 'y1']]**2).sum(1)).plot()\n",
    "(stroke_i_feat['s']/10).plot()\n",
    "feat['s'].plot()"
   ]
  },
  {
   "cell_type": "code",
   "execution_count": 268,
   "id": "3adc2ea5-88e3-48dd-a51b-a9159690be25",
   "metadata": {},
   "outputs": [
    {
     "data": {
      "text/plain": [
       "<AxesSubplot:>"
      ]
     },
     "execution_count": 268,
     "metadata": {},
     "output_type": "execute_result"
    },
    {
     "data": {
      "image/png": "[encoded data removed]",
      "text/plain": [
       "<Figure size 432x288 with 1 Axes>"
      ]
     },
     "metadata": {
      "needs_background": "light"
     },
     "output_type": "display_data"
    }
   ],
   "source": [
    "feat['s'].hist()"
   ]
  },
  {
   "cell_type": "code",
   "execution_count": 280,
   "id": "55831603-9b61-48e2-a360-724e41b3bc71",
   "metadata": {},
   "outputs": [
    {
     "data": {
      "text/plain": [
       "<AxesSubplot:>"
      ]
     },
     "execution_count": 280,
     "metadata": {},
     "output_type": "execute_result"
    },
    {
     "data": {
      "image/png": "[encoded data removed]",
      "text/plain": [
       "<Figure size 432x288 with 2 Axes>"
      ]
     },
     "metadata": {
      "needs_background": "light"
     },
     "output_type": "display_data"
    }
   ],
   "source": [
    "fig, ax = plt.subplots()\n",
    "\n",
    "segments_py = segmenter(feat.values)\n",
    "l_acc = 0\n",
    "for segment in segments_py:\n",
    "    t = np.arange(l_acc, l_acc+segment.shape[0])\n",
    "    ax.plot(t, segment[:, 1])\n",
    "    l_acc += segment.shape[0]\n",
    "\n",
    "axt = ax.twinx()    \n",
    "feat['da'].plot(ax=axt)"
   ]
  },
  {
   "cell_type": "code",
   "execution_count": 270,
   "id": "2375454d-1413-498e-ad27-575fd36e5276",
   "metadata": {},
   "outputs": [
    {
     "data": {
      "text/plain": [
       "<AxesSubplot:xlabel='ts', ylabel='s'>"
      ]
     },
     "execution_count": 270,
     "metadata": {},
     "output_type": "execute_result"
    },
    {
     "data": {
      "image/png": "[encoded data removed]",
      "text/plain": [
       "<Figure size 432x288 with 1 Axes>"
      ]
     },
     "metadata": {
      "needs_background": "light"
     },
     "output_type": "display_data"
    }
   ],
   "source": [
    "sns.lineplot(data=stroke_i_feat, x='ts', y='s', hue='segment_id', palette='tab10', legend=False)"
   ]
  },
  {
   "cell_type": "code",
   "execution_count": 278,
   "id": "e2393c40-04d9-4be6-b671-1edeba9fb95a",
   "metadata": {},
   "outputs": [
    {
     "data": {
      "text/plain": [
       "<AxesSubplot:>"
      ]
     },
     "execution_count": 278,
     "metadata": {},
     "output_type": "execute_result"
    },
    {
     "data": {
      "image/png": "[encoded data removed]",
      "text/plain": [
       "<Figure size 432x288 with 1 Axes>"
      ]
     },
     "metadata": {
      "needs_background": "light"
     },
     "output_type": "display_data"
    }
   ],
   "source": [
    "(10*stroke_i_feat['da']).plot()\n"
   ]
  },
  {
   "cell_type": "code",
   "execution_count": null,
   "id": "959a8c3d-411e-4f9f-bea9-cc649f912426",
   "metadata": {},
   "outputs": [],
   "source": [
    "segment"
   ]
  }
 ],
 "metadata": {
  "kernelspec": {
   "display_name": "Python 3 (ipykernel)",
   "language": "python",
   "name": "python3"
  },
  "language_info": {
   "codemirror_mode": {
    "name": "ipython",
    "version": 3
   },
   "file_extension": ".py",
   "mimetype": "text/x-python",
   "name": "python",
   "nbconvert_exporter": "python",
   "pygments_lexer": "ipython3",
   "version": "3.7.13"
  }
 },
 "nbformat": 4,
 "nbformat_minor": 5
}
