{
 "cells": [
  {
   "cell_type": "markdown",
   "id": "525f5983-0342-4da6-8852-2c59ddab6f07",
   "metadata": {},
   "source": [
    "# Analysis of RTO data"
   ]
  },
  {
   "cell_type": "code",
   "execution_count": 1,
   "id": "04687a91-99db-45c6-8deb-c071c9694975",
   "metadata": {},
   "outputs": [],
   "source": [
    "from nbimports import *"
   ]
  },
  {
   "cell_type": "code",
   "execution_count": 2,
   "id": "77978084-f5cc-49fc-b7d7-208bc0c4e796",
   "metadata": {},
   "outputs": [],
   "source": [
    "import processing\n",
    "processing = reload(processing)"
   ]
  },
  {
   "cell_type": "code",
   "execution_count": 3,
   "id": "9175700c-e06b-4ecf-974d-0ceb58fa2370",
   "metadata": {},
   "outputs": [],
   "source": [
    "# filename = \"../data/user/data_04052022_143527.csv\"\n",
    "# filename = \"../data/user/data_04052022_170752.csv\"\n",
    "# filename = \"../data/user/data_05052022_182742.csv\"\n",
    "filename = \"../data/user/data_18052022_112228.csv\""
   ]
  },
  {
   "cell_type": "markdown",
   "id": "61519f79-5770-474b-a15a-f45357ee2ba4",
   "metadata": {},
   "source": [
    "## all strokes"
   ]
  },
  {
   "cell_type": "code",
   "execution_count": 4,
   "id": "4940226a-2a67-453d-bd86-7c196b33ba3a",
   "metadata": {},
   "outputs": [],
   "source": [
    "data = pd.read_csv(filename, index_col=0)\n",
    "data.columns = ['source', 'data']"
   ]
  },
  {
   "cell_type": "code",
   "execution_count": 5,
   "id": "0bc36206-1505-4bd4-a1db-f7bd13fe2da2",
   "metadata": {},
   "outputs": [],
   "source": [
    "def format_data(df):\n",
    "    new_rows = []\n",
    "    for i, row in df.iterrows():\n",
    "        row = eval(row['data'])\n",
    "        new_rows.append(row)\n",
    "    data = pd.DataFrame(data=new_rows)\n",
    "    return data"
   ]
  },
  {
   "cell_type": "code",
   "execution_count": 6,
   "id": "c183e5fb-1c2a-43e7-9544-25ce47c99f2d",
   "metadata": {},
   "outputs": [
    {
     "data": {
      "text/plain": [
       "Index(['sample_key', 'timestamp0', 'timestamp', 'stroke_id', 'segment_id', 'x',\n",
       "       'y', 'p', 'x_', 'y_', 'p_', 'x0', 'y0', 'p0', 'x1', 'y1', 's', 'angle',\n",
       "       'dangle'],\n",
       "      dtype='object')"
      ]
     },
     "execution_count": 6,
     "metadata": {},
     "output_type": "execute_result"
    }
   ],
   "source": [
    "format_data(select(data, source='/data')).columns"
   ]
  },
  {
   "cell_type": "code",
   "execution_count": 7,
   "id": "c7ef805a-6881-4c0a-8f4b-3204cc240594",
   "metadata": {
    "tags": []
   },
   "outputs": [],
   "source": [
    "data_df = utils.format_from_df(data)"
   ]
  },
  {
   "cell_type": "code",
   "execution_count": 8,
   "id": "314d1cac-b223-4e33-89b7-1192a3c6f287",
   "metadata": {},
   "outputs": [
    {
     "data": {
      "text/html": [
       "<div>\n",
       "<style scoped>\n",
       "    .dataframe tbody tr th:only-of-type {\n",
       "        vertical-align: middle;\n",
       "    }\n",
       "\n",
       "    .dataframe tbody tr th {\n",
       "        vertical-align: top;\n",
       "    }\n",
       "\n",
       "    .dataframe thead th {\n",
       "        text-align: right;\n",
       "    }\n",
       "</style>\n",
       "<table border=\"1\" class=\"dataframe\">\n",
       "  <thead>\n",
       "    <tr style=\"text-align: right;\">\n",
       "      <th></th>\n",
       "      <th>sample_key</th>\n",
       "      <th>timestamp0</th>\n",
       "      <th>timestamp</th>\n",
       "      <th>stroke_id</th>\n",
       "      <th>segment_id</th>\n",
       "      <th>x</th>\n",
       "      <th>y</th>\n",
       "      <th>p</th>\n",
       "      <th>x_</th>\n",
       "      <th>y_</th>\n",
       "      <th>p_</th>\n",
       "      <th>x0</th>\n",
       "      <th>y0</th>\n",
       "      <th>p0</th>\n",
       "      <th>x1</th>\n",
       "      <th>y1</th>\n",
       "      <th>s</th>\n",
       "      <th>angle</th>\n",
       "      <th>dangle</th>\n",
       "      <th>timestamp0_norm</th>\n",
       "    </tr>\n",
       "  </thead>\n",
       "  <tbody>\n",
       "    <tr>\n",
       "      <th>0</th>\n",
       "      <td>12540_0</td>\n",
       "      <td>12540</td>\n",
       "      <td>0</td>\n",
       "      <td>1</td>\n",
       "      <td>0</td>\n",
       "      <td>0.501302</td>\n",
       "      <td>0.503723</td>\n",
       "      <td>0.025795</td>\n",
       "      <td>0.000000</td>\n",
       "      <td>0.000000</td>\n",
       "      <td>0.000000</td>\n",
       "      <td>0.000000e+00</td>\n",
       "      <td>0.000000e+00</td>\n",
       "      <td>0.000000e+00</td>\n",
       "      <td>0.0</td>\n",
       "      <td>0.0</td>\n",
       "      <td>0.0</td>\n",
       "      <td>0.0</td>\n",
       "      <td>0.0</td>\n",
       "      <td>0.000000</td>\n",
       "    </tr>\n",
       "    <tr>\n",
       "      <th>1</th>\n",
       "      <td>12557_10</td>\n",
       "      <td>12557</td>\n",
       "      <td>10</td>\n",
       "      <td>1</td>\n",
       "      <td>0</td>\n",
       "      <td>0.501302</td>\n",
       "      <td>0.503723</td>\n",
       "      <td>0.025027</td>\n",
       "      <td>0.000000</td>\n",
       "      <td>0.000000</td>\n",
       "      <td>-0.000769</td>\n",
       "      <td>0.000000e+00</td>\n",
       "      <td>0.000000e+00</td>\n",
       "      <td>-2.617769e-07</td>\n",
       "      <td>0.0</td>\n",
       "      <td>0.0</td>\n",
       "      <td>0.0</td>\n",
       "      <td>0.0</td>\n",
       "      <td>0.0</td>\n",
       "      <td>0.001506</td>\n",
       "    </tr>\n",
       "    <tr>\n",
       "      <th>2</th>\n",
       "      <td>12570_20</td>\n",
       "      <td>12570</td>\n",
       "      <td>20</td>\n",
       "      <td>1</td>\n",
       "      <td>0</td>\n",
       "      <td>0.501397</td>\n",
       "      <td>0.504216</td>\n",
       "      <td>0.024633</td>\n",
       "      <td>0.000095</td>\n",
       "      <td>0.000493</td>\n",
       "      <td>-0.001163</td>\n",
       "      <td>3.231316e-08</td>\n",
       "      <td>1.678770e-07</td>\n",
       "      <td>-2.903580e-06</td>\n",
       "      <td>0.0</td>\n",
       "      <td>0.0</td>\n",
       "      <td>0.0</td>\n",
       "      <td>0.0</td>\n",
       "      <td>0.0</td>\n",
       "      <td>0.002658</td>\n",
       "    </tr>\n",
       "    <tr>\n",
       "      <th>3</th>\n",
       "      <td>12570_30</td>\n",
       "      <td>12570</td>\n",
       "      <td>30</td>\n",
       "      <td>1</td>\n",
       "      <td>0</td>\n",
       "      <td>0.501713</td>\n",
       "      <td>0.505859</td>\n",
       "      <td>0.025114</td>\n",
       "      <td>0.000411</td>\n",
       "      <td>0.002136</td>\n",
       "      <td>-0.000682</td>\n",
       "      <td>4.495655e-07</td>\n",
       "      <td>2.335633e-06</td>\n",
       "      <td>-1.544613e-05</td>\n",
       "      <td>0.0</td>\n",
       "      <td>0.0</td>\n",
       "      <td>0.0</td>\n",
       "      <td>0.0</td>\n",
       "      <td>0.0</td>\n",
       "      <td>0.002658</td>\n",
       "    </tr>\n",
       "    <tr>\n",
       "      <th>4</th>\n",
       "      <td>12586_40</td>\n",
       "      <td>12586</td>\n",
       "      <td>40</td>\n",
       "      <td>1</td>\n",
       "      <td>0</td>\n",
       "      <td>0.502227</td>\n",
       "      <td>0.507633</td>\n",
       "      <td>0.024687</td>\n",
       "      <td>0.000925</td>\n",
       "      <td>0.003910</td>\n",
       "      <td>-0.001108</td>\n",
       "      <td>3.066234e-06</td>\n",
       "      <td>1.562477e-05</td>\n",
       "      <td>-5.310239e-05</td>\n",
       "      <td>0.0</td>\n",
       "      <td>0.0</td>\n",
       "      <td>0.0</td>\n",
       "      <td>0.0</td>\n",
       "      <td>0.0</td>\n",
       "      <td>0.004075</td>\n",
       "    </tr>\n",
       "  </tbody>\n",
       "</table>\n",
       "</div>"
      ],
      "text/plain": [
       "  sample_key  timestamp0  timestamp  stroke_id  segment_id         x  \\\n",
       "0    12540_0       12540          0          1           0  0.501302   \n",
       "1   12557_10       12557         10          1           0  0.501302   \n",
       "2   12570_20       12570         20          1           0  0.501397   \n",
       "3   12570_30       12570         30          1           0  0.501713   \n",
       "4   12586_40       12586         40          1           0  0.502227   \n",
       "\n",
       "          y         p        x_        y_        p_            x0  \\\n",
       "0  0.503723  0.025795  0.000000  0.000000  0.000000  0.000000e+00   \n",
       "1  0.503723  0.025027  0.000000  0.000000 -0.000769  0.000000e+00   \n",
       "2  0.504216  0.024633  0.000095  0.000493 -0.001163  3.231316e-08   \n",
       "3  0.505859  0.025114  0.000411  0.002136 -0.000682  4.495655e-07   \n",
       "4  0.507633  0.024687  0.000925  0.003910 -0.001108  3.066234e-06   \n",
       "\n",
       "             y0            p0   x1   y1    s  angle  dangle  timestamp0_norm  \n",
       "0  0.000000e+00  0.000000e+00  0.0  0.0  0.0    0.0     0.0         0.000000  \n",
       "1  0.000000e+00 -2.617769e-07  0.0  0.0  0.0    0.0     0.0         0.001506  \n",
       "2  1.678770e-07 -2.903580e-06  0.0  0.0  0.0    0.0     0.0         0.002658  \n",
       "3  2.335633e-06 -1.544613e-05  0.0  0.0  0.0    0.0     0.0         0.002658  \n",
       "4  1.562477e-05 -5.310239e-05  0.0  0.0  0.0    0.0     0.0         0.004075  "
      ]
     },
     "execution_count": 8,
     "metadata": {},
     "output_type": "execute_result"
    }
   ],
   "source": [
    "data_df.head()"
   ]
  },
  {
   "cell_type": "code",
   "execution_count": 9,
   "id": "20da0cfc-312d-43b5-b876-45ba9b1930fd",
   "metadata": {},
   "outputs": [
    {
     "data": {
      "text/plain": [
       "<AxesSubplot:>"
      ]
     },
     "execution_count": 9,
     "metadata": {},
     "output_type": "execute_result"
    },
    {
     "data": {
      "image/png": "[encoded data removed]",
      "text/plain": [
       "<Figure size 432x288 with 1 Axes>"
      ]
     },
     "metadata": {
      "needs_background": "light"
     },
     "output_type": "display_data"
    }
   ],
   "source": [
    "# data['timestamp'].plot()\n",
    "data_df['timestamp0'].plot()"
   ]
  },
  {
   "cell_type": "code",
   "execution_count": 10,
   "id": "05b8ec2e-aca8-4bc5-916f-964d11bbba63",
   "metadata": {},
   "outputs": [],
   "source": [
    "import seaborn as sns"
   ]
  },
  {
   "cell_type": "code",
   "execution_count": 11,
   "id": "e103f698-dcef-42aa-9259-344dc9d928cd",
   "metadata": {},
   "outputs": [
    {
     "data": {
      "text/plain": [
       "<AxesSubplot:xlabel='x', ylabel='y'>"
      ]
     },
     "execution_count": 11,
     "metadata": {},
     "output_type": "execute_result"
    },
    {
     "data": {
      "image/png": "[encoded data removed]",
      "text/plain": [
       "<Figure size 432x288 with 1 Axes>"
      ]
     },
     "metadata": {
      "needs_background": "light"
     },
     "output_type": "display_data"
    }
   ],
   "source": [
    "sns.scatterplot(data=data_df, x='x', y='y', size='p', hue='stroke_id', palette='tab10', legend=False)"
   ]
  },
  {
   "cell_type": "code",
   "execution_count": 12,
   "id": "1cdd324d-1ab2-4422-87a4-dbc0824f6575",
   "metadata": {},
   "outputs": [
    {
     "data": {
      "text/plain": [
       "(1159, 2)"
      ]
     },
     "execution_count": 12,
     "metadata": {},
     "output_type": "execute_result"
    }
   ],
   "source": [
    "data.shape"
   ]
  },
  {
   "cell_type": "markdown",
   "id": "d3f2d8e2-88b8-4d83-af36-229d553ea61e",
   "metadata": {},
   "source": [
    "## features"
   ]
  },
  {
   "cell_type": "code",
   "execution_count": 13,
   "id": "48c342f7-4dbf-4ab5-8c34-3bf14a6bce35",
   "metadata": {},
   "outputs": [
    {
     "data": {
      "text/plain": [
       "<AxesSubplot:>"
      ]
     },
     "execution_count": 13,
     "metadata": {},
     "output_type": "execute_result"
    },
    {
     "data": {
      "image/png": "[encoded data removed]",
      "text/plain": [
       "<Figure size 864x432 with 2 Axes>"
      ]
     },
     "metadata": {
      "needs_background": "light"
     },
     "output_type": "display_data"
    }
   ],
   "source": [
    "fig, ax = plt.subplots(1, 2, figsize=(12,6))\n",
    "data_df['segment_id'].plot(ax=ax[0])\n",
    "data_df.groupby('segment_id').size().hist(ax=ax[1])"
   ]
  },
  {
   "cell_type": "markdown",
   "id": "954b5103-c243-4e33-9e9b-01364f03a40b",
   "metadata": {},
   "source": [
    "The scale of the different features should be comparable for the DTW to take them into account equally. Alternatively, we could compute a Mahalanobis distance from a small batch of data."
   ]
  },
  {
   "cell_type": "code",
   "execution_count": 14,
   "id": "ca0dc8eb-72f6-4a3f-80a5-4957df6b2f10",
   "metadata": {},
   "outputs": [
    {
     "data": {
      "text/plain": [
       "<AxesSubplot:>"
      ]
     },
     "execution_count": 14,
     "metadata": {},
     "output_type": "execute_result"
    },
    {
     "data": {
      "image/png": "[encoded data removed]",
      "text/plain": [
       "<Figure size 864x432 with 2 Axes>"
      ]
     },
     "metadata": {
      "needs_background": "light"
     },
     "output_type": "display_data"
    }
   ],
   "source": [
    "fig, ax = plt.subplots(1, 2, figsize=(12,6))\n",
    "data_df['s'].hist(ax=ax[0])\n",
    "data_df['angle'].hist(ax=ax[1])"
   ]
  },
  {
   "cell_type": "markdown",
   "id": "f5667694-0554-4a52-bf1a-5eb8c7498009",
   "metadata": {},
   "source": [
    "## one stroke"
   ]
  },
  {
   "cell_type": "code",
   "execution_count": 15,
   "id": "6c755e04-b20f-4511-bf44-94311eb1b928",
   "metadata": {},
   "outputs": [
    {
     "data": {
      "text/plain": [
       "{1}"
      ]
     },
     "execution_count": 15,
     "metadata": {},
     "output_type": "execute_result"
    }
   ],
   "source": [
    "set(data_df['stroke_id'])"
   ]
  },
  {
   "cell_type": "code",
   "execution_count": 18,
   "id": "b0a11f9e-0919-44a8-b0fd-a9403405cbc9",
   "metadata": {},
   "outputs": [],
   "source": [
    "stroke_i = select(data_df, stroke_id=1)"
   ]
  },
  {
   "cell_type": "code",
   "execution_count": 19,
   "id": "4a842416-9c7c-433d-a1e2-7b18fba81178",
   "metadata": {},
   "outputs": [
    {
     "data": {
      "text/html": [
       "<div>\n",
       "<style scoped>\n",
       "    .dataframe tbody tr th:only-of-type {\n",
       "        vertical-align: middle;\n",
       "    }\n",
       "\n",
       "    .dataframe tbody tr th {\n",
       "        vertical-align: top;\n",
       "    }\n",
       "\n",
       "    .dataframe thead th {\n",
       "        text-align: right;\n",
       "    }\n",
       "</style>\n",
       "<table border=\"1\" class=\"dataframe\">\n",
       "  <thead>\n",
       "    <tr style=\"text-align: right;\">\n",
       "      <th></th>\n",
       "      <th>sample_key</th>\n",
       "      <th>timestamp0</th>\n",
       "      <th>timestamp</th>\n",
       "      <th>stroke_id</th>\n",
       "      <th>segment_id</th>\n",
       "      <th>x</th>\n",
       "      <th>y</th>\n",
       "      <th>p</th>\n",
       "      <th>x_</th>\n",
       "      <th>y_</th>\n",
       "      <th>p_</th>\n",
       "      <th>x0</th>\n",
       "      <th>y0</th>\n",
       "      <th>p0</th>\n",
       "      <th>x1</th>\n",
       "      <th>y1</th>\n",
       "      <th>s</th>\n",
       "      <th>angle</th>\n",
       "      <th>dangle</th>\n",
       "      <th>timestamp0_norm</th>\n",
       "    </tr>\n",
       "  </thead>\n",
       "  <tbody>\n",
       "    <tr>\n",
       "      <th>0</th>\n",
       "      <td>12540_0</td>\n",
       "      <td>12540</td>\n",
       "      <td>0</td>\n",
       "      <td>1</td>\n",
       "      <td>0</td>\n",
       "      <td>0.501302</td>\n",
       "      <td>0.503723</td>\n",
       "      <td>0.025795</td>\n",
       "      <td>0.000000</td>\n",
       "      <td>0.000000</td>\n",
       "      <td>0.000000</td>\n",
       "      <td>0.000000e+00</td>\n",
       "      <td>0.000000e+00</td>\n",
       "      <td>0.000000e+00</td>\n",
       "      <td>0.0</td>\n",
       "      <td>0.0</td>\n",
       "      <td>0.0</td>\n",
       "      <td>0.0</td>\n",
       "      <td>0.0</td>\n",
       "      <td>0.000000</td>\n",
       "    </tr>\n",
       "    <tr>\n",
       "      <th>1</th>\n",
       "      <td>12557_10</td>\n",
       "      <td>12557</td>\n",
       "      <td>10</td>\n",
       "      <td>1</td>\n",
       "      <td>0</td>\n",
       "      <td>0.501302</td>\n",
       "      <td>0.503723</td>\n",
       "      <td>0.025027</td>\n",
       "      <td>0.000000</td>\n",
       "      <td>0.000000</td>\n",
       "      <td>-0.000769</td>\n",
       "      <td>0.000000e+00</td>\n",
       "      <td>0.000000e+00</td>\n",
       "      <td>-2.617769e-07</td>\n",
       "      <td>0.0</td>\n",
       "      <td>0.0</td>\n",
       "      <td>0.0</td>\n",
       "      <td>0.0</td>\n",
       "      <td>0.0</td>\n",
       "      <td>0.001506</td>\n",
       "    </tr>\n",
       "    <tr>\n",
       "      <th>2</th>\n",
       "      <td>12570_20</td>\n",
       "      <td>12570</td>\n",
       "      <td>20</td>\n",
       "      <td>1</td>\n",
       "      <td>0</td>\n",
       "      <td>0.501397</td>\n",
       "      <td>0.504216</td>\n",
       "      <td>0.024633</td>\n",
       "      <td>0.000095</td>\n",
       "      <td>0.000493</td>\n",
       "      <td>-0.001163</td>\n",
       "      <td>3.231316e-08</td>\n",
       "      <td>1.678770e-07</td>\n",
       "      <td>-2.903580e-06</td>\n",
       "      <td>0.0</td>\n",
       "      <td>0.0</td>\n",
       "      <td>0.0</td>\n",
       "      <td>0.0</td>\n",
       "      <td>0.0</td>\n",
       "      <td>0.002658</td>\n",
       "    </tr>\n",
       "    <tr>\n",
       "      <th>3</th>\n",
       "      <td>12570_30</td>\n",
       "      <td>12570</td>\n",
       "      <td>30</td>\n",
       "      <td>1</td>\n",
       "      <td>0</td>\n",
       "      <td>0.501713</td>\n",
       "      <td>0.505859</td>\n",
       "      <td>0.025114</td>\n",
       "      <td>0.000411</td>\n",
       "      <td>0.002136</td>\n",
       "      <td>-0.000682</td>\n",
       "      <td>4.495655e-07</td>\n",
       "      <td>2.335633e-06</td>\n",
       "      <td>-1.544613e-05</td>\n",
       "      <td>0.0</td>\n",
       "      <td>0.0</td>\n",
       "      <td>0.0</td>\n",
       "      <td>0.0</td>\n",
       "      <td>0.0</td>\n",
       "      <td>0.002658</td>\n",
       "    </tr>\n",
       "    <tr>\n",
       "      <th>4</th>\n",
       "      <td>12586_40</td>\n",
       "      <td>12586</td>\n",
       "      <td>40</td>\n",
       "      <td>1</td>\n",
       "      <td>0</td>\n",
       "      <td>0.502227</td>\n",
       "      <td>0.507633</td>\n",
       "      <td>0.024687</td>\n",
       "      <td>0.000925</td>\n",
       "      <td>0.003910</td>\n",
       "      <td>-0.001108</td>\n",
       "      <td>3.066234e-06</td>\n",
       "      <td>1.562477e-05</td>\n",
       "      <td>-5.310239e-05</td>\n",
       "      <td>0.0</td>\n",
       "      <td>0.0</td>\n",
       "      <td>0.0</td>\n",
       "      <td>0.0</td>\n",
       "      <td>0.0</td>\n",
       "      <td>0.004075</td>\n",
       "    </tr>\n",
       "  </tbody>\n",
       "</table>\n",
       "</div>"
      ],
      "text/plain": [
       "  sample_key  timestamp0  timestamp  stroke_id  segment_id         x  \\\n",
       "0    12540_0       12540          0          1           0  0.501302   \n",
       "1   12557_10       12557         10          1           0  0.501302   \n",
       "2   12570_20       12570         20          1           0  0.501397   \n",
       "3   12570_30       12570         30          1           0  0.501713   \n",
       "4   12586_40       12586         40          1           0  0.502227   \n",
       "\n",
       "          y         p        x_        y_        p_            x0  \\\n",
       "0  0.503723  0.025795  0.000000  0.000000  0.000000  0.000000e+00   \n",
       "1  0.503723  0.025027  0.000000  0.000000 -0.000769  0.000000e+00   \n",
       "2  0.504216  0.024633  0.000095  0.000493 -0.001163  3.231316e-08   \n",
       "3  0.505859  0.025114  0.000411  0.002136 -0.000682  4.495655e-07   \n",
       "4  0.507633  0.024687  0.000925  0.003910 -0.001108  3.066234e-06   \n",
       "\n",
       "             y0            p0   x1   y1    s  angle  dangle  timestamp0_norm  \n",
       "0  0.000000e+00  0.000000e+00  0.0  0.0  0.0    0.0     0.0         0.000000  \n",
       "1  0.000000e+00 -2.617769e-07  0.0  0.0  0.0    0.0     0.0         0.001506  \n",
       "2  1.678770e-07 -2.903580e-06  0.0  0.0  0.0    0.0     0.0         0.002658  \n",
       "3  2.335633e-06 -1.544613e-05  0.0  0.0  0.0    0.0     0.0         0.002658  \n",
       "4  1.562477e-05 -5.310239e-05  0.0  0.0  0.0    0.0     0.0         0.004075  "
      ]
     },
     "execution_count": 19,
     "metadata": {},
     "output_type": "execute_result"
    }
   ],
   "source": [
    "stroke_i.head()"
   ]
  },
  {
   "cell_type": "code",
   "execution_count": 21,
   "id": "6adbff73-d827-4eb9-a0f8-d480e2e09979",
   "metadata": {},
   "outputs": [
    {
     "data": {
      "text/plain": [
       "<AxesSubplot:xlabel='timestamp', ylabel='s'>"
      ]
     },
     "execution_count": 21,
     "metadata": {},
     "output_type": "execute_result"
    },
    {
     "data": {
      "image/png": "[encoded data removed]",
      "text/plain": [
       "<Figure size 432x288 with 1 Axes>"
      ]
     },
     "metadata": {
      "needs_background": "light"
     },
     "output_type": "display_data"
    }
   ],
   "source": [
    "sns.scatterplot(data=stroke_i, x='timestamp', y='s', hue='segment_id', palette='tab10', legend=False)"
   ]
  },
  {
   "cell_type": "code",
   "execution_count": 22,
   "id": "d051fef1-3090-48c2-a86a-b1da1919bcba",
   "metadata": {},
   "outputs": [
    {
     "data": {
      "text/plain": [
       "<AxesSubplot:xlabel='timestamp', ylabel='angle'>"
      ]
     },
     "execution_count": 22,
     "metadata": {},
     "output_type": "execute_result"
    },
    {
     "data": {
      "image/png": "[encoded data removed]",
      "text/plain": [
       "<Figure size 432x288 with 1 Axes>"
      ]
     },
     "metadata": {
      "needs_background": "light"
     },
     "output_type": "display_data"
    }
   ],
   "source": [
    "sns.scatterplot(data=stroke_i, x='timestamp', y='angle', hue='segment_id', palette='tab10', legend=False)"
   ]
  },
  {
   "cell_type": "code",
   "execution_count": 24,
   "id": "d8bb0448-7891-474b-993c-949f1cf95db6",
   "metadata": {},
   "outputs": [
    {
     "data": {
      "text/plain": [
       "<AxesSubplot:xlabel='timestamp', ylabel='dangle'>"
      ]
     },
     "execution_count": 24,
     "metadata": {},
     "output_type": "execute_result"
    },
    {
     "data": {
      "image/png": "[encoded data removed]",
      "text/plain": [
       "<Figure size 432x288 with 1 Axes>"
      ]
     },
     "metadata": {
      "needs_background": "light"
     },
     "output_type": "display_data"
    }
   ],
   "source": [
    "sns.scatterplot(data=stroke_i, x='timestamp', y='dangle', hue='segment_id', palette='tab10', legend=False)"
   ]
  },
  {
   "cell_type": "code",
   "execution_count": 133,
   "id": "dc4d1b14-8415-4acb-9858-afe000af5ac0",
   "metadata": {},
   "outputs": [
    {
     "data": {
      "text/plain": [
       "Index(['key', 't0', 't0_norm', 'ts', 'stroke_id', 'segment_id', 'x', 'y', 'p',\n",
       "       'x_', 'y_', 'p_', 'x0', 'y0', 'p0', 'x1', 'y1', 's', 'angle'],\n",
       "      dtype='object')"
      ]
     },
     "execution_count": 133,
     "metadata": {},
     "output_type": "execute_result"
    }
   ],
   "source": [
    "stroke_i.columns"
   ]
  },
  {
   "cell_type": "code",
   "execution_count": 25,
   "id": "8f605385-9dc0-4d97-af2c-d3573602c6a7",
   "metadata": {},
   "outputs": [
    {
     "data": {
      "text/plain": [
       "<AxesSubplot:>"
      ]
     },
     "execution_count": 25,
     "metadata": {},
     "output_type": "execute_result"
    },
    {
     "data": {
      "image/png": "[encoded data removed]",
      "text/plain": [
       "<Figure size 432x288 with 1 Axes>"
      ]
     },
     "metadata": {
      "needs_background": "light"
     },
     "output_type": "display_data"
    }
   ],
   "source": [
    "stroke_i['x'].plot()\n",
    "(10*stroke_i['x1']).plot()"
   ]
  },
  {
   "cell_type": "code",
   "execution_count": 26,
   "id": "0f85cc96-8329-4987-85a2-1f9b945291a0",
   "metadata": {},
   "outputs": [
    {
     "data": {
      "text/plain": [
       "<AxesSubplot:>"
      ]
     },
     "execution_count": 26,
     "metadata": {},
     "output_type": "execute_result"
    },
    {
     "data": {
      "image/png": "[encoded data removed]",
      "text/plain": [
       "<Figure size 432x288 with 1 Axes>"
      ]
     },
     "metadata": {
      "needs_background": "light"
     },
     "output_type": "display_data"
    }
   ],
   "source": [
    "stroke_i['angle'].plot()"
   ]
  },
  {
   "cell_type": "code",
   "execution_count": 28,
   "id": "477f634d-5332-4a9c-aa5a-f19f3227b3e0",
   "metadata": {},
   "outputs": [
    {
     "data": {
      "text/plain": [
       "<AxesSubplot:>"
      ]
     },
     "execution_count": 28,
     "metadata": {},
     "output_type": "execute_result"
    },
    {
     "data": {
      "image/png": "[encoded data removed]",
      "text/plain": [
       "<Figure size 432x288 with 1 Axes>"
      ]
     },
     "metadata": {
      "needs_background": "light"
     },
     "output_type": "display_data"
    }
   ],
   "source": [
    "stroke_i['dangle'].plot()"
   ]
  },
  {
   "cell_type": "code",
   "execution_count": null,
   "id": "efad99c6-fd5b-401b-9454-d02771badeb2",
   "metadata": {},
   "outputs": [],
   "source": []
  },
  {
   "cell_type": "code",
   "execution_count": null,
   "id": "2110b812-a646-47fa-a8c6-ac64d0cb34f7",
   "metadata": {},
   "outputs": [],
   "source": []
  },
  {
   "cell_type": "code",
   "execution_count": null,
   "id": "9db1374b-c8ea-49cf-8e9a-88c9f83de9c6",
   "metadata": {},
   "outputs": [],
   "source": []
  },
  {
   "cell_type": "code",
   "execution_count": 90,
   "id": "7524462a-8005-4269-8c99-831535a029cf",
   "metadata": {},
   "outputs": [
    {
     "data": {
      "text/plain": [
       "[0, 1, 2]"
      ]
     },
     "execution_count": 90,
     "metadata": {},
     "output_type": "execute_result"
    }
   ],
   "source": [
    "list(set(stroke_i['segment_id']))[:3]"
   ]
  },
  {
   "cell_type": "code",
   "execution_count": 91,
   "id": "587a60b6-9413-404c-b520-9dd6ca5711c4",
   "metadata": {},
   "outputs": [],
   "source": [
    "mask = stroke_i['ts'] < 100"
   ]
  },
  {
   "cell_type": "code",
   "execution_count": 92,
   "id": "3dee917f-b6e5-4dd2-9921-3f3b486090e0",
   "metadata": {},
   "outputs": [],
   "source": [
    "stroke_i.loc[mask, ['p']] = -1"
   ]
  },
  {
   "cell_type": "code",
   "execution_count": 93,
   "id": "596fc132-f6b3-40fb-bb0b-824d520b02e9",
   "metadata": {},
   "outputs": [
    {
     "data": {
      "text/html": [
       "<div>\n",
       "<style scoped>\n",
       "    .dataframe tbody tr th:only-of-type {\n",
       "        vertical-align: middle;\n",
       "    }\n",
       "\n",
       "    .dataframe tbody tr th {\n",
       "        vertical-align: top;\n",
       "    }\n",
       "\n",
       "    .dataframe thead th {\n",
       "        text-align: right;\n",
       "    }\n",
       "</style>\n",
       "<table border=\"1\" class=\"dataframe\">\n",
       "  <thead>\n",
       "    <tr style=\"text-align: right;\">\n",
       "      <th></th>\n",
       "      <th>key</th>\n",
       "      <th>t0</th>\n",
       "      <th>t0_norm</th>\n",
       "      <th>ts</th>\n",
       "      <th>stroke_id</th>\n",
       "      <th>segment_id</th>\n",
       "      <th>x</th>\n",
       "      <th>y</th>\n",
       "      <th>p</th>\n",
       "      <th>x_</th>\n",
       "      <th>y_</th>\n",
       "      <th>p_</th>\n",
       "      <th>x0</th>\n",
       "      <th>y0</th>\n",
       "      <th>p0</th>\n",
       "      <th>x1</th>\n",
       "      <th>y1</th>\n",
       "      <th>s</th>\n",
       "      <th>angle</th>\n",
       "    </tr>\n",
       "  </thead>\n",
       "  <tbody>\n",
       "    <tr>\n",
       "      <th>0</th>\n",
       "      <td>690029_0</td>\n",
       "      <td>690029</td>\n",
       "      <td>0.000000</td>\n",
       "      <td>0</td>\n",
       "      <td>22</td>\n",
       "      <td>0</td>\n",
       "      <td>0.396347</td>\n",
       "      <td>0.478729</td>\n",
       "      <td>-1.0</td>\n",
       "      <td>0.000000</td>\n",
       "      <td>0.000000</td>\n",
       "      <td>0.000000</td>\n",
       "      <td>0.000000e+00</td>\n",
       "      <td>0.000000e+00</td>\n",
       "      <td>0.000000e+00</td>\n",
       "      <td>0.0</td>\n",
       "      <td>0.0</td>\n",
       "      <td>0.0</td>\n",
       "      <td>0.0</td>\n",
       "    </tr>\n",
       "    <tr>\n",
       "      <th>1</th>\n",
       "      <td>690046_10</td>\n",
       "      <td>690046</td>\n",
       "      <td>0.000891</td>\n",
       "      <td>10</td>\n",
       "      <td>22</td>\n",
       "      <td>0</td>\n",
       "      <td>0.396347</td>\n",
       "      <td>0.478729</td>\n",
       "      <td>-1.0</td>\n",
       "      <td>0.000000</td>\n",
       "      <td>0.000000</td>\n",
       "      <td>0.000836</td>\n",
       "      <td>0.000000e+00</td>\n",
       "      <td>0.000000e+00</td>\n",
       "      <td>2.845402e-07</td>\n",
       "      <td>0.0</td>\n",
       "      <td>0.0</td>\n",
       "      <td>0.0</td>\n",
       "      <td>0.0</td>\n",
       "    </tr>\n",
       "    <tr>\n",
       "      <th>2</th>\n",
       "      <td>690101_20</td>\n",
       "      <td>690101</td>\n",
       "      <td>0.003772</td>\n",
       "      <td>20</td>\n",
       "      <td>22</td>\n",
       "      <td>0</td>\n",
       "      <td>0.396353</td>\n",
       "      <td>0.478789</td>\n",
       "      <td>-1.0</td>\n",
       "      <td>0.000006</td>\n",
       "      <td>0.000060</td>\n",
       "      <td>0.001566</td>\n",
       "      <td>1.909414e-09</td>\n",
       "      <td>2.040686e-08</td>\n",
       "      <td>3.259055e-06</td>\n",
       "      <td>0.0</td>\n",
       "      <td>0.0</td>\n",
       "      <td>0.0</td>\n",
       "      <td>0.0</td>\n",
       "    </tr>\n",
       "    <tr>\n",
       "      <th>3</th>\n",
       "      <td>690101_30</td>\n",
       "      <td>690101</td>\n",
       "      <td>0.003772</td>\n",
       "      <td>30</td>\n",
       "      <td>22</td>\n",
       "      <td>0</td>\n",
       "      <td>0.396372</td>\n",
       "      <td>0.478989</td>\n",
       "      <td>-1.0</td>\n",
       "      <td>0.000024</td>\n",
       "      <td>0.000260</td>\n",
       "      <td>0.002052</td>\n",
       "      <td>2.656524e-08</td>\n",
       "      <td>2.839160e-07</td>\n",
       "      <td>1.822215e-05</td>\n",
       "      <td>0.0</td>\n",
       "      <td>0.0</td>\n",
       "      <td>0.0</td>\n",
       "      <td>0.0</td>\n",
       "    </tr>\n",
       "    <tr>\n",
       "      <th>4</th>\n",
       "      <td>690101_40</td>\n",
       "      <td>690101</td>\n",
       "      <td>0.003772</td>\n",
       "      <td>40</td>\n",
       "      <td>22</td>\n",
       "      <td>0</td>\n",
       "      <td>0.396390</td>\n",
       "      <td>0.479189</td>\n",
       "      <td>-1.0</td>\n",
       "      <td>0.000043</td>\n",
       "      <td>0.000459</td>\n",
       "      <td>0.002537</td>\n",
       "      <td>1.772086e-07</td>\n",
       "      <td>1.893917e-06</td>\n",
       "      <td>6.694258e-05</td>\n",
       "      <td>0.0</td>\n",
       "      <td>0.0</td>\n",
       "      <td>0.0</td>\n",
       "      <td>0.0</td>\n",
       "    </tr>\n",
       "  </tbody>\n",
       "</table>\n",
       "</div>"
      ],
      "text/plain": [
       "         key      t0   t0_norm  ts  stroke_id  segment_id         x         y  \\\n",
       "0   690029_0  690029  0.000000   0         22           0  0.396347  0.478729   \n",
       "1  690046_10  690046  0.000891  10         22           0  0.396347  0.478729   \n",
       "2  690101_20  690101  0.003772  20         22           0  0.396353  0.478789   \n",
       "3  690101_30  690101  0.003772  30         22           0  0.396372  0.478989   \n",
       "4  690101_40  690101  0.003772  40         22           0  0.396390  0.479189   \n",
       "\n",
       "     p        x_        y_        p_            x0            y0  \\\n",
       "0 -1.0  0.000000  0.000000  0.000000  0.000000e+00  0.000000e+00   \n",
       "1 -1.0  0.000000  0.000000  0.000836  0.000000e+00  0.000000e+00   \n",
       "2 -1.0  0.000006  0.000060  0.001566  1.909414e-09  2.040686e-08   \n",
       "3 -1.0  0.000024  0.000260  0.002052  2.656524e-08  2.839160e-07   \n",
       "4 -1.0  0.000043  0.000459  0.002537  1.772086e-07  1.893917e-06   \n",
       "\n",
       "             p0   x1   y1    s  angle  \n",
       "0  0.000000e+00  0.0  0.0  0.0    0.0  \n",
       "1  2.845402e-07  0.0  0.0  0.0    0.0  \n",
       "2  3.259055e-06  0.0  0.0  0.0    0.0  \n",
       "3  1.822215e-05  0.0  0.0  0.0    0.0  \n",
       "4  6.694258e-05  0.0  0.0  0.0    0.0  "
      ]
     },
     "execution_count": 93,
     "metadata": {},
     "output_type": "execute_result"
    }
   ],
   "source": [
    "stroke_i.head()"
   ]
  },
  {
   "cell_type": "markdown",
   "id": "953a2284-1408-4f85-bb0c-dee4b4c458ee",
   "metadata": {},
   "source": [
    "## check closest neighbours\n",
    "\n",
    "This has been removed temporarily."
   ]
  },
  {
   "cell_type": "code",
   "execution_count": 94,
   "id": "890dc007-4073-4e2a-97ef-a7bc09db5b1c",
   "metadata": {},
   "outputs": [],
   "source": [
    "# min_dtw_id = feat_df.groupby('segment_id').first()['min_dtw_id'].values\n",
    "# min_dtw = feat_df.groupby('segment_id').first()['min_dtw'].values\n",
    "\n",
    "# plt.plot(min_dtw_id)\n",
    "\n",
    "# plt.hist(min_dtw, range=(0, 30))"
   ]
  },
  {
   "cell_type": "markdown",
   "id": "ccca3cd5-f157-4177-8e7d-732de73e9e5d",
   "metadata": {},
   "source": [
    "## check data processing\n",
    "\n",
    "The angle provided by arctan2 is succeptible to wrap around. This can be accomodated with np.unwrap. However, it is currently not implemented in the js code."
   ]
  },
  {
   "cell_type": "code",
   "execution_count": 95,
   "id": "ed6734c0-898d-4d53-92cb-aa4a746b6a91",
   "metadata": {},
   "outputs": [],
   "source": [
    "# filename = \"../data/user/data_25042022_170416.csv\""
   ]
  },
  {
   "cell_type": "code",
   "execution_count": 96,
   "id": "04b86e42-5570-4d6d-9f23-fd6917da0b5d",
   "metadata": {},
   "outputs": [],
   "source": [
    "gi = data_df.groupby('segment_id').get_group(8)"
   ]
  },
  {
   "cell_type": "code",
   "execution_count": 97,
   "id": "e6e38047-72ea-4896-bf01-3bc29a825395",
   "metadata": {},
   "outputs": [
    {
     "data": {
      "text/plain": [
       "<AxesSubplot:>"
      ]
     },
     "execution_count": 97,
     "metadata": {},
     "output_type": "execute_result"
    },
    {
     "data": {
      "image/png": "[encoded data removed]",
      "text/plain": [
       "<Figure size 432x288 with 2 Axes>"
      ]
     },
     "metadata": {
      "needs_background": "light"
     },
     "output_type": "display_data"
    }
   ],
   "source": [
    "fig, ax = plt.subplots()\n",
    "gi['s'].plot(ax=ax)\n",
    "axt = ax.twinx()\n",
    "gi['angle'].plot(ax=axt, c=tab10[1])"
   ]
  },
  {
   "cell_type": "code",
   "execution_count": 71,
   "id": "ae8408c7-5e19-42e2-b333-b493d562e357",
   "metadata": {},
   "outputs": [
    {
     "data": {
      "text/html": [
       "<div>\n",
       "<style scoped>\n",
       "    .dataframe tbody tr th:only-of-type {\n",
       "        vertical-align: middle;\n",
       "    }\n",
       "\n",
       "    .dataframe tbody tr th {\n",
       "        vertical-align: top;\n",
       "    }\n",
       "\n",
       "    .dataframe thead th {\n",
       "        text-align: right;\n",
       "    }\n",
       "</style>\n",
       "<table border=\"1\" class=\"dataframe\">\n",
       "  <thead>\n",
       "    <tr style=\"text-align: right;\">\n",
       "      <th></th>\n",
       "      <th>key</th>\n",
       "      <th>t0</th>\n",
       "      <th>t0_norm</th>\n",
       "      <th>ts</th>\n",
       "      <th>stroke_id</th>\n",
       "      <th>segment_id</th>\n",
       "      <th>x</th>\n",
       "      <th>y</th>\n",
       "      <th>p</th>\n",
       "      <th>x_</th>\n",
       "      <th>y_</th>\n",
       "      <th>p_</th>\n",
       "      <th>x0</th>\n",
       "      <th>y0</th>\n",
       "      <th>p0</th>\n",
       "      <th>x1</th>\n",
       "      <th>y1</th>\n",
       "      <th>s</th>\n",
       "      <th>angle</th>\n",
       "    </tr>\n",
       "  </thead>\n",
       "  <tbody>\n",
       "    <tr>\n",
       "      <th>58</th>\n",
       "      <td>359444_570</td>\n",
       "      <td>359444</td>\n",
       "      <td>0.237718</td>\n",
       "      <td>570</td>\n",
       "      <td>21</td>\n",
       "      <td>8</td>\n",
       "      <td>0.467708</td>\n",
       "      <td>0.493548</td>\n",
       "      <td>0.016597</td>\n",
       "      <td>0.032846</td>\n",
       "      <td>-0.035474</td>\n",
       "      <td>0.007335</td>\n",
       "      <td>0.049375</td>\n",
       "      <td>-0.043597</td>\n",
       "      <td>0.006370</td>\n",
       "      <td>-0.003140</td>\n",
       "      <td>-0.000478</td>\n",
       "      <td>0.317630</td>\n",
       "      <td>0.813300</td>\n",
       "    </tr>\n",
       "    <tr>\n",
       "      <th>59</th>\n",
       "      <td>359457_580</td>\n",
       "      <td>359457</td>\n",
       "      <td>0.238039</td>\n",
       "      <td>580</td>\n",
       "      <td>21</td>\n",
       "      <td>8</td>\n",
       "      <td>0.461096</td>\n",
       "      <td>0.498603</td>\n",
       "      <td>0.017312</td>\n",
       "      <td>0.026234</td>\n",
       "      <td>-0.030419</td>\n",
       "      <td>0.008051</td>\n",
       "      <td>0.046211</td>\n",
       "      <td>-0.042873</td>\n",
       "      <td>0.006478</td>\n",
       "      <td>-0.003195</td>\n",
       "      <td>0.000016</td>\n",
       "      <td>0.319504</td>\n",
       "      <td>0.831447</td>\n",
       "    </tr>\n",
       "    <tr>\n",
       "      <th>60</th>\n",
       "      <td>359477_590</td>\n",
       "      <td>359477</td>\n",
       "      <td>0.238532</td>\n",
       "      <td>590</td>\n",
       "      <td>21</td>\n",
       "      <td>8</td>\n",
       "      <td>0.456355</td>\n",
       "      <td>0.502365</td>\n",
       "      <td>0.017855</td>\n",
       "      <td>0.021493</td>\n",
       "      <td>-0.026657</td>\n",
       "      <td>0.008594</td>\n",
       "      <td>0.043210</td>\n",
       "      <td>-0.041789</td>\n",
       "      <td>0.006643</td>\n",
       "      <td>-0.003167</td>\n",
       "      <td>0.000475</td>\n",
       "      <td>0.320262</td>\n",
       "      <td>0.839072</td>\n",
       "    </tr>\n",
       "    <tr>\n",
       "      <th>61</th>\n",
       "      <td>359477_600</td>\n",
       "      <td>359477</td>\n",
       "      <td>0.238532</td>\n",
       "      <td>600</td>\n",
       "      <td>21</td>\n",
       "      <td>8</td>\n",
       "      <td>0.454384</td>\n",
       "      <td>0.504044</td>\n",
       "      <td>0.018111</td>\n",
       "      <td>0.019523</td>\n",
       "      <td>-0.024979</td>\n",
       "      <td>0.008849</td>\n",
       "      <td>0.040366</td>\n",
       "      <td>-0.040403</td>\n",
       "      <td>0.006829</td>\n",
       "      <td>-0.003067</td>\n",
       "      <td>0.000876</td>\n",
       "      <td>0.319001</td>\n",
       "      <td>0.839072</td>\n",
       "    </tr>\n",
       "    <tr>\n",
       "      <th>62</th>\n",
       "      <td>359491_610</td>\n",
       "      <td>359491</td>\n",
       "      <td>0.238877</td>\n",
       "      <td>610</td>\n",
       "      <td>21</td>\n",
       "      <td>8</td>\n",
       "      <td>0.451478</td>\n",
       "      <td>0.506932</td>\n",
       "      <td>0.018442</td>\n",
       "      <td>0.016616</td>\n",
       "      <td>-0.022090</td>\n",
       "      <td>0.009180</td>\n",
       "      <td>0.037567</td>\n",
       "      <td>-0.038715</td>\n",
       "      <td>0.007028</td>\n",
       "      <td>-0.002946</td>\n",
       "      <td>0.001223</td>\n",
       "      <td>0.319000</td>\n",
       "      <td>0.850607</td>\n",
       "    </tr>\n",
       "    <tr>\n",
       "      <th>63</th>\n",
       "      <td>359511_620</td>\n",
       "      <td>359511</td>\n",
       "      <td>0.239371</td>\n",
       "      <td>620</td>\n",
       "      <td>21</td>\n",
       "      <td>8</td>\n",
       "      <td>0.447874</td>\n",
       "      <td>0.510843</td>\n",
       "      <td>0.018778</td>\n",
       "      <td>0.013012</td>\n",
       "      <td>-0.018179</td>\n",
       "      <td>0.009517</td>\n",
       "      <td>0.034625</td>\n",
       "      <td>-0.036679</td>\n",
       "      <td>0.007255</td>\n",
       "      <td>-0.002881</td>\n",
       "      <td>0.001546</td>\n",
       "      <td>0.327003</td>\n",
       "      <td>0.858140</td>\n",
       "    </tr>\n",
       "    <tr>\n",
       "      <th>64</th>\n",
       "      <td>359511_630</td>\n",
       "      <td>359511</td>\n",
       "      <td>0.239371</td>\n",
       "      <td>630</td>\n",
       "      <td>21</td>\n",
       "      <td>8</td>\n",
       "      <td>0.446418</td>\n",
       "      <td>0.513071</td>\n",
       "      <td>0.018494</td>\n",
       "      <td>0.011556</td>\n",
       "      <td>-0.015952</td>\n",
       "      <td>0.009233</td>\n",
       "      <td>0.031376</td>\n",
       "      <td>-0.034249</td>\n",
       "      <td>0.007533</td>\n",
       "      <td>-0.002941</td>\n",
       "      <td>0.001880</td>\n",
       "      <td>0.349044</td>\n",
       "      <td>0.858140</td>\n",
       "    </tr>\n",
       "    <tr>\n",
       "      <th>65</th>\n",
       "      <td>359527_640</td>\n",
       "      <td>359527</td>\n",
       "      <td>0.239765</td>\n",
       "      <td>640</td>\n",
       "      <td>21</td>\n",
       "      <td>8</td>\n",
       "      <td>0.444851</td>\n",
       "      <td>0.515614</td>\n",
       "      <td>0.018107</td>\n",
       "      <td>0.009989</td>\n",
       "      <td>-0.013409</td>\n",
       "      <td>0.008846</td>\n",
       "      <td>0.027768</td>\n",
       "      <td>-0.031428</td>\n",
       "      <td>0.007874</td>\n",
       "      <td>-0.003139</td>\n",
       "      <td>0.002241</td>\n",
       "      <td>0.385677</td>\n",
       "      <td>0.870884</td>\n",
       "    </tr>\n",
       "    <tr>\n",
       "      <th>66</th>\n",
       "      <td>359527_650</td>\n",
       "      <td>359527</td>\n",
       "      <td>0.239765</td>\n",
       "      <td>650</td>\n",
       "      <td>21</td>\n",
       "      <td>8</td>\n",
       "      <td>0.442292</td>\n",
       "      <td>0.520992</td>\n",
       "      <td>0.016793</td>\n",
       "      <td>0.007430</td>\n",
       "      <td>-0.008030</td>\n",
       "      <td>0.007532</td>\n",
       "      <td>0.023904</td>\n",
       "      <td>-0.028292</td>\n",
       "      <td>0.008266</td>\n",
       "      <td>-0.003418</td>\n",
       "      <td>0.002610</td>\n",
       "      <td>0.430053</td>\n",
       "      <td>0.870884</td>\n",
       "    </tr>\n",
       "    <tr>\n",
       "      <th>67</th>\n",
       "      <td>359541_660</td>\n",
       "      <td>359541</td>\n",
       "      <td>0.240110</td>\n",
       "      <td>660</td>\n",
       "      <td>21</td>\n",
       "      <td>8</td>\n",
       "      <td>0.439935</td>\n",
       "      <td>0.526919</td>\n",
       "      <td>0.015528</td>\n",
       "      <td>0.005074</td>\n",
       "      <td>-0.002104</td>\n",
       "      <td>0.006266</td>\n",
       "      <td>0.020010</td>\n",
       "      <td>-0.024973</td>\n",
       "      <td>0.008664</td>\n",
       "      <td>-0.003670</td>\n",
       "      <td>0.002937</td>\n",
       "      <td>0.470081</td>\n",
       "      <td>0.882694</td>\n",
       "    </tr>\n",
       "    <tr>\n",
       "      <th>68</th>\n",
       "      <td>359557_670</td>\n",
       "      <td>359557</td>\n",
       "      <td>0.240505</td>\n",
       "      <td>670</td>\n",
       "      <td>21</td>\n",
       "      <td>8</td>\n",
       "      <td>0.437896</td>\n",
       "      <td>0.533232</td>\n",
       "      <td>0.014428</td>\n",
       "      <td>0.003035</td>\n",
       "      <td>0.004210</td>\n",
       "      <td>0.005167</td>\n",
       "      <td>0.016358</td>\n",
       "      <td>-0.021598</td>\n",
       "      <td>0.008992</td>\n",
       "      <td>-0.003780</td>\n",
       "      <td>0.003176</td>\n",
       "      <td>0.493666</td>\n",
       "      <td>0.891599</td>\n",
       "    </tr>\n",
       "    <tr>\n",
       "      <th>69</th>\n",
       "      <td>359557_680</td>\n",
       "      <td>359557</td>\n",
       "      <td>0.240505</td>\n",
       "      <td>680</td>\n",
       "      <td>21</td>\n",
       "      <td>8</td>\n",
       "      <td>0.436890</td>\n",
       "      <td>0.538095</td>\n",
       "      <td>0.014393</td>\n",
       "      <td>0.002028</td>\n",
       "      <td>0.009073</td>\n",
       "      <td>0.005131</td>\n",
       "      <td>0.013166</td>\n",
       "      <td>-0.018228</td>\n",
       "      <td>0.009155</td>\n",
       "      <td>-0.003675</td>\n",
       "      <td>0.003309</td>\n",
       "      <td>0.494546</td>\n",
       "      <td>0.891599</td>\n",
       "    </tr>\n",
       "    <tr>\n",
       "      <th>70</th>\n",
       "      <td>359574_690</td>\n",
       "      <td>359574</td>\n",
       "      <td>0.240924</td>\n",
       "      <td>690</td>\n",
       "      <td>21</td>\n",
       "      <td>8</td>\n",
       "      <td>0.436024</td>\n",
       "      <td>0.543678</td>\n",
       "      <td>0.014676</td>\n",
       "      <td>0.001162</td>\n",
       "      <td>0.014656</td>\n",
       "      <td>0.005414</td>\n",
       "      <td>0.010531</td>\n",
       "      <td>-0.014804</td>\n",
       "      <td>0.009061</td>\n",
       "      <td>-0.003359</td>\n",
       "      <td>0.003372</td>\n",
       "      <td>0.475961</td>\n",
       "      <td>0.902547</td>\n",
       "    </tr>\n",
       "    <tr>\n",
       "      <th>71</th>\n",
       "      <td>359574_700</td>\n",
       "      <td>359574</td>\n",
       "      <td>0.240924</td>\n",
       "      <td>700</td>\n",
       "      <td>21</td>\n",
       "      <td>8</td>\n",
       "      <td>0.435298</td>\n",
       "      <td>0.549979</td>\n",
       "      <td>0.015277</td>\n",
       "      <td>0.000436</td>\n",
       "      <td>0.020957</td>\n",
       "      <td>0.006016</td>\n",
       "      <td>0.008410</td>\n",
       "      <td>-0.011158</td>\n",
       "      <td>0.008658</td>\n",
       "      <td>-0.002903</td>\n",
       "      <td>0.003442</td>\n",
       "      <td>0.450283</td>\n",
       "      <td>0.902547</td>\n",
       "    </tr>\n",
       "    <tr>\n",
       "      <th>72</th>\n",
       "      <td>359599_710</td>\n",
       "      <td>359599</td>\n",
       "      <td>0.241541</td>\n",
       "      <td>710</td>\n",
       "      <td>21</td>\n",
       "      <td>8</td>\n",
       "      <td>0.435032</td>\n",
       "      <td>0.554559</td>\n",
       "      <td>0.015798</td>\n",
       "      <td>0.000171</td>\n",
       "      <td>0.025537</td>\n",
       "      <td>0.006536</td>\n",
       "      <td>0.006670</td>\n",
       "      <td>-0.007089</td>\n",
       "      <td>0.007968</td>\n",
       "      <td>-0.002413</td>\n",
       "      <td>0.003609</td>\n",
       "      <td>0.434128</td>\n",
       "      <td>0.912016</td>\n",
       "    </tr>\n",
       "    <tr>\n",
       "      <th>73</th>\n",
       "      <td>359599_720</td>\n",
       "      <td>359599</td>\n",
       "      <td>0.241541</td>\n",
       "      <td>720</td>\n",
       "      <td>21</td>\n",
       "      <td>8</td>\n",
       "      <td>0.434881</td>\n",
       "      <td>0.558710</td>\n",
       "      <td>0.016298</td>\n",
       "      <td>0.000020</td>\n",
       "      <td>0.029688</td>\n",
       "      <td>0.007036</td>\n",
       "      <td>0.005164</td>\n",
       "      <td>-0.002452</td>\n",
       "      <td>0.007098</td>\n",
       "      <td>-0.001987</td>\n",
       "      <td>0.003927</td>\n",
       "      <td>0.440071</td>\n",
       "      <td>0.912016</td>\n",
       "    </tr>\n",
       "    <tr>\n",
       "      <th>74</th>\n",
       "      <td>359611_730</td>\n",
       "      <td>359611</td>\n",
       "      <td>0.241837</td>\n",
       "      <td>730</td>\n",
       "      <td>21</td>\n",
       "      <td>8</td>\n",
       "      <td>0.435200</td>\n",
       "      <td>0.564888</td>\n",
       "      <td>0.016818</td>\n",
       "      <td>0.000338</td>\n",
       "      <td>0.035866</td>\n",
       "      <td>0.007557</td>\n",
       "      <td>0.003789</td>\n",
       "      <td>0.002776</td>\n",
       "      <td>0.006228</td>\n",
       "      <td>-0.001673</td>\n",
       "      <td>0.004387</td>\n",
       "      <td>0.469483</td>\n",
       "      <td>0.921263</td>\n",
       "    </tr>\n",
       "    <tr>\n",
       "      <th>75</th>\n",
       "      <td>359628_740</td>\n",
       "      <td>359628</td>\n",
       "      <td>0.242256</td>\n",
       "      <td>740</td>\n",
       "      <td>21</td>\n",
       "      <td>8</td>\n",
       "      <td>0.436589</td>\n",
       "      <td>0.575064</td>\n",
       "      <td>0.017320</td>\n",
       "      <td>0.001727</td>\n",
       "      <td>0.046042</td>\n",
       "      <td>0.008058</td>\n",
       "      <td>0.002523</td>\n",
       "      <td>0.008473</td>\n",
       "      <td>0.005555</td>\n",
       "      <td>-0.001465</td>\n",
       "      <td>0.004913</td>\n",
       "      <td>0.512672</td>\n",
       "      <td>0.924135</td>\n",
       "    </tr>\n",
       "    <tr>\n",
       "      <th>76</th>\n",
       "      <td>359628_750</td>\n",
       "      <td>359628</td>\n",
       "      <td>0.242256</td>\n",
       "      <td>750</td>\n",
       "      <td>21</td>\n",
       "      <td>8</td>\n",
       "      <td>0.437758</td>\n",
       "      <td>0.578637</td>\n",
       "      <td>0.017219</td>\n",
       "      <td>0.002896</td>\n",
       "      <td>0.049614</td>\n",
       "      <td>0.007958</td>\n",
       "      <td>0.001417</td>\n",
       "      <td>0.014424</td>\n",
       "      <td>0.005233</td>\n",
       "      <td>-0.001315</td>\n",
       "      <td>0.005395</td>\n",
       "      <td>0.555313</td>\n",
       "      <td>0.924135</td>\n",
       "    </tr>\n",
       "    <tr>\n",
       "      <th>77</th>\n",
       "      <td>359641_760</td>\n",
       "      <td>359641</td>\n",
       "      <td>0.242577</td>\n",
       "      <td>760</td>\n",
       "      <td>21</td>\n",
       "      <td>8</td>\n",
       "      <td>0.439482</td>\n",
       "      <td>0.582752</td>\n",
       "      <td>0.017037</td>\n",
       "      <td>0.004621</td>\n",
       "      <td>0.053730</td>\n",
       "      <td>0.007775</td>\n",
       "      <td>0.000564</td>\n",
       "      <td>0.020415</td>\n",
       "      <td>0.005323</td>\n",
       "      <td>-0.001157</td>\n",
       "      <td>0.005738</td>\n",
       "      <td>0.585364</td>\n",
       "      <td>0.925780</td>\n",
       "    </tr>\n",
       "    <tr>\n",
       "      <th>78</th>\n",
       "      <td>359662_770</td>\n",
       "      <td>359662</td>\n",
       "      <td>0.243095</td>\n",
       "      <td>770</td>\n",
       "      <td>21</td>\n",
       "      <td>8</td>\n",
       "      <td>0.441910</td>\n",
       "      <td>0.587382</td>\n",
       "      <td>0.016751</td>\n",
       "      <td>0.007049</td>\n",
       "      <td>0.058360</td>\n",
       "      <td>0.007489</td>\n",
       "      <td>0.000070</td>\n",
       "      <td>0.026315</td>\n",
       "      <td>0.005781</td>\n",
       "      <td>-0.000940</td>\n",
       "      <td>0.005902</td>\n",
       "      <td>0.597635</td>\n",
       "      <td>0.926192</td>\n",
       "    </tr>\n",
       "    <tr>\n",
       "      <th>79</th>\n",
       "      <td>359662_780</td>\n",
       "      <td>359662</td>\n",
       "      <td>0.243095</td>\n",
       "      <td>780</td>\n",
       "      <td>21</td>\n",
       "      <td>8</td>\n",
       "      <td>0.443183</td>\n",
       "      <td>0.589315</td>\n",
       "      <td>0.016642</td>\n",
       "      <td>0.008322</td>\n",
       "      <td>0.060293</td>\n",
       "      <td>0.007381</td>\n",
       "      <td>0.000022</td>\n",
       "      <td>0.032098</td>\n",
       "      <td>0.006471</td>\n",
       "      <td>-0.000635</td>\n",
       "      <td>0.005914</td>\n",
       "      <td>0.594795</td>\n",
       "      <td>0.926192</td>\n",
       "    </tr>\n",
       "    <tr>\n",
       "      <th>80</th>\n",
       "      <td>359662_790</td>\n",
       "      <td>359662</td>\n",
       "      <td>0.243095</td>\n",
       "      <td>790</td>\n",
       "      <td>21</td>\n",
       "      <td>8</td>\n",
       "      <td>0.444456</td>\n",
       "      <td>0.591248</td>\n",
       "      <td>0.016534</td>\n",
       "      <td>0.009594</td>\n",
       "      <td>0.062225</td>\n",
       "      <td>0.007273</td>\n",
       "      <td>0.000467</td>\n",
       "      <td>0.037775</td>\n",
       "      <td>0.007209</td>\n",
       "      <td>-0.000244</td>\n",
       "      <td>0.005838</td>\n",
       "      <td>0.584343</td>\n",
       "      <td>0.926192</td>\n",
       "    </tr>\n",
       "    <tr>\n",
       "      <th>81</th>\n",
       "      <td>359675_800</td>\n",
       "      <td>359675</td>\n",
       "      <td>0.243415</td>\n",
       "      <td>800</td>\n",
       "      <td>21</td>\n",
       "      <td>8</td>\n",
       "      <td>0.448014</td>\n",
       "      <td>0.595567</td>\n",
       "      <td>0.016403</td>\n",
       "      <td>0.013153</td>\n",
       "      <td>0.066545</td>\n",
       "      <td>0.007142</td>\n",
       "      <td>0.001400</td>\n",
       "      <td>0.043320</td>\n",
       "      <td>0.007819</td>\n",
       "      <td>0.000207</td>\n",
       "      <td>0.005727</td>\n",
       "      <td>0.573071</td>\n",
       "      <td>0.925759</td>\n",
       "    </tr>\n",
       "    <tr>\n",
       "      <th>82</th>\n",
       "      <td>359696_810</td>\n",
       "      <td>359696</td>\n",
       "      <td>0.243933</td>\n",
       "      <td>810</td>\n",
       "      <td>21</td>\n",
       "      <td>8</td>\n",
       "      <td>0.450075</td>\n",
       "      <td>0.597829</td>\n",
       "      <td>0.016269</td>\n",
       "      <td>0.015214</td>\n",
       "      <td>0.068807</td>\n",
       "      <td>0.007008</td>\n",
       "      <td>0.002767</td>\n",
       "      <td>0.048623</td>\n",
       "      <td>0.008177</td>\n",
       "      <td>0.000677</td>\n",
       "      <td>0.005584</td>\n",
       "      <td>0.562464</td>\n",
       "      <td>0.924908</td>\n",
       "    </tr>\n",
       "    <tr>\n",
       "      <th>83</th>\n",
       "      <td>359696_820</td>\n",
       "      <td>359696</td>\n",
       "      <td>0.243933</td>\n",
       "      <td>820</td>\n",
       "      <td>21</td>\n",
       "      <td>8</td>\n",
       "      <td>0.451495</td>\n",
       "      <td>0.599210</td>\n",
       "      <td>0.016134</td>\n",
       "      <td>0.016633</td>\n",
       "      <td>0.070188</td>\n",
       "      <td>0.006872</td>\n",
       "      <td>0.004471</td>\n",
       "      <td>0.053508</td>\n",
       "      <td>0.008243</td>\n",
       "      <td>0.001120</td>\n",
       "      <td>0.005367</td>\n",
       "      <td>0.548249</td>\n",
       "      <td>0.924908</td>\n",
       "    </tr>\n",
       "    <tr>\n",
       "      <th>84</th>\n",
       "      <td>359708_830</td>\n",
       "      <td>359708</td>\n",
       "      <td>0.244229</td>\n",
       "      <td>830</td>\n",
       "      <td>21</td>\n",
       "      <td>8</td>\n",
       "      <td>0.455044</td>\n",
       "      <td>0.601593</td>\n",
       "      <td>0.015739</td>\n",
       "      <td>0.020182</td>\n",
       "      <td>0.072571</td>\n",
       "      <td>0.006477</td>\n",
       "      <td>0.006406</td>\n",
       "      <td>0.057807</td>\n",
       "      <td>0.008058</td>\n",
       "      <td>0.001495</td>\n",
       "      <td>0.005025</td>\n",
       "      <td>0.524295</td>\n",
       "      <td>0.921533</td>\n",
       "    </tr>\n",
       "    <tr>\n",
       "      <th>85</th>\n",
       "      <td>359721_840</td>\n",
       "      <td>359721</td>\n",
       "      <td>0.244550</td>\n",
       "      <td>840</td>\n",
       "      <td>21</td>\n",
       "      <td>8</td>\n",
       "      <td>0.459390</td>\n",
       "      <td>0.603734</td>\n",
       "      <td>0.015328</td>\n",
       "      <td>0.024529</td>\n",
       "      <td>0.074712</td>\n",
       "      <td>0.006066</td>\n",
       "      <td>0.008482</td>\n",
       "      <td>0.061428</td>\n",
       "      <td>0.007718</td>\n",
       "      <td>0.001780</td>\n",
       "      <td>0.004540</td>\n",
       "      <td>0.487663</td>\n",
       "      <td>0.917688</td>\n",
       "    </tr>\n",
       "    <tr>\n",
       "      <th>86</th>\n",
       "      <td>359742_850</td>\n",
       "      <td>359742</td>\n",
       "      <td>0.245068</td>\n",
       "      <td>850</td>\n",
       "      <td>21</td>\n",
       "      <td>8</td>\n",
       "      <td>0.462685</td>\n",
       "      <td>0.604434</td>\n",
       "      <td>0.015225</td>\n",
       "      <td>0.027823</td>\n",
       "      <td>0.075412</td>\n",
       "      <td>0.005963</td>\n",
       "      <td>0.010645</td>\n",
       "      <td>0.064390</td>\n",
       "      <td>0.007331</td>\n",
       "      <td>0.001977</td>\n",
       "      <td>0.003945</td>\n",
       "      <td>0.441292</td>\n",
       "      <td>0.912875</td>\n",
       "    </tr>\n",
       "    <tr>\n",
       "      <th>87</th>\n",
       "      <td>359742_860</td>\n",
       "      <td>359742</td>\n",
       "      <td>0.245068</td>\n",
       "      <td>860</td>\n",
       "      <td>21</td>\n",
       "      <td>8</td>\n",
       "      <td>0.464912</td>\n",
       "      <td>0.604463</td>\n",
       "      <td>0.015766</td>\n",
       "      <td>0.030051</td>\n",
       "      <td>0.075441</td>\n",
       "      <td>0.006504</td>\n",
       "      <td>0.012889</td>\n",
       "      <td>0.066808</td>\n",
       "      <td>0.006983</td>\n",
       "      <td>0.002107</td>\n",
       "      <td>0.003318</td>\n",
       "      <td>0.393091</td>\n",
       "      <td>0.912875</td>\n",
       "    </tr>\n",
       "    <tr>\n",
       "      <th>88</th>\n",
       "      <td>359742_870</td>\n",
       "      <td>359742</td>\n",
       "      <td>0.245068</td>\n",
       "      <td>870</td>\n",
       "      <td>21</td>\n",
       "      <td>8</td>\n",
       "      <td>0.467140</td>\n",
       "      <td>0.604492</td>\n",
       "      <td>0.016307</td>\n",
       "      <td>0.032278</td>\n",
       "      <td>0.075470</td>\n",
       "      <td>0.007045</td>\n",
       "      <td>0.015259</td>\n",
       "      <td>0.068843</td>\n",
       "      <td>0.006717</td>\n",
       "      <td>0.002211</td>\n",
       "      <td>0.002745</td>\n",
       "      <td>0.352492</td>\n",
       "      <td>0.912875</td>\n",
       "    </tr>\n",
       "    <tr>\n",
       "      <th>89</th>\n",
       "      <td>359762_880</td>\n",
       "      <td>359762</td>\n",
       "      <td>0.245561</td>\n",
       "      <td>880</td>\n",
       "      <td>21</td>\n",
       "      <td>8</td>\n",
       "      <td>0.470755</td>\n",
       "      <td>0.604156</td>\n",
       "      <td>0.017358</td>\n",
       "      <td>0.035893</td>\n",
       "      <td>0.075134</td>\n",
       "      <td>0.008097</td>\n",
       "      <td>0.017820</td>\n",
       "      <td>0.070637</td>\n",
       "      <td>0.006538</td>\n",
       "      <td>0.002329</td>\n",
       "      <td>0.002287</td>\n",
       "      <td>0.326414</td>\n",
       "      <td>0.904890</td>\n",
       "    </tr>\n",
       "    <tr>\n",
       "      <th>90</th>\n",
       "      <td>359762_890</td>\n",
       "      <td>359762</td>\n",
       "      <td>0.245561</td>\n",
       "      <td>890</td>\n",
       "      <td>21</td>\n",
       "      <td>8</td>\n",
       "      <td>0.474370</td>\n",
       "      <td>0.603821</td>\n",
       "      <td>0.018409</td>\n",
       "      <td>0.039508</td>\n",
       "      <td>0.074799</td>\n",
       "      <td>0.009148</td>\n",
       "      <td>0.020615</td>\n",
       "      <td>0.072259</td>\n",
       "      <td>0.006435</td>\n",
       "      <td>0.002487</td>\n",
       "      <td>0.001957</td>\n",
       "      <td>0.316469</td>\n",
       "      <td>0.904890</td>\n",
       "    </tr>\n",
       "  </tbody>\n",
       "</table>\n",
       "</div>"
      ],
      "text/plain": [
       "           key      t0   t0_norm   ts  stroke_id  segment_id         x  \\\n",
       "58  359444_570  359444  0.237718  570         21           8  0.467708   \n",
       "59  359457_580  359457  0.238039  580         21           8  0.461096   \n",
       "60  359477_590  359477  0.238532  590         21           8  0.456355   \n",
       "61  359477_600  359477  0.238532  600         21           8  0.454384   \n",
       "62  359491_610  359491  0.238877  610         21           8  0.451478   \n",
       "63  359511_620  359511  0.239371  620         21           8  0.447874   \n",
       "64  359511_630  359511  0.239371  630         21           8  0.446418   \n",
       "65  359527_640  359527  0.239765  640         21           8  0.444851   \n",
       "66  359527_650  359527  0.239765  650         21           8  0.442292   \n",
       "67  359541_660  359541  0.240110  660         21           8  0.439935   \n",
       "68  359557_670  359557  0.240505  670         21           8  0.437896   \n",
       "69  359557_680  359557  0.240505  680         21           8  0.436890   \n",
       "70  359574_690  359574  0.240924  690         21           8  0.436024   \n",
       "71  359574_700  359574  0.240924  700         21           8  0.435298   \n",
       "72  359599_710  359599  0.241541  710         21           8  0.435032   \n",
       "73  359599_720  359599  0.241541  720         21           8  0.434881   \n",
       "74  359611_730  359611  0.241837  730         21           8  0.435200   \n",
       "75  359628_740  359628  0.242256  740         21           8  0.436589   \n",
       "76  359628_750  359628  0.242256  750         21           8  0.437758   \n",
       "77  359641_760  359641  0.242577  760         21           8  0.439482   \n",
       "78  359662_770  359662  0.243095  770         21           8  0.441910   \n",
       "79  359662_780  359662  0.243095  780         21           8  0.443183   \n",
       "80  359662_790  359662  0.243095  790         21           8  0.444456   \n",
       "81  359675_800  359675  0.243415  800         21           8  0.448014   \n",
       "82  359696_810  359696  0.243933  810         21           8  0.450075   \n",
       "83  359696_820  359696  0.243933  820         21           8  0.451495   \n",
       "84  359708_830  359708  0.244229  830         21           8  0.455044   \n",
       "85  359721_840  359721  0.244550  840         21           8  0.459390   \n",
       "86  359742_850  359742  0.245068  850         21           8  0.462685   \n",
       "87  359742_860  359742  0.245068  860         21           8  0.464912   \n",
       "88  359742_870  359742  0.245068  870         21           8  0.467140   \n",
       "89  359762_880  359762  0.245561  880         21           8  0.470755   \n",
       "90  359762_890  359762  0.245561  890         21           8  0.474370   \n",
       "\n",
       "           y         p        x_        y_        p_        x0        y0  \\\n",
       "58  0.493548  0.016597  0.032846 -0.035474  0.007335  0.049375 -0.043597   \n",
       "59  0.498603  0.017312  0.026234 -0.030419  0.008051  0.046211 -0.042873   \n",
       "60  0.502365  0.017855  0.021493 -0.026657  0.008594  0.043210 -0.041789   \n",
       "61  0.504044  0.018111  0.019523 -0.024979  0.008849  0.040366 -0.040403   \n",
       "62  0.506932  0.018442  0.016616 -0.022090  0.009180  0.037567 -0.038715   \n",
       "63  0.510843  0.018778  0.013012 -0.018179  0.009517  0.034625 -0.036679   \n",
       "64  0.513071  0.018494  0.011556 -0.015952  0.009233  0.031376 -0.034249   \n",
       "65  0.515614  0.018107  0.009989 -0.013409  0.008846  0.027768 -0.031428   \n",
       "66  0.520992  0.016793  0.007430 -0.008030  0.007532  0.023904 -0.028292   \n",
       "67  0.526919  0.015528  0.005074 -0.002104  0.006266  0.020010 -0.024973   \n",
       "68  0.533232  0.014428  0.003035  0.004210  0.005167  0.016358 -0.021598   \n",
       "69  0.538095  0.014393  0.002028  0.009073  0.005131  0.013166 -0.018228   \n",
       "70  0.543678  0.014676  0.001162  0.014656  0.005414  0.010531 -0.014804   \n",
       "71  0.549979  0.015277  0.000436  0.020957  0.006016  0.008410 -0.011158   \n",
       "72  0.554559  0.015798  0.000171  0.025537  0.006536  0.006670 -0.007089   \n",
       "73  0.558710  0.016298  0.000020  0.029688  0.007036  0.005164 -0.002452   \n",
       "74  0.564888  0.016818  0.000338  0.035866  0.007557  0.003789  0.002776   \n",
       "75  0.575064  0.017320  0.001727  0.046042  0.008058  0.002523  0.008473   \n",
       "76  0.578637  0.017219  0.002896  0.049614  0.007958  0.001417  0.014424   \n",
       "77  0.582752  0.017037  0.004621  0.053730  0.007775  0.000564  0.020415   \n",
       "78  0.587382  0.016751  0.007049  0.058360  0.007489  0.000070  0.026315   \n",
       "79  0.589315  0.016642  0.008322  0.060293  0.007381  0.000022  0.032098   \n",
       "80  0.591248  0.016534  0.009594  0.062225  0.007273  0.000467  0.037775   \n",
       "81  0.595567  0.016403  0.013153  0.066545  0.007142  0.001400  0.043320   \n",
       "82  0.597829  0.016269  0.015214  0.068807  0.007008  0.002767  0.048623   \n",
       "83  0.599210  0.016134  0.016633  0.070188  0.006872  0.004471  0.053508   \n",
       "84  0.601593  0.015739  0.020182  0.072571  0.006477  0.006406  0.057807   \n",
       "85  0.603734  0.015328  0.024529  0.074712  0.006066  0.008482  0.061428   \n",
       "86  0.604434  0.015225  0.027823  0.075412  0.005963  0.010645  0.064390   \n",
       "87  0.604463  0.015766  0.030051  0.075441  0.006504  0.012889  0.066808   \n",
       "88  0.604492  0.016307  0.032278  0.075470  0.007045  0.015259  0.068843   \n",
       "89  0.604156  0.017358  0.035893  0.075134  0.008097  0.017820  0.070637   \n",
       "90  0.603821  0.018409  0.039508  0.074799  0.009148  0.020615  0.072259   \n",
       "\n",
       "          p0        x1        y1         s     angle  \n",
       "58  0.006370 -0.003140 -0.000478  0.317630  0.813300  \n",
       "59  0.006478 -0.003195  0.000016  0.319504  0.831447  \n",
       "60  0.006643 -0.003167  0.000475  0.320262  0.839072  \n",
       "61  0.006829 -0.003067  0.000876  0.319001  0.839072  \n",
       "62  0.007028 -0.002946  0.001223  0.319000  0.850607  \n",
       "63  0.007255 -0.002881  0.001546  0.327003  0.858140  \n",
       "64  0.007533 -0.002941  0.001880  0.349044  0.858140  \n",
       "65  0.007874 -0.003139  0.002241  0.385677  0.870884  \n",
       "66  0.008266 -0.003418  0.002610  0.430053  0.870884  \n",
       "67  0.008664 -0.003670  0.002937  0.470081  0.882694  \n",
       "68  0.008992 -0.003780  0.003176  0.493666  0.891599  \n",
       "69  0.009155 -0.003675  0.003309  0.494546  0.891599  \n",
       "70  0.009061 -0.003359  0.003372  0.475961  0.902547  \n",
       "71  0.008658 -0.002903  0.003442  0.450283  0.902547  \n",
       "72  0.007968 -0.002413  0.003609  0.434128  0.912016  \n",
       "73  0.007098 -0.001987  0.003927  0.440071  0.912016  \n",
       "74  0.006228 -0.001673  0.004387  0.469483  0.921263  \n",
       "75  0.005555 -0.001465  0.004913  0.512672  0.924135  \n",
       "76  0.005233 -0.001315  0.005395  0.555313  0.924135  \n",
       "77  0.005323 -0.001157  0.005738  0.585364  0.925780  \n",
       "78  0.005781 -0.000940  0.005902  0.597635  0.926192  \n",
       "79  0.006471 -0.000635  0.005914  0.594795  0.926192  \n",
       "80  0.007209 -0.000244  0.005838  0.584343  0.926192  \n",
       "81  0.007819  0.000207  0.005727  0.573071  0.925759  \n",
       "82  0.008177  0.000677  0.005584  0.562464  0.924908  \n",
       "83  0.008243  0.001120  0.005367  0.548249  0.924908  \n",
       "84  0.008058  0.001495  0.005025  0.524295  0.921533  \n",
       "85  0.007718  0.001780  0.004540  0.487663  0.917688  \n",
       "86  0.007331  0.001977  0.003945  0.441292  0.912875  \n",
       "87  0.006983  0.002107  0.003318  0.393091  0.912875  \n",
       "88  0.006717  0.002211  0.002745  0.352492  0.912875  \n",
       "89  0.006538  0.002329  0.002287  0.326414  0.904890  \n",
       "90  0.006435  0.002487  0.001957  0.316469  0.904890  "
      ]
     },
     "execution_count": 71,
     "metadata": {},
     "output_type": "execute_result"
    }
   ],
   "source": [
    "gi['']"
   ]
  },
  {
   "cell_type": "code",
   "execution_count": 68,
   "id": "3a3d86db-e1ec-4555-9cf6-f5e33020c3d2",
   "metadata": {},
   "outputs": [],
   "source": [
    "wl=7\n",
    "po=2\n",
    "savgol_dict = {'window_length':wl, 'polyorder':po, 'mode':'nearest'}"
   ]
  },
  {
   "cell_type": "code",
   "execution_count": 69,
   "id": "d51a74e1-b8c8-444b-a83b-fe3e090589b4",
   "metadata": {},
   "outputs": [],
   "source": [
    "alpha = np.arctan2(gi['y1'], gi['x1'])\n",
    "da = scsig.savgol_filter(alpha, deriv=1, **savgol_dict)"
   ]
  },
  {
   "cell_type": "code",
   "execution_count": 70,
   "id": "ac470e47-76ed-44aa-9144-f83ece0b78b7",
   "metadata": {},
   "outputs": [
    {
     "data": {
      "text/plain": [
       "[<matplotlib.lines.Line2D at 0x7fefa0ec5090>]"
      ]
     },
     "execution_count": 70,
     "metadata": {},
     "output_type": "execute_result"
    },
    {
     "data": {
      "image/png": "[encoded data removed]",
      "text/plain": [
       "<Figure size 432x288 with 1 Axes>"
      ]
     },
     "metadata": {
      "needs_background": "light"
     },
     "output_type": "display_data"
    }
   ],
   "source": [
    "plt.plot(alpha.values)\n",
    "plt.plot(np.unwrap(alpha))"
   ]
  },
  {
   "cell_type": "code",
   "execution_count": 58,
   "id": "0b205625-c8b4-46a7-9e01-4d2953745a0b",
   "metadata": {},
   "outputs": [],
   "source": [
    "alpha = alpha.values"
   ]
  },
  {
   "cell_type": "markdown",
   "id": "2c8fa0e1-8ac8-4d69-bcaa-8ce3504b7c8e",
   "metadata": {},
   "source": [
    "# unwrap"
   ]
  },
  {
   "cell_type": "markdown",
   "id": "bcd79505-2901-4132-86c2-b9c3d1e48e89",
   "metadata": {},
   "source": [
    "The angle computed from atan2 is prone to phase wrapping. The function below is meant to emulate the behaviour of np.unwrap in a stream manner.\n",
    "This is implemented in the MAX/MSP app in javascript."
   ]
  },
  {
   "cell_type": "code",
   "execution_count": 59,
   "id": "82f65cc3-c214-4be2-b055-ecf284dca316",
   "metadata": {},
   "outputs": [],
   "source": [
    "def unwrap(x_arr):\n",
    "    global last, acc\n",
    "    last = 0\n",
    "    acc = 0\n",
    "    def unwrap_(x, period=np.pi):\n",
    "        global last, acc\n",
    "        # print(x, last, acc)\n",
    "        diff = x+acc - last\n",
    "        if np.abs(diff) > period:\n",
    "            if diff < 0:\n",
    "                acc += 2*period\n",
    "            if diff > 0:\n",
    "                acc -= 2*period\n",
    "        x += acc\n",
    "        last = x\n",
    "\n",
    "        return x\n",
    "    res = []\n",
    "    for x in x_arr:\n",
    "        res.append(unwrap_(x))\n",
    "    \n",
    "    return np.array(res)"
   ]
  },
  {
   "cell_type": "code",
   "execution_count": 60,
   "id": "517f3aa1-edff-4709-b5da-a8e5c552e756",
   "metadata": {},
   "outputs": [
    {
     "data": {
      "text/plain": [
       "[<matplotlib.lines.Line2D at 0x7fe3208355d0>]"
      ]
     },
     "execution_count": 60,
     "metadata": {},
     "output_type": "execute_result"
    },
    {
     "data": {
      "image/png": "[encoded data removed]",
      "text/plain": [
       "<Figure size 432x288 with 1 Axes>"
      ]
     },
     "metadata": {
      "needs_background": "light"
     },
     "output_type": "display_data"
    }
   ],
   "source": [
    "plt.plot(alpha)\n",
    "plt.plot(np.unwrap(alpha))\n",
    "plt.plot(unwrap(alpha))"
   ]
  },
  {
   "cell_type": "code",
   "execution_count": null,
   "id": "5de68cc3-d777-405d-aba8-9a6df5467d55",
   "metadata": {},
   "outputs": [],
   "source": []
  },
  {
   "cell_type": "code",
   "execution_count": null,
   "id": "88567890-e1f0-46eb-b5d6-6e69b7f3f28b",
   "metadata": {},
   "outputs": [],
   "source": []
  },
  {
   "cell_type": "code",
   "execution_count": null,
   "id": "5a8f567c-b981-42ec-a360-491eba02ee1c",
   "metadata": {},
   "outputs": [],
   "source": []
  }
 ],
 "metadata": {
  "kernelspec": {
   "display_name": "Python 3 (ipykernel)",
   "language": "python",
   "name": "python3"
  },
  "language_info": {
   "codemirror_mode": {
    "name": "ipython",
    "version": 3
   },
   "file_extension": ".py",
   "mimetype": "text/x-python",
   "name": "python",
   "nbconvert_exporter": "python",
   "pygments_lexer": "ipython3",
   "version": "3.7.13"
  }
 },
 "nbformat": 4,
 "nbformat_minor": 5
}
