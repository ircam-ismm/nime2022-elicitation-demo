{
 "cells": [
  {
   "cell_type": "code",
   "execution_count": 1,
   "id": "6fff58f5-393b-48ad-9a5e-1e4112244f2c",
   "metadata": {},
   "outputs": [],
   "source": [
    "from utils import *"
   ]
  },
  {
   "cell_type": "code",
   "execution_count": 2,
   "id": "9ab36d57-e636-45af-bdec-7886635541ad",
   "metadata": {},
   "outputs": [],
   "source": [
    "import pandas as pd"
   ]
  },
  {
   "cell_type": "code",
   "execution_count": 34,
   "id": "68f3b9a5-2ab3-4cbf-8951-305924fa5517",
   "metadata": {},
   "outputs": [],
   "source": [
    "def read_log(logfile):\n",
    "\n",
    "    data = []\n",
    "    segment = []\n",
    "    event = 'False'\n",
    "\n",
    "    with open(logfile) as f:\n",
    "        for i, line in enumerate(f):\n",
    "            line = eval(line.replace('null', 'False'))\n",
    "\n",
    "            if line['logtype'] == 'event':\n",
    "                if line['event'] == ['Start Condition 1']:\n",
    "                    event = 'c1'\n",
    "                if line['event'] == ['Start Condition 2']:\n",
    "                    event = 'c2'\n",
    "                if line['event'] == ['Familiarization']:\n",
    "                    event = 'c0'\n",
    "                \n",
    "                print(i, line)\n",
    "\n",
    "            if line['logtype'] == 'segment':\n",
    "                line['condition'] = event\n",
    "                segment.append(line)\n",
    "            if line['logtype'] == 'data':\n",
    "                line['condition'] = event\n",
    "                data.append(line)\n",
    "\n",
    "    return data, segment"
   ]
  },
  {
   "cell_type": "code",
   "execution_count": 21,
   "id": "d1d64194-4736-41ad-a406-1df2d39ba7ae",
   "metadata": {},
   "outputs": [
    {
     "name": "stdout",
     "output_type": "stream",
     "text": [
      "0 {'logtype': 'event', 'timestamp0': 228139, 'event': ['Familiarization']}\n"
     ]
    }
   ],
   "source": [
    "res, segment = read_log('../user_data/P1/2022-07-28T15-09-33.830Z.txt')"
   ]
  },
  {
   "cell_type": "code",
   "execution_count": null,
   "id": "4ea52bb5-79a9-465f-bf00-314e64465ce9",
   "metadata": {},
   "outputs": [],
   "source": []
  },
  {
   "cell_type": "code",
   "execution_count": 5,
   "id": "9b8738dc-5701-4bb5-b1b0-97afa4d58cdc",
   "metadata": {},
   "outputs": [],
   "source": [
    "pd.DataFrame(res).to_csv('step0.csv')"
   ]
  },
  {
   "cell_type": "code",
   "execution_count": 35,
   "id": "16da9bdc-63c1-4618-b30b-942d87f81d01",
   "metadata": {},
   "outputs": [
    {
     "name": "stdout",
     "output_type": "stream",
     "text": [
      "0 {'logtype': 'event', 'timestamp0': 283892, 'event': ['Start Condition 1']}\n",
      "25635 {'logtype': 'event', 'timestamp0': 643893, 'event': ['timer zero']}\n",
      "25637 {'logtype': 'event', 'timestamp0': 686345, 'event': ['Start Condition 2']}\n",
      "54854 {'logtype': 'event', 'timestamp0': 1046371, 'event': ['timer zero']}\n"
     ]
    }
   ],
   "source": [
    "res, segment = read_log('../user_data/P1/2022-07-28T15-10-29.580Z.txt')"
   ]
  },
  {
   "cell_type": "code",
   "execution_count": 25,
   "id": "cb089fa1-1597-4793-8a06-704c13108bf4",
   "metadata": {},
   "outputs": [],
   "source": [
    "res_df = pd.DataFrame(res)"
   ]
  },
  {
   "cell_type": "code",
   "execution_count": 12,
   "id": "f00bdc29-81c6-4d61-9051-f9a038034fc3",
   "metadata": {},
   "outputs": [],
   "source": [
    "select(res_df, condition='c1').to_csv('c1.csv')"
   ]
  },
  {
   "cell_type": "code",
   "execution_count": 13,
   "id": "ea8133ce-af0d-48b9-b80d-56bc745dd00b",
   "metadata": {},
   "outputs": [],
   "source": [
    "select(res_df, condition='c2').to_csv('c2.csv')"
   ]
  },
  {
   "cell_type": "code",
   "execution_count": null,
   "id": "ed8f2489-49d3-4d88-8fa7-ffe3aa2088e5",
   "metadata": {},
   "outputs": [],
   "source": []
  },
  {
   "cell_type": "code",
   "execution_count": null,
   "id": "6c585dec-ca6c-4037-8bac-33a998b9c3a5",
   "metadata": {},
   "outputs": [],
   "source": []
  },
  {
   "cell_type": "code",
   "execution_count": 36,
   "id": "13c7f2e9-120e-4de5-bbf7-53baad43263b",
   "metadata": {},
   "outputs": [],
   "source": [
    "segment = pd.DataFrame(segment)"
   ]
  },
  {
   "cell_type": "code",
   "execution_count": 37,
   "id": "30a14bd7-aa78-42ee-8542-78d4486f6c92",
   "metadata": {},
   "outputs": [
    {
     "data": {
      "text/html": [
       "<div>\n",
       "<style scoped>\n",
       "    .dataframe tbody tr th:only-of-type {\n",
       "        vertical-align: middle;\n",
       "    }\n",
       "\n",
       "    .dataframe tbody tr th {\n",
       "        vertical-align: top;\n",
       "    }\n",
       "\n",
       "    .dataframe thead th {\n",
       "        text-align: right;\n",
       "    }\n",
       "</style>\n",
       "<table border=\"1\" class=\"dataframe\">\n",
       "  <thead>\n",
       "    <tr style=\"text-align: right;\">\n",
       "      <th></th>\n",
       "      <th>then</th>\n",
       "      <th>fl</th>\n",
       "      <th>segment_id</th>\n",
       "      <th>worker_0</th>\n",
       "      <th>best_id</th>\n",
       "      <th>min_dtw</th>\n",
       "      <th>min_dtw_pond</th>\n",
       "      <th>worker_1</th>\n",
       "      <th>avg_dtw</th>\n",
       "      <th>dtw</th>\n",
       "      <th>logtype</th>\n",
       "      <th>random_novelty</th>\n",
       "      <th>condition</th>\n",
       "    </tr>\n",
       "  </thead>\n",
       "  <tbody>\n",
       "    <tr>\n",
       "      <th>0</th>\n",
       "      <td>2389.314165</td>\n",
       "      <td>31</td>\n",
       "      <td>0</td>\n",
       "      <td>2070.426888</td>\n",
       "      <td>0</td>\n",
       "      <td>0.000000</td>\n",
       "      <td>0.000000</td>\n",
       "      <td>2070.548560</td>\n",
       "      <td>0.000000</td>\n",
       "      <td>False</td>\n",
       "      <td>segment</td>\n",
       "      <td>0.839</td>\n",
       "      <td>c1</td>\n",
       "    </tr>\n",
       "    <tr>\n",
       "      <th>1</th>\n",
       "      <td>2580.995908</td>\n",
       "      <td>20</td>\n",
       "      <td>1</td>\n",
       "      <td>2261.270235</td>\n",
       "      <td>1</td>\n",
       "      <td>30.468331</td>\n",
       "      <td>1.194837</td>\n",
       "      <td>2262.147681</td>\n",
       "      <td>0.597418</td>\n",
       "      <td>2</td>\n",
       "      <td>segment</td>\n",
       "      <td>0.343</td>\n",
       "      <td>c1</td>\n",
       "    </tr>\n",
       "    <tr>\n",
       "      <th>2</th>\n",
       "      <td>2759.955577</td>\n",
       "      <td>17</td>\n",
       "      <td>2</td>\n",
       "      <td>2440.205404</td>\n",
       "      <td>2</td>\n",
       "      <td>8.206772</td>\n",
       "      <td>0.443609</td>\n",
       "      <td>2440.863569</td>\n",
       "      <td>0.546149</td>\n",
       "      <td>0.81225</td>\n",
       "      <td>segment</td>\n",
       "      <td>0.529</td>\n",
       "      <td>c1</td>\n",
       "    </tr>\n",
       "    <tr>\n",
       "      <th>3</th>\n",
       "      <td>3033.429436</td>\n",
       "      <td>27</td>\n",
       "      <td>3</td>\n",
       "      <td>2713.710510</td>\n",
       "      <td>3</td>\n",
       "      <td>10.186304</td>\n",
       "      <td>0.433460</td>\n",
       "      <td>2716.332614</td>\n",
       "      <td>0.517976</td>\n",
       "      <td>0.836833</td>\n",
       "      <td>segment</td>\n",
       "      <td>0.281</td>\n",
       "      <td>c1</td>\n",
       "    </tr>\n",
       "    <tr>\n",
       "      <th>4</th>\n",
       "      <td>3221.122196</td>\n",
       "      <td>20</td>\n",
       "      <td>4</td>\n",
       "      <td>2901.463014</td>\n",
       "      <td>2</td>\n",
       "      <td>4.704878</td>\n",
       "      <td>0.254318</td>\n",
       "      <td>2903.000634</td>\n",
       "      <td>0.465245</td>\n",
       "      <td>0.546632</td>\n",
       "      <td>segment</td>\n",
       "      <td>0.715</td>\n",
       "      <td>c1</td>\n",
       "    </tr>\n",
       "  </tbody>\n",
       "</table>\n",
       "</div>"
      ],
      "text/plain": [
       "          then  fl  segment_id     worker_0  best_id    min_dtw  min_dtw_pond  \\\n",
       "0  2389.314165  31           0  2070.426888        0   0.000000      0.000000   \n",
       "1  2580.995908  20           1  2261.270235        1  30.468331      1.194837   \n",
       "2  2759.955577  17           2  2440.205404        2   8.206772      0.443609   \n",
       "3  3033.429436  27           3  2713.710510        3  10.186304      0.433460   \n",
       "4  3221.122196  20           4  2901.463014        2   4.704878      0.254318   \n",
       "\n",
       "      worker_1   avg_dtw       dtw  logtype  random_novelty condition  \n",
       "0  2070.548560  0.000000     False  segment           0.839        c1  \n",
       "1  2262.147681  0.597418         2  segment           0.343        c1  \n",
       "2  2440.863569  0.546149   0.81225  segment           0.529        c1  \n",
       "3  2716.332614  0.517976  0.836833  segment           0.281        c1  \n",
       "4  2903.000634  0.465245  0.546632  segment           0.715        c1  "
      ]
     },
     "execution_count": 37,
     "metadata": {},
     "output_type": "execute_result"
    }
   ],
   "source": [
    "segment.head()"
   ]
  },
  {
   "cell_type": "code",
   "execution_count": 38,
   "id": "b9f9038e-b7e4-40ea-834c-336cc8eab4fd",
   "metadata": {},
   "outputs": [
    {
     "data": {
      "text/plain": [
       "<AxesSubplot:>"
      ]
     },
     "execution_count": 38,
     "metadata": {},
     "output_type": "execute_result"
    },
    {
     "data": {
      "image/png": "[encoded data removed]",
      "text/plain": [
       "<Figure size 432x288 with 1 Axes>"
      ]
     },
     "metadata": {
      "needs_background": "light"
     },
     "output_type": "display_data"
    }
   ],
   "source": [
    "data = select(segment, condition='c1')\n",
    "(data['min_dtw_pond'] > 1).cumsum().plot()"
   ]
  },
  {
   "cell_type": "code",
   "execution_count": 39,
   "id": "0ddc1961-9fce-432c-a1d7-77b3011afdd0",
   "metadata": {},
   "outputs": [
    {
     "data": {
      "text/plain": [
       "<AxesSubplot:>"
      ]
     },
     "execution_count": 39,
     "metadata": {},
     "output_type": "execute_result"
    },
    {
     "data": {
      "image/png": "[encoded data removed]",
      "text/plain": [
       "<Figure size 432x288 with 1 Axes>"
      ]
     },
     "metadata": {
      "needs_background": "light"
     },
     "output_type": "display_data"
    }
   ],
   "source": [
    "data = select(segment, condition='c2')\n",
    "(data['min_dtw_pond'] > 1).cumsum().plot()"
   ]
  },
  {
   "cell_type": "code",
   "execution_count": null,
   "id": "541a8771-c268-4e0e-bec2-6bf016855add",
   "metadata": {},
   "outputs": [],
   "source": []
  }
 ],
 "metadata": {
  "kernelspec": {
   "display_name": "Python 3 (ipykernel)",
   "language": "python",
   "name": "python3"
  },
  "language_info": {
   "codemirror_mode": {
    "name": "ipython",
    "version": 3
   },
   "file_extension": ".py",
   "mimetype": "text/x-python",
   "name": "python",
   "nbconvert_exporter": "python",
   "pygments_lexer": "ipython3",
   "version": "3.7.13"
  }
 },
 "nbformat": 4,
 "nbformat_minor": 5
}
